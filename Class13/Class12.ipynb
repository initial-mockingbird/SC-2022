{
 "cells": [
  {
   "cell_type": "code",
   "execution_count": 1,
   "metadata": {
    "vscode": {
     "languageId": "c++"
    }
   },
   "outputs": [],
   "source": [
    "#include <iostream> \n",
    "#include <stdlib.h> \n",
    "#include <string>   \n",
    "#include <cmath>    \n",
    "#include <stdexcept>\n",
    "#include <type_traits>\n",
    "//using namespace std;\n"
   ]
  },
  {
   "cell_type": "markdown",
   "metadata": {},
   "source": [
    "# Grafos!\n",
    "\n",
    "- Un grafo es una generalizacion de arboles.\n",
    "- Formalmente, podemos pensar los grafos como una tupla de conjuntos $(V,E)$.\n",
    "- $V$ es conocido como el conjunto de vertices o nodos.\n",
    "- $E$ es conocido como el conjunto de aristas, y son pares de la forma $(v,u)$ con $v,u \\in V$\n",
    "\n",
    "Ejemplo:\n",
    "\n",
    "<center>\n",
    "\n",
    "![grafo](https://upload.wikimedia.org/wikipedia/commons/thumb/5/51/Directed_graph.svg/800px-Directed_graph.svg.png)\n",
    "\n",
    "</center>\n",
    "\n",
    "\n",
    "En el ejemplo tenemos que:\n",
    "- $V = \\{1,2,3,4 \\}$\n",
    "- $E = \\{(1,2),(1,3),(3,2),(3,4),(4,3) \\}$\n",
    "\n",
    "Adicionalmente, podemos tener dos clases de grafos:\n",
    "\n",
    "- Los grafos dirigidos, en donde la direccion de las aristas importan (como el ejemplo anterior), es decir que $(a,b) \\not = (b,a)$, estos  suelen representarse con flechas: $\\rightarrow$ para indicar direccion. Adicionalmente si $(a,b) \\in E$, decimos que $b$ es sucesor de $a$, y que $a$ es predecesor de $b$.\n",
    "- Los grafos no dirigidos, en donde la direccion de las aristas en realidad no importan, es decir que $(a,b) = (b,a)$, estos suelen representarse con lineas para indicar direccion.\n",
    "\n",
    "<center>\n",
    "\n",
    "![](https://www.researchgate.net/profile/Hakan-Terelius/publication/265428782/figure/fig3/AS:669498856194058@1536632374537/An-undirected-graph-with-7-nodes-and-7-edges.png)\n",
    "\n",
    "</center>\n"
   ]
  },
  {
   "cell_type": "markdown",
   "metadata": {},
   "source": [
    "# Sin embargo....\n",
    "\n",
    "Decir que un grafo es solo un par $(V,E)$ no es algo realmente super util, por lo tanto, debemos proveer una interfaz con la que podamos interactuar con el, usualmente la interfaz minima tendra las siguientes funciones:\n",
    "\n",
    "- `succs(n)`: obtiene todos los sucesores del nodo `n`\n",
    "- `preds(n)`: obtiene todos los predecesores del nodo `n`\n",
    "- `edges()` : obtiene todas las aristas del grafo.\n",
    "- `nodes()` : obtiene todos los nodos del grafo.\n",
    "- `addNone(n)` : añade el nodo `n` al grafo.\n",
    "- `addEdge(e)` : añade la arista `e` al grafo.\n",
    "\n",
    "Ahora, veremos las formas clasicas de representar grafos:\n"
   ]
  },
  {
   "cell_type": "markdown",
   "metadata": {},
   "source": [
    "# Sabor 1: Lista de adyacencia\n",
    "\n",
    "Hay muchas maneras en que se puede modelar un grafo (matriz de adyacencia, grafos inductivos, punteros), pero entre todas, la mas popular es definitivamente la lista de adyacencia. Imaginemos que tenemos el siguiente grafo dirigido:\n",
    "\n",
    "<center>\n",
    "\n",
    "![](https://www.researchgate.net/profile/Hakan-Terelius/publication/265428782/figure/fig4/AS:669498856185861@1536632374551/A-directed-graph-with-7-nodes-and-9-edges.png)\n",
    "\n",
    "</center>\n",
    "\n",
    "En memoria, podriamos representar esto como un arreglo de listas, en donde cada lista contiene los sucesores:\n",
    "\n",
    "<center>\n",
    "\n",
    "```c++\n",
    "[1 -> [2,4]   ]\n",
    "[2 -> [3]     ]\n",
    "[3 -> [4,5]   ]\n",
    "[4 -> [1]     ]\n",
    "[5 -> [3,6,7] ]\n",
    "[6 -> []      ]\n",
    "[7 -> []      ]\n",
    "```\n",
    "\n",
    "</center>\n",
    "\n",
    "Como se programarian las operaciones fundamentales? Cual seria su complejidad?\n",
    "\n"
   ]
  },
  {
   "cell_type": "markdown",
   "metadata": {},
   "source": [
    "# Sabor 2: Matriz de adyacencia\n",
    "\n",
    "Utilizando el mismo grafo, crearemos una matriz $M = N\\times N$, ($N$ es la cantidad de nodos), en donde la entrada $M[a][b]=1$ si $(a,b)$ es una arista del grafo:\n",
    "\n",
    "<center>\n",
    "\n",
    "```c++\n",
    "   1 2 3 4 5 6 7\n",
    "1 [0,1,0,1,0,0,0]\n",
    "2 [0,0,1,0,0,0,0]\n",
    "3 [0,0,0,1,1,0,0]\n",
    "4 [1,0,0,0,0,0,0]\n",
    "5 [0,0,1,0,0,1,1]\n",
    "6 [0,0,0,0,0,0,0]\n",
    "7 [0,0,0,0,0,0,0]\n",
    "```\n",
    "\n",
    "</center>\n",
    "\n",
    "Como se programarian las operaciones fundamentales? Cual seria su complejidad?\n"
   ]
  },
  {
   "cell_type": "markdown",
   "metadata": {},
   "source": [
    "# Pero... Que hay sobre los grafos no dirigidos?\n",
    "\n",
    "Para la lista de adyacencia hay dos sabores:\n",
    "\n",
    "- se hace doble insercion y doble eliminacion: cada vez que se quiera insertar/eliminar $(a,b)$, se inserta/elimina $(b,a)$ tambien. Esto hace que la operacion de sucesor se mantenga igual que en los grafos dirigidos, y la operacion predecesor desaparezca (obtener los predecesores en un grafo no dirigido, es lo mismo que obtenerlos en grafos dirigidos).\n",
    "- Se hace solo una insercion... lo cual significa que encontrar los sucesores se convierte en encontrar los predecesores.... muy costoso en tiempo, no se suele usar\n",
    "\n",
    "Para la matriz de adyacencia: doble insercion y eliminacion!, cada vez que queramos insertar $(a,b)$, insertamos $(b,a)$ tambien, lo que significa que si $M$ es la matriz que representa a un grafo dirigido, entonces $M[a][b]=M[b][a]$ (la matriz es simetrica).\n"
   ]
  },
  {
   "cell_type": "markdown",
   "metadata": {},
   "source": [
    "# Comparacion!\n",
    "\n",
    "Generalente usamos la listas de adyacencia cuando el grafo no es denso, es decir, cuando $|E| << |V^2|$, esto es porque la mitad de las operaciones tendran orden lineal, pero mas importante aun: se necesita memoria lineal.\n",
    "\n",
    "Por otro lado, si el grafo es denso, es decir: $|E| \\simeq |V^2|$, es preferible usar la representacion de matriz, puesto que TODAS las operaciones pasan a tener orden lineal, y se usa todo el espacio que se necesita.\n"
   ]
  },
  {
   "cell_type": "markdown",
   "metadata": {},
   "source": [
    "# Alcanzables\n",
    "\n",
    "Dado un grafo dirigido $G=(V,E)$, y un nodo $v \\in V$, retornar una lista con todos los nodos que son alcanzables desde $v$ (son descendientes de alguno de los sucesores de $v$).\n",
    "\n",
    "\n"
   ]
  },
  {
   "cell_type": "markdown",
   "metadata": {},
   "source": [
    "# Sabor 1: BFS (Breadth First Search / Busqueda por anchura)\n",
    "\n",
    "La manera en que BFS funciona es relativamente simple:\n",
    "\n",
    "- Tenemos tres contenedores: `current`, `next`,`visited`.\n",
    "- Inicializamos `current` con el primer vertice.\n",
    "- En cada iteracion, buscamos todos los los sucesores de cada vertice en `current`, y los añadimos en `next` si y solo si no pertenecen a `visited`\n",
    "- actualizamos `visited` con los nodos en `current`.\n",
    "- intercambiamos `current` con `next`\n",
    "- repetimos hasta que `current` sea vacio.\n",
    "\n",
    "Supongamos que tenemos el siguiente grafo:\n",
    "\n",
    "<center>\n",
    "\n",
    "![](./imgs/bfs1.JPG)\n",
    "\n",
    "</center>\n",
    "\n",
    "Y queremos encontrar los alcanzables de `B`.... (Corrida en vivo).\n",
    "\n"
   ]
  },
  {
   "cell_type": "markdown",
   "metadata": {},
   "source": [
    "# Sabor 2: DFS (Depth First Search / Busqueda en profundiad)\n",
    "\n",
    "DFS al cambio, explora un nodo a la vez:\n",
    "\n",
    "- Visitamos el nodo actual\n",
    "- Lo marcamos como visitado\n",
    "- recursivamente vamos visitando los sucesores hasta volver al nodo inicial.\n",
    "\n",
    "Con el mismo grafo.... Encontramos los alcanzanles de `B`... (Corrida en vivo).\n"
   ]
  },
  {
   "cell_type": "markdown",
   "metadata": {},
   "source": [
    "# Babyfaces vs heels\n",
    "\n",
    "There are two types of professional wrestlers: “babyfaces” (“good guys”) and\n",
    "“heels” (“bad guys”). Between any pair of professional wrestlers, there may or\n",
    "may not be a rivalry. Suppose we have `n` professional wrestlers and we have a list\n",
    "of r pairs of wrestlers for which there are rivalries. Give an $O(n+r)$ time algorithm\n",
    "that determines whether it is possible to designate some of the wrestlers as\n",
    "babyfaces and the remainder as heels such that each rivalry is between a babyface\n",
    "and a heel. If it is possible to perform such a designation, your algorithm should\n",
    "produce it.\n",
    "\n",
    "## Example\n",
    "\n",
    "\n",
    "```c++\n",
    "input: \n",
    "wrestlers = [a,b,c,d,e]\n",
    "rivalries = [(a,b),(a,c),(b,d),(c,d)]\n",
    "true, a possible partition would be:\n",
    "\n",
    "babyfaces: a,d,e\n",
    "heels: b,c\n",
    "```"
   ]
  },
  {
   "cell_type": "markdown",
   "metadata": {},
   "source": [
    "# Encontrando ciclos!\n",
    "\n",
    "Dado un grafo $G=(V,E)$, determinar si $G$ posee ciclos....\n"
   ]
  },
  {
   "cell_type": "markdown",
   "metadata": {},
   "source": [
    "## Con DFS!\n",
    "\n",
    "- Tenemos un contador global `counter`\n",
    "- Añadimos dos contadores a cada nodo: `open` y `close`.\n",
    "- Cuando descubrimos un nodo, seteamos su `open` al contador global\n",
    "- Cuando terminamos de explorar todos los sucesores, seteamos el `close` en el contador global de nuevo.\n",
    "- Existe un ciclo, si hay un arco `(u,v)` tal que `v.open < u.close` y `u.close < v.close`.\n",
    "\n",
    "Por que? veamos el mismo grafo...\n"
   ]
  },
  {
   "cell_type": "markdown",
   "metadata": {},
   "source": [
    "# Numero de caminos simples\n",
    "\n",
    "Un camino simple: `P=<s,u,....,v,t>` es un camino en el cual no se repite ningun nodo.\n",
    "\n",
    "Se quiere que presente un algoritmo, llamado `numeroDeCaminos`, que tenga como\n",
    "entrada a un digrafo acıclico `G`, un vertice de partida `s`, un vertice de llegada `t`\n",
    "y que retorne como resultado el numero total de caminos simples desde `s` hasta `t`.\n",
    "Por ejemplo, si se aplica el algoritmo `numeroDeCaminos` al grafo de la Figura 4,\n",
    "con vertice de partida `d` y vertice de llegada `j`, se tiene que retorna como respuesta\n",
    "cuatro. Esto es porque hay cuatro caminos, que son `d -> c -> j`, `d -> g -> f -> m -> j`,\n",
    "`d -> c -> f -> m -> j` y `d -> c -> g -> f -> m -> j`. El tiempo del algoritmo tiene que\n",
    "ser lineal.\n",
    "\n",
    "<center>\n",
    "\n",
    "![](./imgs/dag.JPG)\n",
    "\n",
    "</center>"
   ]
  },
  {
   "cell_type": "markdown",
   "metadata": {},
   "source": [
    "# Reorder Routes to Make All Paths Lead to the City Zero\n",
    "\n",
    "There are n cities numbered from 0 to n - 1 and n - 1 roads such that there is only one way to travel between two different cities (this network form a tree). Last year, The ministry of transport decided to orient the roads in one direction because they are too narrow.\n",
    "\n",
    "Roads are represented by connections where connections[i] = [ai, bi] represents a road from city ai to city bi.\n",
    "\n",
    "This year, there will be a big event in the capital (city 0), and many people want to travel to this city.\n",
    "\n",
    "Your task consists of reorienting some roads such that each city can visit the city 0. Return the minimum number of edges changed.\n",
    "\n",
    "It's guaranteed that each city can reach city 0 after reorder.\n",
    "\n",
    "## Example 1\n",
    "\n",
    "<center>\n",
    "\n",
    "![](https://assets.leetcode.com/uploads/2020/05/13/sample_1_1819.png)\n",
    "\n",
    "</center>\n",
    "\n",
    "\n",
    "```c++\n",
    "Input: n = 6, connections = [[0,1],[1,3],[2,3],[4,0],[4,5]]\n",
    "Output: 3\n",
    "Explanation: Change the direction of edges show in red such that each node can reach the node 0 (capital).\n",
    "```\n",
    "\n",
    "## Solucion.... \n",
    "\n",
    "Usando matriz de adyacencias y razonamiento analogo a un bottom up approach!"
   ]
  },
  {
   "cell_type": "markdown",
   "metadata": {},
   "source": [
    "# Tarea!\n",
    "\n",
    "- Dado un Grafo aciclico $g$ y un vertice inicial $s$, retornar la altura minima entre todos los posibles arboles que este puede formar.\n",
    "- https://leetcode.com/problems/minimum-number-of-vertices-to-reach-all-nodes/\n",
    "- https://leetcode.com/problems/redundant-connection/"
   ]
  }
 ],
 "metadata": {
  "interpreter": {
   "hash": "9e3ecf769eac0321e9aab2b86f298cd61edd9ba96a03b97b489f7cba8f77f423"
  },
  "kernelspec": {
   "display_name": "C++14",
   "language": "C++14",
   "name": "xcpp14"
  },
  "language_info": {
   "codemirror_mode": "text/x-c++src",
   "file_extension": ".cpp",
   "mimetype": "text/x-c++src",
   "name": "C++14",
   "version": "14"
  },
  "orig_nbformat": 4
 },
 "nbformat": 4,
 "nbformat_minor": 2
}
