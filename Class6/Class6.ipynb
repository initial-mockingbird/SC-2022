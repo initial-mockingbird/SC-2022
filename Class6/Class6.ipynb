{
 "cells": [
  {
   "cell_type": "code",
   "execution_count": 1,
   "metadata": {},
   "outputs": [],
   "source": [
    "#include <iostream> // Para imprimir\n",
    "#include <stdlib.h> // Malloc/free\n",
    "#include <string>   // Jupyter no permite cosas tipo cout << 0.5 por cuestiones de tipo (<< esta definido\n",
    "                    // tanto para strings como para numeros, cual deberia tomar? error!), asi que necesitamos castear cada cosa a string.\n",
    "#include <cmath>    // math\n",
    "#include <utility>\n",
    "#include <string>\n",
    "#include <unordered_map>\n",
    "#include <iterator>\n",
    "#include <list>\n",
    "using namespace std;\n"
   ]
  },
  {
   "cell_type": "markdown",
   "metadata": {},
   "source": [
    "# Determinar si un numero es primo.\n",
    "\n",
    "Recordemos, un numero $p > 1$ es primo si los unicos enteros positivos que lo dividen son $1$ y el mismo...."
   ]
  },
  {
   "cell_type": "code",
   "execution_count": 2,
   "metadata": {},
   "outputs": [],
   "source": [
    "// O(n)\n",
    "bool naivePrimeTest(long long n){\n",
    "    for (int i = 2; i <n-1; i++){\n",
    "        if ((n % i) == 0)\n",
    "            return false;\n",
    "    }\n",
    "    return true;\n",
    "}"
   ]
  },
  {
   "cell_type": "code",
   "execution_count": 3,
   "metadata": {},
   "outputs": [
    {
     "name": "stdout",
     "output_type": "stream",
     "text": [
      "1\n",
      "0\n",
      "0\n",
      "0\n",
      "0\n"
     ]
    }
   ],
   "source": [
    "cout << naivePrimeTest(5) << endl << naivePrimeTest(6) << endl << naivePrimeTest(27) << endl << naivePrimeTest(55) << endl << naivePrimeTest(1029) << endl;"
   ]
  },
  {
   "cell_type": "markdown",
   "metadata": {},
   "source": [
    "Analicemos un segundo los dividores (primos) de cada elemento:\n",
    "\n",
    "* 5 no posee divisores primos\n",
    "* 6: 2,3\n",
    "* 27: 3\n",
    "* 55: 11 * 5\n",
    "* 1029: 3,7\n",
    "\n",
    "Y comparemoslos con la raiz de cada numero:\n",
    "\n",
    "<center>\n",
    "\n",
    "| $n$  | prime divisors | $\\sim \\sqrt{n}$ |\n",
    "|------|----------------|-----------------|\n",
    "| 4    | 2              | 2               |\n",
    "| 5    | n/a            | 2.23            |\n",
    "| 6    | 2,3            | 2.44            |\n",
    "| 27   | 3              | 5.19            |\n",
    "| 55   | 5,11           | 7.41            |\n",
    "| 1029 | 3,7            | 32.07           |\n",
    "\n",
    "</center>\n",
    "\n",
    "En **todos** los casos, el minimo de los divisores primos es menor o igual a la raiz del numero. La razon de esto es:\n",
    "\n",
    "\n",
    "Supongamos que $p$ es el *menor* divisor primo de $n$, eso quiere decir que debe existir un $a$ que cumpla la siguiente igualdad (definicion de divisibilidad):\n",
    "\n",
    "$$\n",
    "p \\cdot a = n\n",
    "$$\n",
    "\n",
    "Ahora, si **no** se cumpliera que $p \\leq \\sqrt{n}$, o en otras palabras, si $p > \\sqrt{n}$ (y por tanto, $a > \\sqrt{n}$), se tendria que:\n",
    "\n",
    "$$\n",
    "p \\cdot a > \\sqrt{n} \\cdot a > \\sqrt{n} \\cdot \\sqrt{n} = n\n",
    "$$\n",
    "\n",
    "Y esto es una contradiccion! acabamos de demostrar que $p \\cdot a > n$, pero esto no puede ser, porque partimos de que $p \\cdot a = n$.\n"
   ]
  },
  {
   "cell_type": "code",
   "execution_count": 4,
   "metadata": {},
   "outputs": [],
   "source": [
    "// O(sqrt(n))\n",
    "bool betterPrimeTest(unsigned long long n){\n",
    "    // i <= sqrt(n)\n",
    "    // i^2 <= n\n",
    "    // i*i <= n\n",
    "    for (int i = 2; i*i <= n; i++){\n",
    "        if ((n % i) == 0)\n",
    "            return false;\n",
    "    }\n",
    "\n",
    "    return true;\n",
    "}"
   ]
  },
  {
   "cell_type": "code",
   "execution_count": 5,
   "metadata": {},
   "outputs": [
    {
     "name": "stdout",
     "output_type": "stream",
     "text": [
      "1\n",
      "0\n",
      "0\n",
      "0\n",
      "0\n"
     ]
    }
   ],
   "source": [
    "cout << betterPrimeTest(5) << endl << betterPrimeTest(6) << endl << betterPrimeTest(27) << endl << betterPrimeTest(55) << endl << betterPrimeTest(1029) << endl ;"
   ]
  },
  {
   "cell_type": "code",
   "execution_count": 6,
   "metadata": {},
   "outputs": [
    {
     "name": "stdout",
     "output_type": "stream",
     "text": [
      "i: 2 Is prime: 1\n",
      "i: 3 Is prime: 1\n",
      "i: 4 Is prime: 0\n",
      "i: 5 Is prime: 1\n",
      "i: 6 Is prime: 0\n",
      "i: 7 Is prime: 1\n",
      "i: 8 Is prime: 0\n",
      "i: 9 Is prime: 0\n",
      "i: 10 Is prime: 0\n",
      "i: 11 Is prime: 1\n",
      "i: 12 Is prime: 0\n",
      "i: 13 Is prime: 1\n",
      "i: 14 Is prime: 0\n",
      "i: 15 Is prime: 0\n",
      "i: 16 Is prime: 0\n",
      "i: 17 Is prime: 1\n",
      "i: 18 Is prime: 0\n",
      "i: 19 Is prime: 1\n",
      "i: 20 Is prime: 0\n",
      "i: 21 Is prime: 0\n",
      "i: 22 Is prime: 0\n",
      "i: 23 Is prime: 1\n",
      "i: 24 Is prime: 0\n",
      "i: 25 Is prime: 0\n",
      "i: 26 Is prime: 0\n",
      "i: 27 Is prime: 0\n",
      "i: 28 Is prime: 0\n",
      "i: 29 Is prime: 1\n",
      "i: 30 Is prime: 0\n",
      "i: 31 Is prime: 1\n",
      "i: 32 Is prime: 0\n",
      "i: 33 Is prime: 0\n",
      "i: 34 Is prime: 0\n",
      "i: 35 Is prime: 0\n",
      "i: 36 Is prime: 0\n",
      "i: 37 Is prime: 1\n",
      "i: 38 Is prime: 0\n",
      "i: 39 Is prime: 0\n",
      "i: 40 Is prime: 0\n",
      "i: 41 Is prime: 1\n",
      "i: 42 Is prime: 0\n",
      "i: 43 Is prime: 1\n",
      "i: 44 Is prime: 0\n",
      "i: 45 Is prime: 0\n",
      "i: 46 Is prime: 0\n",
      "i: 47 Is prime: 1\n",
      "i: 48 Is prime: 0\n",
      "i: 49 Is prime: 0\n",
      "i: 50 Is prime: 0\n",
      "i: 51 Is prime: 0\n",
      "i: 52 Is prime: 0\n",
      "i: 53 Is prime: 1\n",
      "i: 54 Is prime: 0\n",
      "i: 55 Is prime: 0\n",
      "i: 56 Is prime: 0\n",
      "i: 57 Is prime: 0\n",
      "i: 58 Is prime: 0\n",
      "i: 59 Is prime: 1\n",
      "i: 60 Is prime: 0\n",
      "i: 61 Is prime: 1\n",
      "i: 62 Is prime: 0\n",
      "i: 63 Is prime: 0\n",
      "i: 64 Is prime: 0\n",
      "i: 65 Is prime: 0\n",
      "i: 66 Is prime: 0\n",
      "i: 67 Is prime: 1\n",
      "i: 68 Is prime: 0\n",
      "i: 69 Is prime: 0\n",
      "i: 70 Is prime: 0\n",
      "i: 71 Is prime: 1\n",
      "i: 72 Is prime: 0\n",
      "i: 73 Is prime: 1\n",
      "i: 74 Is prime: 0\n",
      "i: 75 Is prime: 0\n",
      "i: 76 Is prime: 0\n",
      "i: 77 Is prime: 0\n",
      "i: 78 Is prime: 0\n",
      "i: 79 Is prime: 1\n",
      "i: 80 Is prime: 0\n",
      "i: 81 Is prime: 0\n",
      "i: 82 Is prime: 0\n",
      "i: 83 Is prime: 1\n",
      "i: 84 Is prime: 0\n",
      "i: 85 Is prime: 0\n",
      "i: 86 Is prime: 0\n",
      "i: 87 Is prime: 0\n",
      "i: 88 Is prime: 0\n",
      "i: 89 Is prime: 1\n",
      "i: 90 Is prime: 0\n",
      "i: 91 Is prime: 0\n",
      "i: 92 Is prime: 0\n",
      "i: 93 Is prime: 0\n",
      "i: 94 Is prime: 0\n",
      "i: 95 Is prime: 0\n",
      "i: 96 Is prime: 0\n",
      "i: 97 Is prime: 1\n",
      "i: 98 Is prime: 0\n",
      "i: 99 Is prime: 0\n"
     ]
    }
   ],
   "source": [
    "for (int i = 2; i < 100; i++){\n",
    "    cout << \"i: \" << i ;\n",
    "    cout << \" Is prime: \" << betterPrimeTest(i) << endl;\n",
    "}"
   ]
  },
  {
   "cell_type": "code",
   "execution_count": 7,
   "metadata": {},
   "outputs": [],
   "source": [
    "// O(sqrt(n) / 2) = O(sqrt(n))\n",
    "bool masMejorPrimeTest(unsigned long long n){\n",
    "    if (n == 2)\n",
    "        return true;\n",
    "    \n",
    "    for (int i = 3; i*i <= n; i+=2){\n",
    "        if ((n % i) == 0)\n",
    "            return false;\n",
    "    }\n",
    "    return true;\n",
    "}"
   ]
  },
  {
   "cell_type": "code",
   "execution_count": 8,
   "metadata": {},
   "outputs": [
    {
     "name": "stdout",
     "output_type": "stream",
     "text": [
      "i: 2 Is prime: 1\n",
      "i: 3 Is prime: 1\n",
      "i: 4 Is prime: 0\n",
      "i: 5 Is prime: 1\n",
      "i: 6 Is prime: 0\n",
      "i: 7 Is prime: 1\n",
      "i: 8 Is prime: 0\n",
      "i: 9 Is prime: 0\n",
      "i: 10 Is prime: 0\n",
      "i: 11 Is prime: 1\n",
      "i: 12 Is prime: 0\n",
      "i: 13 Is prime: 1\n",
      "i: 14 Is prime: 0\n",
      "i: 15 Is prime: 0\n",
      "i: 16 Is prime: 0\n",
      "i: 17 Is prime: 1\n",
      "i: 18 Is prime: 0\n",
      "i: 19 Is prime: 1\n",
      "i: 20 Is prime: 0\n",
      "i: 21 Is prime: 0\n",
      "i: 22 Is prime: 0\n",
      "i: 23 Is prime: 1\n",
      "i: 24 Is prime: 0\n",
      "i: 25 Is prime: 0\n",
      "i: 26 Is prime: 0\n",
      "i: 27 Is prime: 0\n",
      "i: 28 Is prime: 0\n",
      "i: 29 Is prime: 1\n",
      "i: 30 Is prime: 0\n",
      "i: 31 Is prime: 1\n",
      "i: 32 Is prime: 0\n",
      "i: 33 Is prime: 0\n",
      "i: 34 Is prime: 0\n",
      "i: 35 Is prime: 0\n",
      "i: 36 Is prime: 0\n",
      "i: 37 Is prime: 1\n",
      "i: 38 Is prime: 0\n",
      "i: 39 Is prime: 0\n",
      "i: 40 Is prime: 0\n",
      "i: 41 Is prime: 1\n",
      "i: 42 Is prime: 0\n",
      "i: 43 Is prime: 1\n",
      "i: 44 Is prime: 0\n",
      "i: 45 Is prime: 0\n",
      "i: 46 Is prime: 0\n",
      "i: 47 Is prime: 1\n",
      "i: 48 Is prime: 0\n",
      "i: 49 Is prime: 0\n",
      "i: 50 Is prime: 0\n",
      "i: 51 Is prime: 0\n",
      "i: 52 Is prime: 0\n",
      "i: 53 Is prime: 1\n",
      "i: 54 Is prime: 0\n",
      "i: 55 Is prime: 0\n",
      "i: 56 Is prime: 0\n",
      "i: 57 Is prime: 0\n",
      "i: 58 Is prime: 0\n",
      "i: 59 Is prime: 1\n",
      "i: 60 Is prime: 0\n",
      "i: 61 Is prime: 1\n",
      "i: 62 Is prime: 0\n",
      "i: 63 Is prime: 0\n",
      "i: 64 Is prime: 0\n",
      "i: 65 Is prime: 0\n",
      "i: 66 Is prime: 0\n",
      "i: 67 Is prime: 1\n",
      "i: 68 Is prime: 0\n",
      "i: 69 Is prime: 0\n",
      "i: 70 Is prime: 0\n",
      "i: 71 Is prime: 1\n",
      "i: 72 Is prime: 0\n",
      "i: 73 Is prime: 1\n",
      "i: 74 Is prime: 0\n",
      "i: 75 Is prime: 0\n",
      "i: 76 Is prime: 0\n",
      "i: 77 Is prime: 0\n",
      "i: 78 Is prime: 0\n",
      "i: 79 Is prime: 1\n",
      "i: 80 Is prime: 0\n",
      "i: 81 Is prime: 0\n",
      "i: 82 Is prime: 0\n",
      "i: 83 Is prime: 1\n",
      "i: 84 Is prime: 0\n",
      "i: 85 Is prime: 0\n",
      "i: 86 Is prime: 0\n",
      "i: 87 Is prime: 0\n",
      "i: 88 Is prime: 0\n",
      "i: 89 Is prime: 1\n",
      "i: 90 Is prime: 0\n",
      "i: 91 Is prime: 0\n",
      "i: 92 Is prime: 0\n",
      "i: 93 Is prime: 0\n",
      "i: 94 Is prime: 0\n",
      "i: 95 Is prime: 0\n",
      "i: 96 Is prime: 0\n",
      "i: 97 Is prime: 1\n",
      "i: 98 Is prime: 0\n",
      "i: 99 Is prime: 0\n"
     ]
    }
   ],
   "source": [
    "for (int i = 2; i < 100; i++){\n",
    "    cout << \"i: \" << i ;\n",
    "    cout << \" Is prime: \" << betterPrimeTest(i) << endl;\n",
    "}"
   ]
  },
  {
   "cell_type": "markdown",
   "metadata": {},
   "source": [
    "Nos dimos cuenta que podemos excluir todos los numeros pares (multiplos de 2).\n",
    "\n",
    "Ahora, notemos algo bien particular:\n"
   ]
  },
  {
   "cell_type": "code",
   "execution_count": 9,
   "metadata": {},
   "outputs": [
    {
     "name": "stdout",
     "output_type": "stream",
     "text": [
      "i: 5; i / 6: 0; i % 6: 5\n",
      "i: 7; i / 6: 1; i % 6: 1\n",
      "i: 11; i / 6: 1; i % 6: 5\n",
      "i: 13; i / 6: 2; i % 6: 1\n",
      "i: 17; i / 6: 2; i % 6: 5\n",
      "i: 19; i / 6: 3; i % 6: 1\n",
      "i: 23; i / 6: 3; i % 6: 5\n",
      "i: 29; i / 6: 4; i % 6: 5\n",
      "i: 31; i / 6: 5; i % 6: 1\n",
      "i: 37; i / 6: 6; i % 6: 1\n",
      "i: 41; i / 6: 6; i % 6: 5\n",
      "i: 43; i / 6: 7; i % 6: 1\n",
      "i: 47; i / 6: 7; i % 6: 5\n",
      "i: 53; i / 6: 8; i % 6: 5\n",
      "i: 59; i / 6: 9; i % 6: 5\n",
      "i: 61; i / 6: 10; i % 6: 1\n",
      "i: 67; i / 6: 11; i % 6: 1\n",
      "i: 71; i / 6: 11; i % 6: 5\n",
      "i: 73; i / 6: 12; i % 6: 1\n",
      "i: 79; i / 6: 13; i % 6: 1\n",
      "i: 83; i / 6: 13; i % 6: 5\n",
      "i: 89; i / 6: 14; i % 6: 5\n",
      "i: 97; i / 6: 16; i % 6: 1\n",
      "i: 101; i / 6: 16; i % 6: 5\n",
      "i: 103; i / 6: 17; i % 6: 1\n",
      "i: 107; i / 6: 17; i % 6: 5\n",
      "i: 109; i / 6: 18; i % 6: 1\n",
      "i: 113; i / 6: 18; i % 6: 5\n",
      "i: 127; i / 6: 21; i % 6: 1\n",
      "i: 131; i / 6: 21; i % 6: 5\n",
      "i: 137; i / 6: 22; i % 6: 5\n",
      "i: 139; i / 6: 23; i % 6: 1\n",
      "i: 149; i / 6: 24; i % 6: 5\n",
      "i: 151; i / 6: 25; i % 6: 1\n",
      "i: 157; i / 6: 26; i % 6: 1\n",
      "i: 163; i / 6: 27; i % 6: 1\n",
      "i: 167; i / 6: 27; i % 6: 5\n",
      "i: 173; i / 6: 28; i % 6: 5\n",
      "i: 179; i / 6: 29; i % 6: 5\n",
      "i: 181; i / 6: 30; i % 6: 1\n",
      "i: 191; i / 6: 31; i % 6: 5\n",
      "i: 193; i / 6: 32; i % 6: 1\n",
      "i: 197; i / 6: 32; i % 6: 5\n",
      "i: 199; i / 6: 33; i % 6: 1\n",
      "i: 211; i / 6: 35; i % 6: 1\n",
      "i: 223; i / 6: 37; i % 6: 1\n",
      "i: 227; i / 6: 37; i % 6: 5\n",
      "i: 229; i / 6: 38; i % 6: 1\n",
      "i: 233; i / 6: 38; i % 6: 5\n",
      "i: 239; i / 6: 39; i % 6: 5\n",
      "i: 241; i / 6: 40; i % 6: 1\n",
      "i: 251; i / 6: 41; i % 6: 5\n",
      "i: 257; i / 6: 42; i % 6: 5\n",
      "i: 263; i / 6: 43; i % 6: 5\n",
      "i: 269; i / 6: 44; i % 6: 5\n",
      "i: 271; i / 6: 45; i % 6: 1\n",
      "i: 277; i / 6: 46; i % 6: 1\n",
      "i: 281; i / 6: 46; i % 6: 5\n",
      "i: 283; i / 6: 47; i % 6: 1\n",
      "i: 293; i / 6: 48; i % 6: 5\n",
      "i: 307; i / 6: 51; i % 6: 1\n",
      "i: 311; i / 6: 51; i % 6: 5\n",
      "i: 313; i / 6: 52; i % 6: 1\n",
      "i: 317; i / 6: 52; i % 6: 5\n",
      "i: 331; i / 6: 55; i % 6: 1\n",
      "i: 337; i / 6: 56; i % 6: 1\n",
      "i: 347; i / 6: 57; i % 6: 5\n",
      "i: 349; i / 6: 58; i % 6: 1\n",
      "i: 353; i / 6: 58; i % 6: 5\n",
      "i: 359; i / 6: 59; i % 6: 5\n",
      "i: 367; i / 6: 61; i % 6: 1\n",
      "i: 373; i / 6: 62; i % 6: 1\n",
      "i: 379; i / 6: 63; i % 6: 1\n",
      "i: 383; i / 6: 63; i % 6: 5\n",
      "i: 389; i / 6: 64; i % 6: 5\n",
      "i: 397; i / 6: 66; i % 6: 1\n",
      "i: 401; i / 6: 66; i % 6: 5\n",
      "i: 409; i / 6: 68; i % 6: 1\n",
      "i: 419; i / 6: 69; i % 6: 5\n",
      "i: 421; i / 6: 70; i % 6: 1\n",
      "i: 431; i / 6: 71; i % 6: 5\n",
      "i: 433; i / 6: 72; i % 6: 1\n",
      "i: 439; i / 6: 73; i % 6: 1\n",
      "i: 443; i / 6: 73; i % 6: 5\n",
      "i: 449; i / 6: 74; i % 6: 5\n",
      "i: 457; i / 6: 76; i % 6: 1\n",
      "i: 461; i / 6: 76; i % 6: 5\n",
      "i: 463; i / 6: 77; i % 6: 1\n",
      "i: 467; i / 6: 77; i % 6: 5\n",
      "i: 479; i / 6: 79; i % 6: 5\n",
      "i: 487; i / 6: 81; i % 6: 1\n",
      "i: 491; i / 6: 81; i % 6: 5\n",
      "i: 499; i / 6: 83; i % 6: 1\n"
     ]
    }
   ],
   "source": [
    "for (int i = 5; i < 500; i++){\n",
    "    if (betterPrimeTest(i))\n",
    "        cout << \"i: \" << i << \"; i / 6: \" << (i / 6) << (\"; i % 6: \") << (i%6) << endl;\n",
    "}"
   ]
  },
  {
   "cell_type": "markdown",
   "metadata": {},
   "source": [
    "Absolutamente TODOS los primos se pueden escribir como:\n",
    "\n",
    "$$\n",
    "p = 6 \\cdot k + 1 \\vee 6 \\cdot k + 5\n",
    "$$\n",
    "\n",
    "O equivalentemente (teniendo en cuenta que $5 \\equiv (-1) \\mod 6$):\n",
    "\n",
    "$$\n",
    "p = 6 \\cdot k \\pm 1\n",
    "$$\n",
    "\n",
    "Eso quiere decir que solo tenemos que chequear los numeros de esa forma!\n"
   ]
  },
  {
   "cell_type": "code",
   "execution_count": 10,
   "metadata": {},
   "outputs": [],
   "source": [
    "// 7 8 9 10 11 12 13 14 15 16 17 \n",
    "// ^        ^      ^              \n",
    "\n",
    "bool primeTest(unsigned long long n){\n",
    "    if (n == 2 || n == 3)\n",
    "        return true;\n",
    "    \n",
    "    int mod = n % 6;\n",
    "\n",
    "    if (mod != 1 && mod != 5)\n",
    "        return false;\n",
    "\n",
    "    for (int i = 3; i*i <= n; i+=2){\n",
    "        if ((n % i) == 0)\n",
    "            return false;\n",
    "    }\n",
    "    return true;\n",
    "    \n",
    "}"
   ]
  },
  {
   "cell_type": "code",
   "execution_count": 11,
   "metadata": {},
   "outputs": [
    {
     "name": "stdout",
     "output_type": "stream",
     "text": [
      "i: 2 Is prime: 1\n",
      "i: 3 Is prime: 1\n",
      "i: 4 Is prime: 0\n",
      "i: 5 Is prime: 1\n",
      "i: 6 Is prime: 0\n",
      "i: 7 Is prime: 1\n",
      "i: 8 Is prime: 0\n",
      "i: 9 Is prime: 0\n",
      "i: 10 Is prime: 0\n",
      "i: 11 Is prime: 1\n",
      "i: 12 Is prime: 0\n",
      "i: 13 Is prime: 1\n",
      "i: 14 Is prime: 0\n",
      "i: 15 Is prime: 0\n",
      "i: 16 Is prime: 0\n",
      "i: 17 Is prime: 1\n",
      "i: 18 Is prime: 0\n",
      "i: 19 Is prime: 1\n",
      "i: 20 Is prime: 0\n",
      "i: 21 Is prime: 0\n",
      "i: 22 Is prime: 0\n",
      "i: 23 Is prime: 1\n",
      "i: 24 Is prime: 0\n",
      "i: 25 Is prime: 0\n",
      "i: 26 Is prime: 0\n",
      "i: 27 Is prime: 0\n",
      "i: 28 Is prime: 0\n",
      "i: 29 Is prime: 1\n",
      "i: 30 Is prime: 0\n",
      "i: 31 Is prime: 1\n",
      "i: 32 Is prime: 0\n",
      "i: 33 Is prime: 0\n",
      "i: 34 Is prime: 0\n",
      "i: 35 Is prime: 0\n",
      "i: 36 Is prime: 0\n",
      "i: 37 Is prime: 1\n",
      "i: 38 Is prime: 0\n",
      "i: 39 Is prime: 0\n",
      "i: 40 Is prime: 0\n",
      "i: 41 Is prime: 1\n",
      "i: 42 Is prime: 0\n",
      "i: 43 Is prime: 1\n",
      "i: 44 Is prime: 0\n",
      "i: 45 Is prime: 0\n",
      "i: 46 Is prime: 0\n",
      "i: 47 Is prime: 1\n",
      "i: 48 Is prime: 0\n",
      "i: 49 Is prime: 0\n",
      "i: 50 Is prime: 0\n",
      "i: 51 Is prime: 0\n",
      "i: 52 Is prime: 0\n",
      "i: 53 Is prime: 1\n",
      "i: 54 Is prime: 0\n",
      "i: 55 Is prime: 0\n",
      "i: 56 Is prime: 0\n",
      "i: 57 Is prime: 0\n",
      "i: 58 Is prime: 0\n",
      "i: 59 Is prime: 1\n",
      "i: 60 Is prime: 0\n",
      "i: 61 Is prime: 1\n",
      "i: 62 Is prime: 0\n",
      "i: 63 Is prime: 0\n",
      "i: 64 Is prime: 0\n",
      "i: 65 Is prime: 0\n",
      "i: 66 Is prime: 0\n",
      "i: 67 Is prime: 1\n",
      "i: 68 Is prime: 0\n",
      "i: 69 Is prime: 0\n",
      "i: 70 Is prime: 0\n",
      "i: 71 Is prime: 1\n",
      "i: 72 Is prime: 0\n",
      "i: 73 Is prime: 1\n",
      "i: 74 Is prime: 0\n",
      "i: 75 Is prime: 0\n",
      "i: 76 Is prime: 0\n",
      "i: 77 Is prime: 0\n",
      "i: 78 Is prime: 0\n",
      "i: 79 Is prime: 1\n",
      "i: 80 Is prime: 0\n",
      "i: 81 Is prime: 0\n",
      "i: 82 Is prime: 0\n",
      "i: 83 Is prime: 1\n",
      "i: 84 Is prime: 0\n",
      "i: 85 Is prime: 0\n",
      "i: 86 Is prime: 0\n",
      "i: 87 Is prime: 0\n",
      "i: 88 Is prime: 0\n",
      "i: 89 Is prime: 1\n",
      "i: 90 Is prime: 0\n",
      "i: 91 Is prime: 0\n",
      "i: 92 Is prime: 0\n",
      "i: 93 Is prime: 0\n",
      "i: 94 Is prime: 0\n",
      "i: 95 Is prime: 0\n",
      "i: 96 Is prime: 0\n",
      "i: 97 Is prime: 1\n",
      "i: 98 Is prime: 0\n",
      "i: 99 Is prime: 0\n"
     ]
    }
   ],
   "source": [
    "for (int i = 2; i < 100; i++){\n",
    "    cout << \"i: \" << i ;\n",
    "    cout << \" Is prime: \" << primeTest(i) << endl;\n",
    "}"
   ]
  },
  {
   "cell_type": "markdown",
   "metadata": {},
   "source": [
    "# Benchmarks...\n",
    "\n",
    "Primero analicemos un primo no pequeno:"
   ]
  },
  {
   "cell_type": "code",
   "execution_count": 12,
   "metadata": {},
   "outputs": [
    {
     "name": "stdout",
     "output_type": "stream",
     "text": [
      "4.01 ns +- 0.057 ns per loop (mean +- std. dev. of 7 runs 100000000 loops each)\n"
     ]
    }
   ],
   "source": [
    "%timeit primeTest(100);"
   ]
  },
  {
   "cell_type": "markdown",
   "metadata": {},
   "source": [
    "Y ahora un numero compuesto:"
   ]
  },
  {
   "cell_type": "code",
   "execution_count": 13,
   "metadata": {},
   "outputs": [
    {
     "name": "stderr",
     "output_type": "stream",
     "text": [
      "input_line_37:2:32: warning: overflow in expression; result is -1811240763 with type 'int' [-Winteger-overflow]\n",
      " unsigned long long  a = 49831 * 49843;\n",
      "                               ^\n"
     ]
    },
    {
     "name": "stdout",
     "output_type": "stream",
     "text": [
      "18446744071898310853"
     ]
    }
   ],
   "source": [
    "unsigned long long  a = 49831 * 49843;\n",
    "\n",
    "cout << a;"
   ]
  },
  {
   "cell_type": "markdown",
   "metadata": {},
   "source": [
    "# Primos en un rango.\n",
    "\n",
    "Supongamos que ahora el problema es: dame los primos menores a 100:"
   ]
  },
  {
   "cell_type": "code",
   "execution_count": 14,
   "metadata": {},
   "outputs": [],
   "source": [
    "void primes(int top, list<int>* ps){\n",
    "    int pre,pos;\n",
    "    ps->push_back(2);\n",
    "    ps->push_back(3);\n",
    "    \n",
    "    for (int i=1; 6*i-1 <= top; i++){\n",
    "        pre = 6*i-1;\n",
    "        pos = 6*i+1;\n",
    "        if (primeTest(pre))\n",
    "            ps->push_back(pre);\n",
    "        if (primeTest(pos))\n",
    "            ps->push_back(pos);\n",
    "    }\n",
    "}"
   ]
  },
  {
   "cell_type": "code",
   "execution_count": 15,
   "metadata": {},
   "outputs": [
    {
     "name": "stdout",
     "output_type": "stream",
     "text": [
      "2\n",
      "3\n",
      "5\n",
      "7\n",
      "11\n",
      "13\n",
      "17\n",
      "19\n",
      "23\n",
      "29\n",
      "31\n",
      "37\n",
      "41\n",
      "43\n",
      "47\n",
      "53\n",
      "59\n",
      "61\n",
      "67\n",
      "71\n",
      "73\n",
      "79\n",
      "83\n",
      "89\n",
      "97\n"
     ]
    }
   ],
   "source": [
    "list<int> ps;\n",
    "primes(100,&ps);\n",
    "for (int p : ps) {\n",
    "    cout << p << endl;\n",
    "}"
   ]
  },
  {
   "cell_type": "markdown",
   "metadata": {},
   "source": [
    "# Sieve of Erastosthenes\n",
    "\n",
    "La criba a erastosthenes a diferencia de nuestra funcion se basa en multiplicar y \"tachar\" (en vez de dividir):\n",
    "\n",
    "1. El primer elemento no tachado es un primo\n",
    "2. Por cada primo, tachar todos los multiplos\n",
    "\n",
    "<center>\n",
    "\n",
    "![Sieve](https://upload.wikimedia.org/wikipedia/commons/b/b9/Sieve_of_Eratosthenes_animation.gif)\n",
    "\n",
    "</center>"
   ]
  },
  {
   "cell_type": "code",
   "execution_count": 16,
   "metadata": {},
   "outputs": [],
   "source": [
    "// Teoria algebraica de numeros\n",
    "void naiveSieve(long _total, list<long>* ps){\n",
    "    long total = _total - 1;\n",
    "    bool* table = new bool[total]();\n",
    "    long p;\n",
    "\n",
    "    for (long i = 0; i < total; i++){\n",
    "        p = i+2;\n",
    "        if (!table[i]){\n",
    "            ps->push_back(p);\n",
    "            for (long j=i;j<total;j+=p)\n",
    "                table[j] = true;\n",
    "        }\n",
    "    }\n",
    "\n",
    "}"
   ]
  },
  {
   "cell_type": "code",
   "execution_count": 17,
   "metadata": {},
   "outputs": [
    {
     "name": "stdout",
     "output_type": "stream",
     "text": [
      "2\n",
      "3\n",
      "5\n",
      "7\n",
      "11\n",
      "13\n",
      "17\n",
      "19\n",
      "23\n",
      "29\n",
      "31\n",
      "37\n",
      "41\n",
      "43\n",
      "47\n",
      "53\n",
      "59\n",
      "61\n",
      "67\n",
      "71\n",
      "73\n",
      "79\n",
      "83\n",
      "89\n",
      "97\n",
      "101\n"
     ]
    }
   ],
   "source": [
    "list<long> ps;\n",
    "naiveSieve(101,&ps);\n",
    "for(auto p : ps){\n",
    "    cout << p << endl;\n",
    "}"
   ]
  },
  {
   "cell_type": "markdown",
   "metadata": {},
   "source": [
    "Funciona! pero aun lo podemos mejorar:\n",
    "\n",
    "* Notemos que cuando leemos 7 por primera vez ya hemos tachado: `7*2,7*3,7*4,7*5,7*6` (por que?).\n",
    "\n",
    "* Notemos que cuando leemos 11 por primera vez ya hemos tachado: `11*2,11*3,11*4,11*5,11*6,11*7`.\n",
    "\n",
    "* Notemos que cuando leemos 13 por primera vez ya hemos tachado: `13*2,13*3,13*4,13*5,13*6,13*7,13*11`.\n",
    "  \n",
    "Es decir, cada vez que leemos un numero primo $p$, basta con empezar a tachar a partir de $p^2$\n"
   ]
  },
  {
   "cell_type": "code",
   "execution_count": 18,
   "metadata": {},
   "outputs": [],
   "source": [
    "void sieve(long _total, list<long>* ps){\n",
    "    long total = _total - 1;\n",
    "    bool* table = new bool[total]();\n",
    "    long p;\n",
    "\n",
    "    for (long i = 0; i < total; i++){\n",
    "        p = i+2;\n",
    "        if (!table[i]){\n",
    "            ps->push_back(p);\n",
    "            for (long j=p*p-2;j<total;j+=p)\n",
    "                table[j] = true;\n",
    "        }\n",
    "    }\n",
    "}"
   ]
  },
  {
   "cell_type": "code",
   "execution_count": 19,
   "metadata": {},
   "outputs": [
    {
     "name": "stdout",
     "output_type": "stream",
     "text": [
      "2\n",
      "3\n",
      "5\n",
      "7\n",
      "11\n",
      "13\n",
      "17\n",
      "19\n",
      "23\n",
      "29\n",
      "31\n",
      "37\n",
      "41\n",
      "43\n",
      "47\n",
      "53\n",
      "59\n",
      "61\n",
      "67\n",
      "71\n",
      "73\n",
      "79\n",
      "83\n",
      "89\n",
      "97\n",
      "101\n"
     ]
    }
   ],
   "source": [
    "list<long> ps;\n",
    "sieve(101,&ps);\n",
    "for(auto p : ps){\n",
    "    cout << p << endl;\n",
    "}"
   ]
  },
  {
   "cell_type": "markdown",
   "metadata": {},
   "source": [
    "# Factorizacion de un numero\n",
    "\n",
    "Dado un numero, factorizarloc como producto de primos:\n"
   ]
  },
  {
   "cell_type": "code",
   "execution_count": 20,
   "metadata": {},
   "outputs": [],
   "source": [
    "void naiveFact(long n, list<long>* facts){\n",
    "    list<long> ps;\n",
    "    sieve(n,&ps);\n",
    "    \n",
    "    for(auto p : ps){\n",
    "        if (n % p == 0)\n",
    "            facts->push_back(p);\n",
    "    }\n",
    "}"
   ]
  },
  {
   "cell_type": "code",
   "execution_count": 21,
   "metadata": {},
   "outputs": [
    {
     "name": "stdout",
     "output_type": "stream",
     "text": [
      "2\n",
      "3\n",
      "13\n"
     ]
    }
   ],
   "source": [
    "list<long> factors;\n",
    "naiveFact(2*3*13*2,&factors);\n",
    "\n",
    "for(auto factor : factors){\n",
    "    cout << factor << endl;\n",
    "}\n"
   ]
  },
  {
   "cell_type": "code",
   "execution_count": 22,
   "metadata": {},
   "outputs": [],
   "source": [
    "void sieveFact(long n, list<long>* facts){\n",
    "    long total = n - 1;\n",
    "    bool* table = new bool[total]();\n",
    "    long p;\n",
    "\n",
    "\n",
    "    for (long i = 0; i < total; i++){\n",
    "        p = i+2;\n",
    "        if (!table[i]){\n",
    "            for (long j=i;j<total;j+=p){\n",
    "                table[j] = true;\n",
    "                // el numero es tachado por p lo metes\n",
    "                if (j+2 == n)\n",
    "                    facts->push_back(p);\n",
    "            }\n",
    "                \n",
    "        }\n",
    "    }\n",
    "}\n",
    "\n",
    "// 27 = 3\n",
    "// 54 = 3,2\n"
   ]
  },
  {
   "cell_type": "code",
   "execution_count": 23,
   "metadata": {},
   "outputs": [
    {
     "name": "stdout",
     "output_type": "stream",
     "text": [
      "2\n",
      "3\n"
     ]
    }
   ],
   "source": [
    "list<long> factors;\n",
    "sieveFact(12,&factors);\n",
    "\n",
    "for(auto factor : factors){\n",
    "    cout << factor << endl;\n",
    "}"
   ]
  },
  {
   "cell_type": "markdown",
   "metadata": {},
   "source": [
    "# Calcular el maximo comun divisor\n",
    "\n",
    "El maximo comun divisor de de dos enteros $a,b$ es un numero $d$ que satisface:\n",
    "\n",
    "1. $d$ divide a $a$\n",
    "2. $d$ divide a $b$\n",
    "3. $d$ es el numero mas grande que posee esta propiedad.\n"
   ]
  },
  {
   "cell_type": "code",
   "execution_count": 24,
   "metadata": {},
   "outputs": [],
   "source": [
    "// 50 = 25 * 2\n",
    "// 16 = 13 * 2\n",
    "// 2\n",
    "\n",
    "// Algoritmo de euclides\n",
    "// gcd(a,b) = gcd(a,a-b)\n",
    "long gcd(long a, long b){\n",
    "    while (a != b){\n",
    "        if (a > b){\n",
    "            a = a - b;\n",
    "        } else{\n",
    "            b = b - a;\n",
    "        }\n",
    "    }\n",
    "\n",
    "    return a;\n",
    "}"
   ]
  },
  {
   "cell_type": "code",
   "execution_count": 25,
   "metadata": {},
   "outputs": [
    {
     "name": "stdout",
     "output_type": "stream",
     "text": [
      "2\n"
     ]
    }
   ],
   "source": [
    "cout << gcd(16,50) << endl;"
   ]
  },
  {
   "cell_type": "markdown",
   "metadata": {},
   "source": [
    "# 238. Product of Array Except Self\n",
    "\n",
    "Given an integer array nums, return an array answer such that `answer[i]` is equal to the product of all the elements of nums except `nums[i]`.\n",
    "\n",
    "The product of any prefix or suffix of nums is guaranteed to fit in a 32-bit integer.\n",
    "\n",
    "You must write an algorithm that runs in $O(n)$ time and without using the division operation.\n",
    "\n",
    " \n",
    "\n",
    "Example 1:\n",
    "```c++\n",
    "Input: nums = [1,2,3,4]\n",
    "Output: [24,12,8,6]\n",
    "```\n",
    "\n",
    "Example 2:\n",
    "```c++\n",
    "Input: nums = [-1,1,0,-3,3]\n",
    "Output: [0,0,9,0,0]\n",
    "```"
   ]
  },
  {
   "cell_type": "code",
   "execution_count": 26,
   "metadata": {},
   "outputs": [],
   "source": [
    "/*\n",
    "[n,n,n,n] \n",
    "^       ^\n",
    " n veces = n^2\n",
    "\n",
    "int mult = 1;\n",
    "for (size_t i = 0; i < n; i++)\n",
    "{\n",
    "    for (size_t j = 0; i < n; i++)\n",
    "    {   \n",
    "        if (i == j)\n",
    "            continue \n",
    "        mult *= arr[j]\n",
    "    }\n",
    "}\n",
    "*/\n",
    "\n",
    "/*\n",
    "int mult = 1;\n",
    "int zeroes = 0;\n",
    "[-1,1,0,0,3] = [0,0,0,0,0]\n",
    "\n",
    "for (size_t i = 0; i < n; i++)\n",
    "{\n",
    "    // arr[1] * arr[2] *  arr[3] *  arr[4]\n",
    "    //--------------------------------------\n",
    "    // arr[3]\n",
    "    if arr[i] != 0{\n",
    "        mult *= arr[i];\n",
    "    } else\n",
    "    {\n",
    "        zeroes++;\n",
    "    }\n",
    "        \n",
    "}\n",
    "*/\n",
    "\n",
    "int* naiveSol(int* xs, int n){\n",
    "    int product = 1;\n",
    "    int zeros   = 0;\n",
    "    int* sol    = new int[n]();\n",
    "    for (int i = 0; i < n; i++){\n",
    "        if (xs[i] == 0){\n",
    "            zeros++;\n",
    "        } else{\n",
    "            product *= xs[i];\n",
    "        }\n",
    "    }\n",
    "\n",
    "    if (zeros >= 2)\n",
    "        return sol;\n",
    "    \n",
    "    if (zeros == 1){\n",
    "        for (int i = 0; i < n; i++){\n",
    "        if (xs[i] == 0){\n",
    "            sol[i] = product;\n",
    "            return sol;\n",
    "            }\n",
    "        }\n",
    "    }\n",
    "\n",
    "    for (int i=0; i<n; i++){\n",
    "        sol[i] = product / xs[i];\n",
    "    }\n",
    "\n",
    "    return sol;\n",
    "}"
   ]
  },
  {
   "cell_type": "code",
   "execution_count": 27,
   "metadata": {},
   "outputs": [],
   "source": [
    "// prefix suffix solution.\n",
    "\n",
    "/*\n",
    "1,2,3,4,5\n",
    "\n",
    "[        1    , 1*2 ,1*2*3,  1*2*3*4] <- arreglo de prefijos\n",
    "[5*4*3*2,5*4*3, 5*4 ,  5            ]\n",
    "  ^        ^     ^     ^       ^\n",
    " res[1] res[2] res[3] res[4] res[5]\n",
    "\n",
    "*/\n",
    "\n",
    "int* HIDDENSolution(int* xs, int n){\n",
    "    int zeros     = 0;\n",
    "    int product   = 1;\n",
    "    int* sol      = new int[n]();\n",
    "    int* prefixes = new int[n];\n",
    "    int* suffixes = new int[n];\n",
    "\n",
    "    prefixes[0] = xs[0];\n",
    "    suffixes[0] = xs[n-1];\n",
    "\n",
    "    for (int i = 0; i < n; i++){\n",
    "        if (xs[i] == 0){\n",
    "            zeros++;\n",
    "        } else if(i>0){\n",
    "            product *= xs[i];\n",
    "            prefixes[i] = prefixes[i-1] * xs[i];\n",
    "            suffixes[i] = suffixes[i-1] * xs[n-i-1];\n",
    "        }\n",
    "    }\n",
    "\n",
    "    if (zeros >= 2)\n",
    "        return sol;\n",
    "    \n",
    "    if (zeros == 1){\n",
    "        for (int i = 0; i < n; i++){\n",
    "        if (xs[i] == 0){\n",
    "            sol[i] = product;\n",
    "            return sol;\n",
    "            }\n",
    "        }\n",
    "    }\n",
    "\n",
    "    prefixes[0] = suffixes[0] = 1;\n",
    "\n",
    "    for (int i=0; i<n; i++){\n",
    "        sol[i] = prefixes[i] * suffixes[n-i-1];\n",
    "    }\n",
    "\n",
    "    return sol;\n",
    "}"
   ]
  },
  {
   "cell_type": "code",
   "execution_count": 28,
   "metadata": {},
   "outputs": [
    {
     "name": "stdout",
     "output_type": "stream",
     "text": [
      "24,12,8,6,\n",
      "0,0,9,0,0,\n"
     ]
    },
    {
     "data": {
      "text/plain": [
       "@0x7f75dd0ffba0"
      ]
     },
     "execution_count": 28,
     "metadata": {},
     "output_type": "execute_result"
    }
   ],
   "source": [
    "int nums[4] = {1,2,3,4};\n",
    "int nums2[5] = {-1,1,0,-3,3};\n",
    "\n",
    "int* sol = naiveSol(nums,4);\n",
    "int* sol2 = naiveSol(nums2,5);\n",
    "\n",
    "for (int i=0; i < 4; i++)\n",
    "    cout << sol[i] << ',';\n",
    "cout << endl;\n",
    "\n",
    "\n",
    "for (int i=0; i < 5; i++)\n",
    "    cout << sol2[i] << ',';\n",
    "cout << endl;\n",
    "\n"
   ]
  },
  {
   "cell_type": "markdown",
   "metadata": {},
   "source": [
    "# 1492. The kth Factor of n\n",
    "\n",
    "\n",
    "You are given two positive integers $n$ and $k$. A factor of an integer $n$ is defined as an integer $i$ where `n % i == 0`.\n",
    "\n",
    "Consider a list of all factors of $n$ sorted in ascending order, return the $k$-th factor in this list or return $-1$ if $n$ has less than $k$ factors.\n",
    "\n",
    " \n",
    "```c++\n",
    "Example 1:\n",
    "\n",
    "Input: n = 12, k = 3\n",
    "Output: 3\n",
    "Explanation: Factors list is [1, 2, 3, 4, 6, 12], the 3rd factor is 3.\n",
    "\n",
    "Example 2:\n",
    "\n",
    "Input: n = 7, k = 2\n",
    "Output: 7\n",
    "Explanation: Factors list is [1, 7], the 2nd factor is 7.\n",
    "Example 3:\n",
    "\n",
    "Input: n = 4, k = 4\n",
    "Output: -1\n",
    "Explanation: Factors list is [1, 2, 4], there is only 3 factors. We should return -1.\n",
    "```"
   ]
  },
  {
   "cell_type": "code",
   "execution_count": 29,
   "metadata": {},
   "outputs": [],
   "source": [
    "// 12\n",
    "// 1 2 3\n",
    "// 1 * 12 = 12\n",
    "// 2 * 6  = 12\n",
    "// 3 * 4  = 12 \n",
    "\n",
    "// O(n)\n",
    "// O(sqrt(n))\n",
    "\n",
    "// 0 <= unsigned long <= 18446744073709551615\n",
    "unsigned long semiNaiveSolver(unsigned long n, int k){\n",
    "    unsigned long i = 1;\n",
    "    list<unsigned long> divisors;\n",
    "    while (i*i < n){\n",
    "        if (n % i == 0 ){\n",
    "            k--;\n",
    "            divisors.push_front(i);\n",
    "            if (k ==0)\n",
    "                return i;\n",
    "        }\n",
    "        ++i;\n",
    "    }\n",
    "\n",
    "    if (i*i == n){\n",
    "        k--;\n",
    "        if (k==0)\n",
    "            return i;\n",
    "    }\n",
    "        \n",
    "\n",
    "    for (auto div : divisors){\n",
    "        k--;\n",
    "        if (k == 0)\n",
    "            return (n / div);\n",
    "    }\n",
    "\n",
    "    return -1;\n",
    "}"
   ]
  },
  {
   "cell_type": "code",
   "execution_count": 43,
   "metadata": {},
   "outputs": [
    {
     "name": "stdout",
     "output_type": "stream",
     "text": [
      "3\n",
      "7\n",
      "18446744073709551615\n"
     ]
    },
    {
     "data": {
      "text/plain": [
       "@0x7f75dd0ffba0"
      ]
     },
     "execution_count": 43,
     "metadata": {},
     "output_type": "execute_result"
    }
   ],
   "source": [
    "cout << semiNaiveSolver(12,3) << endl << semiNaiveSolver(7,2) << endl;\n",
    "cout << semiNaiveSolver(4,4) << endl; // unsigned! yields very big number\n",
    "//cout << (18446744073609551615) * 2 << endl; // gcc es yuka"
   ]
  },
  {
   "cell_type": "markdown",
   "metadata": {},
   "source": [
    "# El mismo problema... PERO SOLO CONTANDO LOS DIVISORES PRIMOS!"
   ]
  },
  {
   "cell_type": "code",
   "execution_count": 31,
   "metadata": {},
   "outputs": [],
   "source": [
    "unsigned long primeSolver(unsigned long n, int k){\n",
    "    int* table = new int[n]();\n",
    "    unsigned long p;\n",
    "\n",
    "    // ya no utilizas %\n",
    "    for (unsigned long i = 0; i < n; i++){\n",
    "        p = i+2;\n",
    "        if (table[i]==0){\n",
    "            for (unsigned long long j=i;j<n;j+=p)\n",
    "                table[j]++;\n",
    "            if(table[n-2] == k)\n",
    "                return p;\n",
    "        }\n",
    "        \n",
    "    }\n",
    "    return -1;\n",
    "}"
   ]
  },
  {
   "cell_type": "code",
   "execution_count": 32,
   "metadata": {},
   "outputs": [
    {
     "name": "stdout",
     "output_type": "stream",
     "text": [
      "5\n",
      "3\n",
      "18446744073709551615"
     ]
    }
   ],
   "source": [
    "cout << primeSolver(390,3) << endl; \n",
    "cout << primeSolver(12,2)  << endl;\n",
    "cout << primeSolver(4,4);"
   ]
  },
  {
   "cell_type": "markdown",
   "metadata": {},
   "source": [
    "# 172. Factorial Trailing Zeroes\n",
    "\n",
    "Given an integer n, return the number of trailing zeroes in n!.\n",
    "\n",
    "Note that n! = n * (n - 1) * (n - 2) * ... * 3 * 2 * 1.\n",
    "\n",
    " \n",
    "```c++\n",
    "Example 1:\n",
    "\n",
    "Input: n = 3\n",
    "Output: 0\n",
    "Explanation: 3! = 6, no trailing zero.\n",
    "Example 2:\n",
    "\n",
    "Input: n = 5\n",
    "Output: 1\n",
    "Explanation: 5! = 120, one trailing zero.\n",
    "Example 3:\n",
    "\n",
    "Input: n = 0\n",
    "Output: 0\n",
    "```\n",
    "\n",
    "Constraints:\n",
    "\n",
    "0 <= n <= 104\n",
    " \n",
    "\n",
    "Follow up: Could you write a solution that works in logarithmic time complexity?"
   ]
  },
  {
   "cell_type": "code",
   "execution_count": 33,
   "metadata": {},
   "outputs": [],
   "source": [
    "// 10! = 3628800 = 36288  *  10^2\n",
    "//     = 36288 * (5*2)^2\n",
    "//     = 36288 * 5^2 * 2^2\n",
    "\n",
    "// 1 * 2 * 3 * 4 * 5 * 6 * 7 * 8 * 9 * 10 * 11 * 12 * 13 * 14 * 15 \n",
    "//                 1                   1                         1\n",
    "// 3 trailing zeroes \n",
    "// 15! = 1307674368000\n",
    "//     = 0 0 0\n",
    "// 15 / 5 = 3\n",
    "\n",
    "// 1 * 2 * 3 * 4 * 5 * 6 * 7 * 8 * 9 * 10 * 11 * 12 * 13 * 14 * 15 * 16 * 17 * 18 * 19 * 20 * 21 * 22 * 23 * 24 * 25\n",
    "//                 1                   1                         1                       1                        5*5\n",
    "// 6 trailing zeroes\n",
    "// 25! = 15511210043330985984000000\n",
    "//     = 0 0 0 0 0 0         \n",
    "// 25 / 5  = 5\n",
    "// 25 / 25 = 1\n",
    "//           6            \n",
    "\n",
    "// contar la cantidad de 5 que hay en un rango\n",
    "// y sumarle la cantidad de 25\n",
    "// y sumarle la cantidad de 125\n",
    "// y sumarle.....\n",
    "// funciona porque antes de cada 5 hay un 2\n",
    "// y la cantidad de 0 es lo mismo que la factorizacion: n  *  10^algo.\n",
    "\n",
    "// log(n) < n\n",
    "int madness(int n){\n",
    "    if (n == 0)\n",
    "        return 0;\n",
    "    \n",
    "    // log_5(n) ~ la mayor potencia de 5 que es menor que n.\n",
    "    int maxPow = (int) (log(n) / log(5));\n",
    "    int k = 0;\n",
    "    int res = 0;\n",
    "    for (int i = 1; i <= maxPow; i++){\n",
    "        // 25 / 5^1 = 25 / 5 = 5\n",
    "        // 25 / 5^2 = 25 / 25 = 1\n",
    "        res += n / pow(5,i); // <- O(1)\n",
    "    }\n",
    "\n",
    "    return res;\n",
    "}"
   ]
  },
  {
   "cell_type": "code",
   "execution_count": 34,
   "metadata": {},
   "outputs": [],
   "source": [
    "int madness2(int n){\n",
    "    if (n == 0)\n",
    "        return 0;\n",
    "    \n",
    "    int k = 0;\n",
    "    int res = 0;\n",
    "    \n",
    "    for (int i = 5; i <= n; i*=5){\n",
    "        res += n / i;\n",
    "    }\n",
    "\n",
    "    return res;\n",
    "}"
   ]
  },
  {
   "cell_type": "code",
   "execution_count": 35,
   "metadata": {},
   "outputs": [
    {
     "name": "stdout",
     "output_type": "stream",
     "text": [
      "12\n",
      "12"
     ]
    }
   ],
   "source": [
    "cout << madness(50) << endl;\n",
    "cout << madness2(50);"
   ]
  },
  {
   "cell_type": "markdown",
   "metadata": {},
   "source": [
    "# 793. Preimage Size of Factorial Zeroes Function\n",
    "Let f(x) be the number of zeroes at the end of x!. Recall that x! = 1 * 2 * 3 * ... * x and by convention, 0! = 1.\n",
    "\n",
    "For example, f(3) = 0 because 3! = 6 has no zeroes at the end, while f(11) = 2 because 11! = 39916800 has two zeroes at the end.\n",
    "Given an integer k, return the number of non-negative integers x have the property that f(x) = k.\n",
    "\n",
    " \n",
    "```c++\n",
    "Example 1:\n",
    "\n",
    "Input: k = 0\n",
    "Output: 5\n",
    "Explanation: 0!, 1!, 2!, 3!, and 4! end with k = 0 zeroes.\n",
    "Example 2:\n",
    "\n",
    "Input: k = 5\n",
    "Output: 0\n",
    "Explanation: There is no x such that x! ends in k = 5 zeroes.\n",
    "Example 3:\n",
    "\n",
    "Input: k = 3\n",
    "Output: 5\n",
    "```"
   ]
  },
  {
   "cell_type": "code",
   "execution_count": 36,
   "metadata": {},
   "outputs": [],
   "source": [
    "// notemos que si queremos n trailing 0s, una cota superior siempre va a ser 5*n\n",
    "\n",
    "// [1,5*n]\n",
    "// f x = p 0s\n",
    "// x > y => f x > f y\n",
    "\n",
    "// p = 2\n",
    "// [1,5,10,15,20]\n",
    "\n",
    "\n",
    "// y podemos hacer binary search sobre eso!\n",
    "// [low,high)\n",
    "// modificar para que haga lo que se pide!\n",
    "int BSMadness(int k){\n",
    "    int low = 1;\n",
    "    int high = pow(5,k);\n",
    "    int mid= -1;\n",
    "    int midVal;\n",
    "    int prev;\n",
    "    // i = 1 log(n)\n",
    "    // i = 2 log(n) + log(n)\n",
    "    // i = 3 log(n) + log(n) + log(n)\n",
    "    // i =log(n) = log(n) + log(n) + log(n) + ...\n",
    "    //             |             log(n)          |\n",
    "    // log(n)*log(n) = log(n)^2\n",
    "    do{\n",
    "        prev   = mid;\n",
    "        mid    = (low + high) / 2;\n",
    "        midVal = madness2(mid); // log(n)\n",
    "        \n",
    "        if (k<midVal){\n",
    "            high = mid;\n",
    "        } else{\n",
    "            low = mid;\n",
    "        }\n",
    "    }while (mid != prev && midVal != k); // log(n)\n",
    "\n",
    "    if (midVal == k)\n",
    "        return midVal;\n",
    "        \n",
    "    //return mid; // Infimo\n",
    "    // return mid+1 // supremo\n",
    "    return -1; // no existe\n",
    "}"
   ]
  },
  {
   "cell_type": "code",
   "execution_count": 37,
   "metadata": {},
   "outputs": [
    {
     "name": "stdout",
     "output_type": "stream",
     "text": [
      "1\n",
      "-1\n",
      "1\n"
     ]
    }
   ],
   "source": [
    "cout << BSMadness(0)                << endl;\n",
    "cout << BSMadness(5)                << endl;\n",
    "cout << BSMadness(3)                << endl;"
   ]
  },
  {
   "cell_type": "markdown",
   "metadata": {},
   "source": [
    "# Divisores del MCM\n",
    "\n",
    "Dado un arreglo de `n` elementos, retornar los divisores del minimo comun multiplo de todos ellos..."
   ]
  }
 ],
 "metadata": {
  "interpreter": {
   "hash": "9e3ecf769eac0321e9aab2b86f298cd61edd9ba96a03b97b489f7cba8f77f423"
  },
  "kernelspec": {
   "display_name": "C++14",
   "language": "C++14",
   "name": "xcpp14"
  },
  "language_info": {
   "codemirror_mode": "text/x-c++src",
   "file_extension": ".cpp",
   "mimetype": "text/x-c++src",
   "name": "c++",
   "version": "14"
  },
  "orig_nbformat": 4
 },
 "nbformat": 4,
 "nbformat_minor": 2
}
