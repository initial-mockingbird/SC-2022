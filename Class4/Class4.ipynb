{
 "cells": [
  {
   "cell_type": "code",
   "execution_count": 1,
   "metadata": {},
   "outputs": [],
   "source": [
    "#include <iostream> // Para imprimir\n",
    "#include <stdlib.h> // Malloc/free\n",
    "#include <string>   // Jupyter no permite cosas tipo cout << 0.5 por cuestiones de tipo (<< esta definido\n",
    "                    // tanto para strings como para numeros, cual deberia tomar? error!), asi que necesitamos castear cada cosa a string.\n",
    "#include <cmath>    // math\n",
    "#include <utility>\n",
    "#include <string>\n",
    "#include <unordered_map>\n",
    "#include <iterator>\n",
    "#include <list>\n",
    "using namespace std;"
   ]
  },
  {
   "cell_type": "code",
   "execution_count": 2,
   "metadata": {},
   "outputs": [],
   "source": [
    "template <typename T>\n",
    "// [low,high)\n",
    "int BS(T c,T* arr, int low, int high){\n",
    "    int mid= -1;\n",
    "    T midVal;\n",
    "    int prev;\n",
    "    do{\n",
    "        prev   = mid;\n",
    "        mid    = (low + high) / 2;\n",
    "        midVal = arr[mid];\n",
    "        \n",
    "        if (c<midVal){\n",
    "            high = mid;\n",
    "        } else{\n",
    "            low = mid;\n",
    "        }\n",
    "    }while (mid != prev && midVal != c);\n",
    "\n",
    "    if (midVal == c)\n",
    "        return mid;\n",
    "        \n",
    "    return mid;\n",
    "    //return -1;\n",
    "}"
   ]
  },
  {
   "cell_type": "markdown",
   "metadata": {},
   "source": [
    "# Quicksort\n",
    "\n",
    "La idea de quicksort es bastante similar a la de merge sort:\n",
    "\n",
    "1. Se elige un elemento cualquiera del arreglo llamado `pivote`\n",
    "2. Se divide el arreglo en dos conjuntos: todos los elementos que son menores al pivote a la izquierda,y todos los que son mayores a la derecha.\n",
    "3. Se llama recursivamente quicksort.\n",
    "\n",
    "Notemos que la forma de elegir el `pivote` y como particionar los elementos no se especifica, esto da cabida a varios tipos de esquemas con **distintas** complejidades. Debido a esto, agarraremos el esquema clasico el cual es facil de ententer, de codear y tiene un buen tiempo de ejecucion:"
   ]
  },
  {
   "cell_type": "code",
   "execution_count": 3,
   "metadata": {},
   "outputs": [],
   "source": [
    "// bien parecido a selection sort!!!!!\n",
    "template <typename T>\n",
    "// [low,high]\n",
    "int partition(T* arr, int low, int high){\n",
    "\n",
    "  // Pivot value\n",
    "  T pivot = arr[ (high + low) / 2 ]; // The value in the middle of the array\n",
    "\n",
    "  // Left index\n",
    "  int i = low - 1;\n",
    "\n",
    "  // Right index\n",
    "  int j = high + 1;\n",
    "\n",
    "  while (true)\n",
    "  {\n",
    "    // Move the left index to the right at least once and while the element at\n",
    "    // the left index is less than the pivot\n",
    "    do ++i; while (arr[i] < pivot);\n",
    "    \n",
    "    // Move the right index to the left at least once and while the element at\n",
    "    // the right index is greater than the pivot\n",
    "    do j--; while (arr[j] > pivot);\n",
    "\n",
    "    // If the indices crossed, return\n",
    "    if (i >= j)\n",
    "      return j;\n",
    "    \n",
    "    // Swap the elements at the left and right indices\n",
    "    swap(arr[i],arr[j]);\n",
    "  } \n",
    "    \n",
    "}\n"
   ]
  },
  {
   "cell_type": "code",
   "execution_count": 4,
   "metadata": {},
   "outputs": [],
   "source": [
    "template <typename T>\n",
    "// El low y el high son inclusivos\n",
    "void quickSort(T* arr,int low, int high){\n",
    "  int p;\n",
    "  if (low >= 0 && high >= 0 && low < high){\n",
    "      p = partition(arr, low, high);\n",
    "      quickSort(arr, low, p); // Note: the pivot is now included\n",
    "      quickSort(arr, p + 1, high);\n",
    "  }\n",
    "\n",
    "}"
   ]
  },
  {
   "cell_type": "code",
   "execution_count": 5,
   "metadata": {},
   "outputs": [
    {
     "name": "stdout",
     "output_type": "stream",
     "text": [
      "-1, 0, 2, 3, 5, 9, \n"
     ]
    }
   ],
   "source": [
    "int  arr[6] = {5,0,9,2,-1,3};\n",
    "quickSort<int>(arr,0,5);\n",
    "\n",
    "// {-1,0,2,3,9,5};\n",
    "\n",
    "for (int i=0; i < 6; i++){\n",
    "    cout << arr[i] << ',' << ' ';\n",
    "}\n",
    "cout <<endl;"
   ]
  },
  {
   "cell_type": "markdown",
   "metadata": {},
   "source": [
    "# Search a 2D Matrix\n",
    "\n",
    "Escriba un algoritmo que busque un valor dado en una matriz `n x m`. La matriz cumple con las siguientes propiedades:\n",
    "\n",
    "1. Los enteros en cada fila estan ordenados de izquierda a derecha\n",
    "2. El primer entero de cada fila es mayor que el ultimo entero de la fila que le precedia.\n",
    "\n",
    "Ejemplo:\n",
    "\n",
    "<center>\n",
    "\n",
    "![m1](./imgs/m1.jpg)\n",
    "\n",
    "</center>\n",
    "\n",
    "```c++\n",
    "\n",
    "Input: matrix = [[1,3,5,7],[10,11,16,20],[23,30,34,60]], target = 3\n",
    "Output: 1\n",
    "\n",
    "```\n"
   ]
  },
  {
   "cell_type": "code",
   "execution_count": 6,
   "metadata": {},
   "outputs": [],
   "source": [
    "template <typename T>\n",
    "void s2d(T c, T** mat,int n, int m){\n",
    "    T* maximuns = new T[n];\n",
    "\n",
    "    for (int i = 0; i < n; i++){\n",
    "        maximuns[i] = mat[i][m-1];\n",
    "    }\n",
    "        \n",
    "    int row = BS(c,maximuns,0,n);\n",
    "    int col = BS(c,mat[row],0,m);\n",
    "\n",
    "    cout << '(' << row << ',' << col << ')' << endl;\n",
    "\n",
    "    if (mat[row][col] == c){    \n",
    "        cout << '1' << endl;\n",
    "    } else{\n",
    "        cout << '0' << endl;\n",
    "    }\n",
    "    \n",
    "}"
   ]
  },
  {
   "cell_type": "code",
   "execution_count": 7,
   "metadata": {},
   "outputs": [
    {
     "name": "stdout",
     "output_type": "stream",
     "text": [
      "(0,1)\n",
      "1\n"
     ]
    }
   ],
   "source": [
    "int mat[3][4] = {{1,3,5,7},{10,11,16,20},{23,30,34,60}};\n",
    "int* mat2[3] = {mat[0],mat[1],mat[2]};\n",
    "s2d<int>(3,mat2,3,4);"
   ]
  },
  {
   "cell_type": "markdown",
   "metadata": {},
   "source": [
    "# Search in Rotated Sorted Array\n",
    "\n",
    "\n",
    "\n",
    "There is an integer array nums sorted in ascending order (with distinct values).\n",
    "\n",
    "Prior to being passed to your function, nums is possibly rotated at an unknown pivot index k (1 <= k < nums.length) such that the resulting array is [nums[k], nums[k+1], ..., nums[n-1], nums[0], nums[1], ..., nums[k-1]] (0-indexed). For example, [0,1,2,4,5,6,7] might be rotated at pivot index 3 and become [4,5,6,7,0,1,2].\n",
    "\n",
    "Given the array nums after the possible rotation and an integer target, return the index of target if it is in nums, or -1 if it is not in nums.\n",
    "\n",
    "You must write an algorithm with O(log n) runtime complexity.\n",
    "\n",
    "Example 1:\n",
    "\n",
    "```c++\n",
    "Input: nums = [4,5,6,7,0,1,2], target = 0\n",
    "Output: 4\n",
    "Example 2:\n",
    "```\n",
    "\n",
    "```c++\n",
    "Input: nums = [4,5,6,7,0,1,2], target = 3\n",
    "Output: -1\n",
    "```\n",
    "\n",
    "```c++\n",
    "Example 3:\n",
    "\n",
    "Input: nums = [1], target = 0\n",
    "Output: -1\n",
    "```"
   ]
  },
  {
   "cell_type": "code",
   "execution_count": 8,
   "metadata": {},
   "outputs": [],
   "source": [
    "template <typename T>\n",
    "// [low,high)\n",
    "int _searchForDisplaced(T* arr, int low, int high){\n",
    "    int mid = (low + high) / 2;\n",
    "    if (mid == low || mid == high){\n",
    "        return (arr[mid] >= arr[0]  ? mid + 1 : mid);\n",
    "    }\n",
    "\n",
    "    if (arr[mid] > arr[0]){\n",
    "        return _searchForDisplaced(arr,mid,high);\n",
    "    } else{\n",
    "        return _searchForDisplaced(arr,low,mid);\n",
    "    }\n",
    "}"
   ]
  },
  {
   "cell_type": "code",
   "execution_count": 9,
   "metadata": {},
   "outputs": [],
   "source": [
    "template <typename T>\n",
    "// [low,high)\n",
    "int searchForDisplaced(T* arr, int size){\n",
    "    return _searchForDisplaced(arr,0,size) % size;\n",
    "\n",
    "}"
   ]
  },
  {
   "cell_type": "code",
   "execution_count": 10,
   "metadata": {},
   "outputs": [
    {
     "name": "stdout",
     "output_type": "stream",
     "text": [
      "4\n"
     ]
    }
   ],
   "source": [
    "int displaced[6] = {2,3,4,5,0,1};\n",
    "\n",
    "cout << searchForDisplaced(displaced,6) << endl;"
   ]
  },
  {
   "cell_type": "markdown",
   "metadata": {},
   "source": [
    "# The K Weakest Rows in a Matrix\n",
    "\n",
    "You are given an  `n x m` binary matrix mat of 1's (representing soldiers) and 0's (representing civilians). The soldiers are positioned in front of the civilians. That is, all the 1's will appear to the left of all the 0's in each row.\n",
    "\n",
    "A row i is weaker than a row j if one of the following is true:\n",
    "\n",
    "1. The number of soldiers in row i is less than the number of soldiers in row j.\n",
    "2. Both rows have the same number of soldiers and i < j.\n",
    "3. Return the indices of the k weakest rows in the matrix ordered from weakest to strongest.\n",
    "\n",
    " \n",
    "\n",
    "Example 1:\n",
    "\n",
    "```c++\n",
    "Input: mat = \n",
    "[[1,1,0,0,0],\n",
    " [1,1,1,1,0],\n",
    " [1,0,0,0,0],\n",
    " [1,1,0,0,0],\n",
    " [1,1,1,1,1]], \n",
    "k = 3\n",
    "Output: [2,0,3]\n",
    "Explanation: \n",
    "The number of soldiers in each row is: \n",
    "- Row 0: 2 \n",
    "- Row 1: 4 \n",
    "- Row 2: 1 \n",
    "- Row 3: 2 \n",
    "- Row 4: 5 \n",
    "The rows ordered from weakest to strongest are [2,0,3,1,4].\n",
    "```\n",
    "\n",
    "```c++\n",
    "Example 2:\n",
    "\n",
    "Input: mat = \n",
    "[[1,0,0,0],\n",
    " [1,1,1,1],\n",
    " [1,0,0,0],\n",
    " [1,0,0,0]], \n",
    "k = 2\n",
    "Output: [0,2]\n",
    "Explanation: \n",
    "The number of soldiers in each row is: \n",
    "- Row 0: 1 \n",
    "- Row 1: 4 \n",
    "- Row 2: 1 \n",
    "- Row 3: 1 \n",
    "The rows ordered from weakest to strongest are [0,2,3,1].\n",
    "```"
   ]
  },
  {
   "cell_type": "code",
   "execution_count": 11,
   "metadata": {},
   "outputs": [],
   "source": [
    "// sin contar los k...\n",
    "void ro (int** mat, int row, int col){\n",
    "\n",
    "    int i,totalVisitados = row;\n",
    "    list<int> porVisitar, aux;\n",
    "    \n",
    "    for (int i = 0; i < row; i++)\n",
    "        porVisitar.push_front(i);\n",
    "\n",
    "    for (int j = 0; j < col; j++){\n",
    "        if (porVisitar.empty() && aux.empty())\n",
    "            break;\n",
    "\n",
    "        while (!porVisitar.empty()){\n",
    "            i = porVisitar.front();\n",
    "            porVisitar.pop_front();\n",
    "\n",
    "            if (mat[i][j] == 0){\n",
    "                cout << \"row: \" << i << endl; \n",
    "            } else{\n",
    "                aux.push_front(i);\n",
    "            }\n",
    "        }\n",
    "\n",
    "        while (!aux.empty()){\n",
    "            porVisitar.push_front(aux.front());\n",
    "            aux.pop_front();\n",
    "        }\n",
    "    }\n",
    "\n",
    "    while (!porVisitar.empty()){\n",
    "        i = porVisitar.front();\n",
    "            porVisitar.pop_front();\n",
    "        cout << \"row: \" << i << endl; \n",
    "    }  \n",
    "\n",
    "}"
   ]
  },
  {
   "cell_type": "code",
   "execution_count": 12,
   "metadata": {},
   "outputs": [
    {
     "name": "stdout",
     "output_type": "stream",
     "text": [
      "row: 2\n",
      "row: 3\n",
      "row: 0\n",
      "row: 1\n",
      "row: 4\n"
     ]
    }
   ],
   "source": [
    "int _e1[5][5] = {\n",
    "    {1,1,0,0,0},\n",
    "    {1,1,1,1,0},\n",
    "    {1,0,0,0,0},\n",
    "    {1,1,0,0,0},\n",
    "    {1,1,1,1,1}\n",
    "    };\n",
    "\n",
    "int* e1[5] = {_e1[0],_e1[1],_e1[2],_e1[3],_e1[4]};\n",
    "\n",
    "ro (e1,5,5);\n"
   ]
  },
  {
   "cell_type": "code",
   "execution_count": 13,
   "metadata": {},
   "outputs": [],
   "source": [
    "int reverse(int x){\n",
    "    int  y = 1;\n",
    "    int  i = 0;\n",
    "    while (x)\n",
    "    {   \n",
    "        y = (y << 1) | (x & 1);\n",
    "        x = x >> 1;\n",
    "        i ++;\n",
    "    }\n",
    "\n",
    "\n",
    "    return y;\n",
    "}"
   ]
  },
  {
   "cell_type": "code",
   "execution_count": 14,
   "metadata": {},
   "outputs": [],
   "source": [
    "void bitsort (int* arr, int size){\n",
    "\n",
    "    \n",
    "    int i,n,totalVisitados = size;\n",
    "    list<int> porVisitar, aux, nums, aux_nums;\n",
    "    \n",
    "    for (int i = 0; i < size; i++){\n",
    "        porVisitar.push_front(i);\n",
    "        nums.push_front(reverse(arr[i]));\n",
    "    }\n",
    "        \n",
    "\n",
    "    for (int j = 0; j < sizeof(int); j++){\n",
    "        if (porVisitar.empty() && aux.empty())\n",
    "            break;\n",
    "\n",
    "        while (!porVisitar.empty()){\n",
    "            i = porVisitar.front();\n",
    "            n = nums.front();\n",
    "\n",
    "            porVisitar.pop_front();\n",
    "            nums.pop_front();\n",
    "\n",
    "            if (!(n & 1)){\n",
    "                cout << \"index: \" << i << \" element: \" << arr[i] << endl; \n",
    "            } else{\n",
    "                aux.push_front(i);\n",
    "                aux_nums.push_front(n >> 1);\n",
    "            }\n",
    "        }\n",
    "\n",
    "        while (!aux.empty()){\n",
    "            porVisitar.push_front(aux.front());\n",
    "            nums.push_front(aux_nums.front());\n",
    "            aux.pop_front();\n",
    "            aux_nums.pop_front();\n",
    "\n",
    "        }\n",
    "    }\n",
    "\n",
    "    while (!porVisitar.empty()){\n",
    "        i = porVisitar.front();\n",
    "            porVisitar.pop_front();\n",
    "        cout << \"row: \" << i << endl; \n",
    "    }  \n",
    "\n",
    "}"
   ]
  },
  {
   "cell_type": "code",
   "execution_count": 16,
   "metadata": {},
   "outputs": [
    {
     "name": "stdout",
     "output_type": "stream",
     "text": [
      "index: 4 element: 8\n",
      "index: 3 element: 9\n",
      "index: 2 element: 2\n",
      "index: 1 element: 5\n",
      "index: 0 element: 0\n",
      "row: 5\n"
     ]
    }
   ],
   "source": [
    "int xs[6] = {0,5,2,9,8,7};\n",
    "\n",
    "bitsort(xs,6);\n",
    "\n",
    "\n",
    "\n",
    "/*\n",
    "for (size_t i = 0; i < 33; i++)\n",
    "{\n",
    "    cout << reverse(i) << endl;    \n",
    "}\n",
    "*/\n"
   ]
  },
  {
   "cell_type": "markdown",
   "metadata": {},
   "source": [
    "# Pa la casa.\n",
    "\n",
    "1. [Busqueda en una matriz!](https://leetcode.com/problems/search-a-2d-matrix-ii/)\n",
    "2. Completar: `Search in a rotated Array!`\n",
    "3. [Primera y ultima posicion de un elemento en un arreglo ordenado!](https://leetcode.com/problems/find-first-and-last-position-of-element-in-sorted-array/) (hint: se puede hacer en dos pasadas!)"
   ]
  }
 ],
 "metadata": {
  "interpreter": {
   "hash": "9e3ecf769eac0321e9aab2b86f298cd61edd9ba96a03b97b489f7cba8f77f423"
  },
  "kernelspec": {
   "display_name": "C++14",
   "language": "C++14",
   "name": "xcpp14"
  },
  "language_info": {
   "codemirror_mode": "text/x-c++src",
   "file_extension": ".cpp",
   "mimetype": "text/x-c++src",
   "name": "c++",
   "version": "14"
  },
  "orig_nbformat": 4
 },
 "nbformat": 4,
 "nbformat_minor": 2
}
