{
 "cells": [
  {
   "cell_type": "code",
   "execution_count": 1,
   "metadata": {
    "vscode": {
     "languageId": "c++"
    }
   },
   "outputs": [],
   "source": [
    "#include <iostream> \n",
    "#include <stdlib.h> \n",
    "#include <string>   \n",
    "#include <cmath>    \n",
    "#include <stdexcept>\n",
    "#include <type_traits>\n",
    "//using namespace std;\n"
   ]
  },
  {
   "cell_type": "markdown",
   "metadata": {},
   "source": [
    "# Arboles!\n",
    "\n",
    "Un arbol (binario) se puede pensar como una generalizacion de lista enlazada: en vez de tener un solo apuntador al siguiente se tiene un apuntador a un hijo izquierdo y uno hijo derecho:\n",
    "\n",
    "<center>\n",
    "\n",
    "![Arbol](https://res.cloudinary.com/practicaldev/image/fetch/s--od-naD9n--/c_limit%2Cf_auto%2Cfl_progressive%2Cq_auto%2Cw_880/https://miro.medium.com/max/975/1%2APWJiwTxRdQy8A_Y0hAv5Eg.png)\n",
    "\n",
    "</center>"
   ]
  },
  {
   "cell_type": "markdown",
   "metadata": {},
   "source": [
    "# Path Sum\n",
    "\n",
    "Given the root of a binary tree and an integer targetSum, return true if the tree has a root-to-leaf path such that adding up all the values along the path equals targetSum.\n",
    "\n",
    "A leaf is a node with no children.\n",
    "\n",
    "## Example 1:\n",
    "\n",
    "<center>\n",
    "\n",
    "![bt1](https://assets.leetcode.com/uploads/2021/01/18/pathsum1.jpg)\n",
    "\n",
    "</center>\n",
    "\n",
    "```\n",
    "Input: root = [5,4,8,11,null,13,4,7,2,null,null,null,1], targetSum = 22\n",
    "Output: true\n",
    "Explanation: The root-to-leaf path with the target sum is shown.\n",
    "```"
   ]
  },
  {
   "cell_type": "markdown",
   "metadata": {},
   "source": [
    "# 104. Maximum Depth of Binary Tree\n",
    "\n",
    "\n",
    "Given the root of a binary tree, return its maximum depth.\n",
    "\n",
    "A binary tree's maximum depth is the number of nodes along the longest path from the root node down to the farthest leaf node.\n",
    "\n",
    "## Example\n",
    "\n",
    "<center>\n",
    "\n",
    "![Tree](https://assets.leetcode.com/uploads/2020/11/26/tmp-tree.jpg)\n",
    "\n",
    "</center>\n",
    "\n",
    "```\n",
    "Input: root = [3,9,20,null,null,15,7]\n",
    "Output: 3\n",
    "```"
   ]
  },
  {
   "cell_type": "markdown",
   "metadata": {},
   "source": [
    "# Invert Binary Tree\n",
    "\n",
    "Given the root of a binary tree, invert the tree, and return its root.\n",
    "\n",
    "## Example:\n",
    "\n",
    "<center>\n",
    "\n",
    "![](https://assets.leetcode.com/uploads/2021/03/14/invert1-tree.jpg)\n",
    "\n",
    "</center>\n",
    "\n",
    "```\n",
    "Input: root = [4,2,7,1,3,6,9]\n",
    "Output: [4,7,2,9,6,3,1]\n",
    "```"
   ]
  },
  {
   "cell_type": "markdown",
   "metadata": {},
   "source": [
    "# All Nodes Distance K in Binary Tree\n",
    "\n",
    "Given the root of a binary tree, the value of a target node target, and an integer k, return an array of the values of all nodes that have a distance k from the target node.\n",
    "\n",
    "You can return the answer in any order.\n",
    "\n",
    "## Example 1\n",
    "\n",
    "<center>\n",
    "\n",
    "![](https://s3-lc-upload.s3.amazonaws.com/uploads/2018/06/28/sketch0.png)\n",
    "\n",
    "</center>\n",
    "\n",
    "```\n",
    "Input: root = [3,5,1,6,2,0,8,null,null,7,4], target = 5, k = 2\n",
    "Output: [7,4,1]\n",
    "Explanation: The nodes that are a distance 2 from the target node (with value 5) have values 7, 4, and 1.\n",
    "```"
   ]
  },
  {
   "cell_type": "markdown",
   "metadata": {},
   "source": [
    "# Tareas!\n",
    "\n",
    "1. https://leetcode.com/problems/minimum-depth-of-binary-tree/\n",
    "2. https://leetcode.com/problems/populating-next-right-pointers-in-each-node/ Pero solo imprimir el vecino.\n",
    "3. Hacer una funcion que dado un arbol, retorne una lista con el recorrido en level-order.\n",
    "4. Dado un arbol que posea las siguientes propiedades:\n",
    "   * Si `t` es un nodo, entonces `t.value() > p.value` con `p` cualquier descendiente del hijo izquierdo de `t`.\n",
    "   * Si `t` es un nodo, entonces `t.value() < p.value` con `p` cualquier descendiente del hijo derecho   de `t`.\n",
    "\n",
    "Construir un metodo: `insert` el cual inserte un valor en el arbol manteniendo ambas propiedades."
   ]
  }
 ],
 "metadata": {
  "interpreter": {
   "hash": "9e3ecf769eac0321e9aab2b86f298cd61edd9ba96a03b97b489f7cba8f77f423"
  },
  "kernelspec": {
   "display_name": "C++14",
   "language": "C++14",
   "name": "xcpp14"
  },
  "language_info": {
   "codemirror_mode": "text/x-c++src",
   "file_extension": ".cpp",
   "mimetype": "text/x-c++src",
   "name": "C++14",
   "version": "14"
  },
  "orig_nbformat": 4
 },
 "nbformat": 4,
 "nbformat_minor": 2
}
