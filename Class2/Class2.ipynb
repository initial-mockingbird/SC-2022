{
 "cells": [
  {
   "cell_type": "code",
   "execution_count": 3,
   "metadata": {
    "vscode": {
     "languageId": "c++"
    }
   },
   "outputs": [],
   "source": [
    "#include <iostream> // Para imprimir\n",
    "#include <stdlib.h> // Malloc/free\n",
    "#include <string>   // Jupyter no permite cosas tipo cout << 0.5 por cuestiones de tipo (<< esta definido\n",
    "                    // tanto para strings como para numeros, cual deberia tomar? error!), asi que necesitamos castear cada cosa a string.\n",
    "#include <cmath>    // math\n",
    "using namespace std;"
   ]
  },
  {
   "cell_type": "markdown",
   "metadata": {},
   "source": [
    "# Aritmetica Modular!"
   ]
  },
  {
   "cell_type": "markdown",
   "metadata": {},
   "source": [
    "# Motivacion y Ejemplo\n",
    "\n",
    "Imaginemos que tenemos el siguiente reloj que marca las `~9:10`:\n",
    "\n",
    "<center>\n",
    "\n",
    "![Reloj marcando las 9](./imgs/clock1.PNG)\n",
    "\n",
    "</center>\n",
    "\n",
    "\n",
    "Notemos que si adelantamos el reloj `4` horas obtenemos: `13:10`, o mejor dicho: `1:10`.\n",
    "\n",
    "Si lo adelantamos `6` horas, pasamos a: `15:10`, o en realidad: `3:10`.\n",
    "\n",
    "Si lo adelantamos `36` horas, pasamos a: `45:10`, o en realidad: `9:10` de vuelta!\n",
    "\n",
    "En todos los ejemplos, no solamente hacemos la suma, sino que tenemos que reducir la respuesta\n",
    "a un numero entre `1` y `12`.\n",
    "\n",
    "Esto nos lleva a....\n"
   ]
  },
  {
   "cell_type": "markdown",
   "metadata": {},
   "source": [
    "# Nuestro primer ejercicio!\n",
    "\n",
    "\n",
    "Dar un algoritmo que dada una hora  (entera) $1 \\leq h \\leq 12$, y un tiempo de espera: $dt \\geq 0$, determinar que hora sera despues de esperar $dt$ horas.\n",
    "\n",
    "\n",
    "```\n",
    "Input:\n",
    "6\n",
    "5\n",
    "\n",
    "Output: 11\n",
    "\n",
    "Input:\n",
    "1\n",
    "24\n",
    "\n",
    "Output: 1\n",
    "```\n"
   ]
  },
  {
   "cell_type": "code",
   "execution_count": 4,
   "metadata": {
    "vscode": {
     "languageId": "c++"
    }
   },
   "outputs": [],
   "source": [
    "int adelanto_hora(int h, int dt){\n",
    "    for(;dt > 0; dt--){\n",
    "        h = h >= 12 ? h - 12 + 1 : h + 1;\n",
    "    }\n",
    "\n",
    "    return h;\n",
    "}\n"
   ]
  },
  {
   "cell_type": "code",
   "execution_count": 5,
   "metadata": {
    "vscode": {
     "languageId": "c++"
    }
   },
   "outputs": [
    {
     "name": "stdout",
     "output_type": "stream",
     "text": [
      "11\n",
      "1\n"
     ]
    }
   ],
   "source": [
    "cout << adelanto_hora(6,5) << endl;\n",
    "cout << adelanto_hora(1,24) << endl;"
   ]
  },
  {
   "cell_type": "code",
   "execution_count": 6,
   "metadata": {
    "vscode": {
     "languageId": "c++"
    }
   },
   "outputs": [],
   "source": [
    "int mejor_adelanto(int h, int dt){\n",
    "    int n  = 0;\n",
    "    int h_ = h + dt;\n",
    "    int res = 0;\n",
    "    while(true){\n",
    "        res = h_ - 12 * n;\n",
    "        if (res <= 12){\n",
    "            return res;\n",
    "        }\n",
    "        n++;\n",
    "    }\n",
    "}"
   ]
  },
  {
   "cell_type": "code",
   "execution_count": 7,
   "metadata": {
    "vscode": {
     "languageId": "c++"
    }
   },
   "outputs": [
    {
     "name": "stdout",
     "output_type": "stream",
     "text": [
      "11\n",
      "1\n"
     ]
    }
   ],
   "source": [
    "cout << mejor_adelanto(6,5) << endl;\n",
    "cout << mejor_adelanto(1,24) << endl;"
   ]
  },
  {
   "cell_type": "markdown",
   "metadata": {},
   "source": [
    "Fijemonos que lo que estamos haciendo es basicamente una division: \n",
    "\n",
    "```\n",
    "25 |12\n",
    "   |\n",
    "\n",
    "25 |12\n",
    "   |2\n",
    "\n",
    "25 |12\n",
    "24 |2\n",
    "\n",
    "25 |12\n",
    " 1 |2  <- cociente\n",
    " ↑\n",
    "Resto\n",
    "```\n",
    "\n",
    "O Escrito en forma de ecuacion:\n",
    "\n",
    "$$\n",
    "25  = 12\\cdot 2 + 1\n",
    "$$\n"
   ]
  },
  {
   "cell_type": "code",
   "execution_count": 8,
   "metadata": {
    "vscode": {
     "languageId": "c++"
    }
   },
   "outputs": [],
   "source": [
    "int GREAT_adelanto(int h,int dt){\n",
    "    int h_      = h + dt;\n",
    "    int divisor = h_/12;\n",
    "    return h_ - 12*divisor;\n",
    "}"
   ]
  },
  {
   "cell_type": "code",
   "execution_count": 9,
   "metadata": {
    "vscode": {
     "languageId": "c++"
    }
   },
   "outputs": [
    {
     "name": "stdout",
     "output_type": "stream",
     "text": [
      "11\n",
      "1\n"
     ]
    }
   ],
   "source": [
    "cout << GREAT_adelanto(6,5) << endl;\n",
    "cout << GREAT_adelanto(1,24) << endl;"
   ]
  },
  {
   "cell_type": "markdown",
   "metadata": {},
   "source": [
    "Finisimo, Pero ahora que pasa si queremos expresar cambios tanto positivos (adelantos) como negativos (regresiones)?"
   ]
  },
  {
   "cell_type": "code",
   "execution_count": 10,
   "metadata": {
    "vscode": {
     "languageId": "c++"
    }
   },
   "outputs": [
    {
     "name": "stdout",
     "output_type": "stream",
     "text": [
      "-1\n",
      "-4\n",
      "-6\n"
     ]
    }
   ],
   "source": [
    "cout << GREAT_adelanto(6,-7) << endl;\n",
    "cout << GREAT_adelanto(6,-10) << endl;\n",
    "cout << GREAT_adelanto(6,-12) << endl;"
   ]
  },
  {
   "cell_type": "markdown",
   "metadata": {},
   "source": [
    "No funciona :(, pero notemos que:\n",
    "\n",
    "$$\n",
    "\\begin{align*}\n",
    "12 - 1 &= 11 \\\\\n",
    "12 - 4 &=  8 \\\\\n",
    "12 - 6 &=  6 \n",
    "\\end{align*}\n",
    "$$"
   ]
  },
  {
   "cell_type": "code",
   "execution_count": 11,
   "metadata": {
    "vscode": {
     "languageId": "c++"
    }
   },
   "outputs": [],
   "source": [
    "int BEST_solution(int h, int dt){\n",
    "    int h_ = h + dt;\n",
    "    int modulo = h_ % 12;\n",
    "    return modulo < 0 ? 12 + modulo : modulo;\n",
    "}"
   ]
  },
  {
   "cell_type": "code",
   "execution_count": 12,
   "metadata": {
    "vscode": {
     "languageId": "c++"
    }
   },
   "outputs": [],
   "source": [
    "int pmod(int a, int b){\n",
    "    int modulo = a % b;\n",
    "    return modulo < 0 ? b + modulo : modulo;\n",
    "}"
   ]
  },
  {
   "cell_type": "code",
   "execution_count": 13,
   "metadata": {
    "vscode": {
     "languageId": "c++"
    }
   },
   "outputs": [
    {
     "name": "stdout",
     "output_type": "stream",
     "text": [
      "1\n",
      "0\n",
      "11\n",
      "8\n",
      "6\n"
     ]
    }
   ],
   "source": [
    "cout << BEST_solution(6,-5) << endl;\n",
    "cout << BEST_solution(6,-6) << endl;\n",
    "cout << BEST_solution(6,-7) << endl;\n",
    "cout << BEST_solution(6,-10) << endl;\n",
    "cout << BEST_solution(6,-12) << endl;"
   ]
  },
  {
   "cell_type": "markdown",
   "metadata": {},
   "source": [
    "# Ejercicio: Recorridos en una matriz!\n",
    "\n",
    "\n",
    "Dada una matriz cuadrada, imprimir: \n",
    "\n",
    "- La diagonal de la matriz\n",
    "- La anti-diagonal de la matriz\n",
    "- La diagonal de la matriz en orden inverso\n",
    "- La anti-diagonal de la matriz en orden inverso\n",
    "\n",
    "**Ejemplo:**\n",
    "\n",
    "```\n",
    "\n",
    "Input:\n",
    "\n",
    "[1 2 3]\n",
    "[4 5 6]\n",
    "[7 8 9]\n",
    "\n",
    "Output:\n",
    "\n",
    "1 5 9\n",
    "3 5 7\n",
    "9 5 1\n",
    "1 5 3\n",
    "\n",
    "\n",
    "```\n",
    "\n"
   ]
  },
  {
   "cell_type": "code",
   "execution_count": 14,
   "metadata": {
    "vscode": {
     "languageId": "c++"
    }
   },
   "outputs": [],
   "source": [
    "void print_diagonal(int** m, int n){\n",
    "    for (int i = 0; i < n; i++)\n",
    "        cout << m[i][i] << ' ';\n",
    "    \n",
    "    cout << endl;\n",
    "}"
   ]
  },
  {
   "cell_type": "code",
   "execution_count": 15,
   "metadata": {
    "vscode": {
     "languageId": "c++"
    }
   },
   "outputs": [],
   "source": [
    "void print_antidiagonal(int** m, int n){\n",
    "    for (int i = 0; i < n; i++)\n",
    "        cout << m[i][pmod(-(i+1),n)] << ' ';\n",
    "    \n",
    "    cout << endl;\n",
    "}"
   ]
  },
  {
   "cell_type": "code",
   "execution_count": 16,
   "metadata": {
    "vscode": {
     "languageId": "c++"
    }
   },
   "outputs": [],
   "source": [
    "void print_iantidiagonal(int** m, int n){\n",
    "    for (int i = 0; i < n; i++)\n",
    "        cout << m[pmod(-(i+1),n)][i] << ' ';\n",
    "    \n",
    "    cout << endl;\n",
    "}"
   ]
  },
  {
   "cell_type": "code",
   "execution_count": 17,
   "metadata": {
    "vscode": {
     "languageId": "c++"
    }
   },
   "outputs": [],
   "source": [
    "void print_idiagonal(int** m, int n){\n",
    "    for (int i = 0; i < n; i++)\n",
    "        cout << m[pmod(-(i+1),n)][pmod(-(i+1),n)] << ' ';\n",
    "    \n",
    "    cout << endl;\n",
    "}"
   ]
  },
  {
   "cell_type": "code",
   "execution_count": 18,
   "metadata": {
    "vscode": {
     "languageId": "c++"
    }
   },
   "outputs": [
    {
     "name": "stdout",
     "output_type": "stream",
     "text": [
      "1 5 9 \n",
      "3 5 7 \n",
      "9 5 1 \n",
      "7 5 3 \n"
     ]
    }
   ],
   "source": [
    "int** m;\n",
    "int arr[3][3] = {{1,2,3},{4,5,6},{7,8,9}};\n",
    "int* aux[3]   = {arr[0],arr[1],arr[2]};\n",
    "m = &aux[0];\n",
    "print_diagonal(m,3);\n",
    "print_antidiagonal(m,3);\n",
    "print_idiagonal(m,3);\n",
    "print_iantidiagonal(m,3);\n"
   ]
  },
  {
   "cell_type": "markdown",
   "metadata": {},
   "source": [
    "# Abstract away:\n",
    "\n",
    "\n",
    "<center>\n",
    "\n",
    "![meme1](./imgs/meme1.PNG)\n",
    "\n",
    "</center>\n",
    "\n",
    "Como se podran imaginar, este operador/truco es bastante util, basicamente cada vez que tengamos una estructura \"circular\" (que despues de tantas iteraciones vuelva al `0`), probablemente se termine usando el modulo, pero tambien tiene muchisimas otras utilidades!\n",
    "\n"
   ]
  },
  {
   "cell_type": "markdown",
   "metadata": {},
   "source": [
    "# Ejercicio: is_even\n",
    "\n",
    "Crear una funcion que imprima todos los elementos **pares** de un arreglo de enteros:\n",
    "\n",
    "\n",
    "```\n",
    "Input: [1,2,3,4,5]\n",
    "\n",
    "Output: 2 4\n",
    "\n",
    "Input: [1,3,5]\n",
    "\n",
    "Output:\n",
    "\n",
    "```"
   ]
  },
  {
   "cell_type": "code",
   "execution_count": 19,
   "metadata": {
    "vscode": {
     "languageId": "c++"
    }
   },
   "outputs": [],
   "source": [
    "void print_even(int* xs, int n){\n",
    "    for (int i = 0; i < n; i++){\n",
    "        if (xs[i] % 2 == 0 )\n",
    "            (cout << xs[i] << ' ');\n",
    "    }\n",
    "    cout << endl;\n",
    "}"
   ]
  },
  {
   "cell_type": "code",
   "execution_count": 20,
   "metadata": {
    "vscode": {
     "languageId": "c++"
    }
   },
   "outputs": [
    {
     "name": "stdout",
     "output_type": "stream",
     "text": [
      "2 4 \n",
      "\n"
     ]
    }
   ],
   "source": [
    "int* a;\n",
    "int arr[4] = {1,2,3,4};\n",
    "a = &arr[0];\n",
    "print_even(a,4);\n",
    "\n",
    "int arr2[3] = {1,3,5};\n",
    "a = &arr2[0];\n",
    "print_even(a,3);"
   ]
  },
  {
   "cell_type": "code",
   "execution_count": 21,
   "metadata": {
    "vscode": {
     "languageId": "c++"
    }
   },
   "outputs": [],
   "source": [
    "void print_multiple(int* xs, int n, int m){\n",
    "    for (int i = 0; i < n; i++){\n",
    "        if (xs[i] % m == 0 )\n",
    "            (cout << xs[i] << ' ');\n",
    "    }\n",
    "    cout << endl;\n",
    "}"
   ]
  },
  {
   "cell_type": "markdown",
   "metadata": {},
   "source": [
    "# Ejercicio:\n",
    "\n",
    "Un numero primo $p$ es un numero tal que:\n",
    "\n",
    "- Sus unicos **divisores positivos** son `1` y el mismo.\n",
    "- `p` **no** es `1`.\n",
    "\n",
    "Dada una lista de numeros, imprimir solo los primos.\n",
    "\n",
    "```\n",
    "input: [1,2,3,4,5,6,7,8,9,10,11,12,13]\n",
    "output:\n",
    "2\n",
    "3\n",
    "5\n",
    "7\n",
    "11\n",
    "13\n",
    "```\n"
   ]
  },
  {
   "cell_type": "code",
   "execution_count": 22,
   "metadata": {
    "vscode": {
     "languageId": "c++"
    }
   },
   "outputs": [],
   "source": [
    "bool is_prime(int n){\n",
    "    for (int i = 2; i < n; i++){\n",
    "        if (n % i == 0){\n",
    "            return false;\n",
    "        }\n",
    "    }\n",
    "\n",
    "    return n == 1 ? false : true;\n",
    "}"
   ]
  },
  {
   "cell_type": "code",
   "execution_count": 23,
   "metadata": {
    "vscode": {
     "languageId": "c++"
    }
   },
   "outputs": [],
   "source": [
    "void prime_printer(int* ns, int l){\n",
    "    for (int i = 0; i < l; i++){\n",
    "        if (is_prime(ns[i])){\n",
    "            cout << ns[i] << endl;\n",
    "        }\n",
    "    }\n",
    "}"
   ]
  },
  {
   "cell_type": "code",
   "execution_count": 24,
   "metadata": {
    "vscode": {
     "languageId": "c++"
    }
   },
   "outputs": [
    {
     "name": "stdout",
     "output_type": "stream",
     "text": [
      "2\n",
      "3\n",
      "5\n",
      "7\n",
      "11\n",
      "13\n"
     ]
    }
   ],
   "source": [
    "int arr3[13] = {1,2,3,4,5,6,7,8,9,10,11,12,13};\n",
    "a = &arr3[0];\n",
    "\n",
    "prime_printer(a, 13);"
   ]
  },
  {
   "cell_type": "markdown",
   "metadata": {},
   "source": [
    "# Ejercicio: Revertir los digitos!\n",
    "\n",
    "Dado un numero entero no-negativo cualquiera: `n`, imprimir sus digitos en orden inverso:\n",
    "\n",
    "\n",
    "```\n",
    "Input: 3250\n",
    "\n",
    "Output: \n",
    "\n",
    "0\n",
    "5\n",
    "2\n",
    "3\n",
    "```\n",
    "\n"
   ]
  },
  {
   "cell_type": "code",
   "execution_count": 25,
   "metadata": {
    "vscode": {
     "languageId": "c++"
    }
   },
   "outputs": [],
   "source": [
    "void digit_printer(int n){\n",
    "    if (n == 0){\n",
    "        cout << 0 << endl;\n",
    "        return;\n",
    "    }\n",
    "\n",
    "    while (n != 0){\n",
    "        cout << n % 10 << endl;\n",
    "        n = n / 10;\n",
    "    }\n",
    "}"
   ]
  },
  {
   "cell_type": "code",
   "execution_count": 26,
   "metadata": {
    "vscode": {
     "languageId": "c++"
    }
   },
   "outputs": [
    {
     "name": "stdout",
     "output_type": "stream",
     "text": [
      "0\n",
      "5\n",
      "2\n",
      "3\n"
     ]
    }
   ],
   "source": [
    "digit_printer(3250);\n"
   ]
  },
  {
   "cell_type": "markdown",
   "metadata": {},
   "source": [
    "Pero que pasa si en vez de imprimirlo, quisieramos el numero?"
   ]
  },
  {
   "cell_type": "code",
   "execution_count": 27,
   "metadata": {
    "vscode": {
     "languageId": "c++"
    }
   },
   "outputs": [],
   "source": [
    "int digit_reverser(int n){\n",
    "    int res = 0;\n",
    "    while (n != 0){\n",
    "        res = res * 10 + (n % 10);\n",
    "        n = n / 10;\n",
    "    }\n",
    "\n",
    "    return res;\n",
    "}"
   ]
  },
  {
   "cell_type": "markdown",
   "metadata": {},
   "source": [
    "# Nais Ejercicio: Cifrado Cesar\n",
    "\n",
    "El cifrado Cesar, nombrado por el emperador, fue un cifrado no solo razonablemente seguro durante su epoca, sino que tambien rapido, su funcionamiento se ilustra mejor por un ejemplo:\n",
    "\n",
    "\n",
    "Dado un mensaje m:\"Me gusta el quesito\" y un desplazamiento d: 3, entonces se reemplaza cada letra por la d-esima letra que le sigue:\n",
    "\n",
    "```\n",
    "Me gusta el quesito!\n",
    "Ph jxvwd ho txhvlwr!\n",
    "```\n",
    "\n",
    "Notemos que si una tuviesemos la letra 'Z' y el desplazamiento 1 entonces: 'Z' -> 'A', es decir, se devuelve al inicio.\n",
    "\n"
   ]
  },
  {
   "cell_type": "code",
   "execution_count": 28,
   "metadata": {
    "vscode": {
     "languageId": "c++"
    }
   },
   "outputs": [
    {
     "name": "stdout",
     "output_type": "stream",
     "text": [
      "65\n",
      "90\n",
      "97\n",
      "122\n"
     ]
    },
    {
     "data": {
      "text/plain": [
       "@0x7f8624e3cba0"
      ]
     },
     "execution_count": 28,
     "metadata": {},
     "output_type": "execute_result"
    }
   ],
   "source": [
    "cout << (int) 'A' << endl;\n",
    "cout << (int) 'Z' << endl;\n",
    "cout << (int) 'a' << endl;\n",
    "cout << (int) 'z' << endl;\n",
    "\n"
   ]
  },
  {
   "cell_type": "code",
   "execution_count": 29,
   "metadata": {
    "vscode": {
     "languageId": "c++"
    }
   },
   "outputs": [],
   "source": [
    "int total_letras = (int) 'z' - (int) 'a';"
   ]
  },
  {
   "cell_type": "code",
   "execution_count": 30,
   "metadata": {
    "vscode": {
     "languageId": "c++"
    }
   },
   "outputs": [],
   "source": [
    "bool es_minuscula(char c){\n",
    "    int c_ = (int) c;\n",
    "    return (int) 'a' <= c_ && c_ <= (int) 'z';\n",
    "}"
   ]
  },
  {
   "cell_type": "code",
   "execution_count": 31,
   "metadata": {
    "vscode": {
     "languageId": "c++"
    }
   },
   "outputs": [],
   "source": [
    "bool es_mayuscula(char c){\n",
    "    int c_ = (int) c;\n",
    "    return (int) 'A' <= c_ && c_ <= (int) 'Z';\n",
    "}"
   ]
  },
  {
   "cell_type": "code",
   "execution_count": 32,
   "metadata": {
    "vscode": {
     "languageId": "c++"
    }
   },
   "outputs": [],
   "source": [
    "char codificar_caracter(char c, int dt){\n",
    "    if (es_minuscula(c)){\n",
    "        return (char) (pmod((int) c - (int) 'a' + dt,total_letras) + (int) 'a');\n",
    "    } else if (es_mayuscula(c))\n",
    "    {\n",
    "        return (char) (pmod((int) c - (int) 'A' + dt,total_letras) + (int) 'A');\n",
    "    }\n",
    "\n",
    "    return c;\n",
    "}"
   ]
  },
  {
   "cell_type": "code",
   "execution_count": 33,
   "metadata": {
    "vscode": {
     "languageId": "c++"
    }
   },
   "outputs": [],
   "source": [
    "void codificar_string(string* s, int dt){\n",
    "    for (int i = 0; i < (*s).length(); i++){\n",
    "        (*s)[i] = codificar_caracter((*s)[i],dt);\n",
    "    }\n",
    "}"
   ]
  },
  {
   "cell_type": "code",
   "execution_count": 34,
   "metadata": {
    "vscode": {
     "languageId": "c++"
    }
   },
   "outputs": [
    {
     "name": "stdout",
     "output_type": "stream",
     "text": [
      "Me gusta el quesito!\n",
      "Ph jxvwd ho txhvlwr!\n"
     ]
    }
   ],
   "source": [
    "string mensaje = \"Me gusta el quesito!\";\n",
    "cout << mensaje << endl;\n",
    "codificar_string(&mensaje,3);\n",
    "cout << mensaje << endl;"
   ]
  },
  {
   "cell_type": "markdown",
   "metadata": {},
   "source": [
    "# PA LA CASA: Luhn's Algorithm\n",
    "\n",
    "El algoritmo de luhn es usado para verificar la validez de cosas como: tarjetas de credito, numero de IMEI, Identificaciones, ....\n",
    "\n",
    "Su funcionamiento es el siguiente: \n",
    "\n",
    "1.- Tome el numero original, y empezando desde el digito mas a la derecha, moviendose hacia la izquierda, duplique el valor de cada segundo digito (excluyendo el valor mas a la derecha).\n",
    "\n",
    "2.- Reemplace el valor resultante en cada posicion con la suma de los digitos de la posicion.\n",
    "\n",
    "3.- Sume los valores resultantes de todas las posiciones.\n",
    "\n",
    "4.- Un numero es valido si esta suma es equivalente a `0` modulo `10`.\n",
    "\n",
    "\n",
    "Ejemplo, si el numero es: `79927398713`.\n",
    "\n",
    "Paso 1: \n",
    "``` \n",
    "         7  9  9  2  7  3  9  8  7  1 3\n",
    "       * 1  2  1  2  1  2  1  2  1  2 1\n",
    "         --------------------------------\n",
    "         7  18 9  4  7  6  9 16  7  2 3\n",
    "```\n",
    "\n",
    "Paso 2:   \n",
    "```\n",
    "          7  18   9  4  7  6  9  16  7 2 3\n",
    "       -> 7  1+8  9  4  7  6  9  1+6 7 2 3\n",
    "       -> 7   9   9  4  7  6  9   7  7 2 3\n",
    "```\n",
    "\n",
    "Paso 3: \n",
    "\n",
    "`7 + 9 + 9 + 4 + 7 + 6 + 9 + 7 + 7 + 2 + 3 = 70`\n",
    "\n",
    "Paso 4: \n",
    "\n",
    "```\n",
    "70 `mod` 10 = 0, valido!\n",
    "```"
   ]
  },
  {
   "cell_type": "markdown",
   "metadata": {},
   "source": [
    "# Formalmente....\n",
    "\n",
    "1) https://omegaup.com/arena/problem/Luhns-Algorithm/\n",
    "2) https://omegaup.com/arena/problem/Plus1/\n",
    "\n"
   ]
  }
 ],
 "metadata": {
  "interpreter": {
   "hash": "9e3ecf769eac0321e9aab2b86f298cd61edd9ba96a03b97b489f7cba8f77f423"
  },
  "kernelspec": {
   "display_name": "C++11",
   "language": "C++11",
   "name": "python3101jvsc74a57bd03fcba5f111187b8d69b1f5fc1f36ed7c739bab779ccf9620e4c813b6feaf6515"
  },
  "language_info": {
   "codemirror_mode": "text/x-c++src",
   "file_extension": ".cpp",
   "mimetype": "text/x-c++src",
   "name": "C++11",
   "version": "11"
  },
  "orig_nbformat": 4
 },
 "nbformat": 4,
 "nbformat_minor": 2
}
