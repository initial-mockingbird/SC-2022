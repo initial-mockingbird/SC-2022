{
 "cells": [
  {
   "cell_type": "code",
   "execution_count": 3,
   "metadata": {},
   "outputs": [],
   "source": [
    "#include <iostream> // Para imprimir\n",
    "#include <stdlib.h> // Malloc/free\n",
    "#include <string.h> // Jupyter no permite cosas tipo cout << 5 por cuestiones de tipo (<< esta definido\n",
    "                    // tanto para strings como para numeros, cual deberia tomar? error!), asi que necesitamos castear cada cosa a string.\n",
    "#include <cmath>    // math\n",
    "using namespace std;\n",
    "\n"
   ]
  },
  {
   "cell_type": "markdown",
   "metadata": {},
   "source": [
    "# Un repaso de lo basico..."
   ]
  },
  {
   "cell_type": "markdown",
   "metadata": {},
   "source": [
    "## Funciones, Matrices, For-loops, y condicionales!"
   ]
  },
  {
   "cell_type": "markdown",
   "metadata": {},
   "source": [
    "### Matrices y Arreglos!\n",
    "\n",
    "Una matriz/arreglo es un contenedor (de datos) al que puedes acceder mediante un numero de fila y un numero de columna:\n",
    "\n",
    "\n",
    "```\n",
    "\n",
    "m = \n",
    "    [ Twinks, M&M      ] } Matriz m de tamaño:\n",
    "    [ Ruffle, Dorito   ] }       3 x 2\n",
    "    [ Oreo  , Platanito] } Filas⮥    ⮤Columnas\n",
    "    \n",
    "  ⬐Los indices empiezan desde 0!\n",
    "m[0][0] <- Twinks.\n",
    "m[0][1] <- M&M.\n",
    "m[1][0] <- Ruffle.\n",
    "m[1][1] <- Dorito.\n",
    "m[2][0] <- Oreo.\n",
    "m[2][1] <- Platanito.\n",
    "\n",
    "\n",
    "m1 = [Lunes, Martes, Miercoles, Jueves, Viernes, Sabado, Domingo] } matrix m1 de tamaño: 1 x 7\n",
    "\n",
    "```\n",
    "\n",
    "Si se conoce el tamaño de antemano, entonces ya sabemos como declarar y llenar matricess en C++:\n",
    "\n"
   ]
  },
  {
   "cell_type": "code",
   "execution_count": 4,
   "metadata": {},
   "outputs": [
    {
     "name": "stdout",
     "output_type": "stream",
     "text": [
      "Lunes Martes Miercoles Jueves Viernes Sabado Domingo \n",
      "--------------------\n",
      "Twinks M&M \n",
      "Ruffle Dorito \n",
      "Oreo Platanito \n"
     ]
    }
   ],
   "source": [
    "const char* mStatic[7] = {\"Lunes\",\"Martes\",\"Miercoles\",\"Jueves\",\"Viernes\",\"Sabado\",\"Domingo\"};\n",
    "\n",
    "for (int i = 0; i < 7; i++){\n",
    "    cout << mStatic[i] << ' ';\n",
    "}\n",
    "\n",
    "cout << \"\\n--------------------\\n\";\n",
    "\n",
    "const char* mStatic2[3][2] = \n",
    "    { {\"Twinks\", \"M&M\"       } \n",
    "    , {\"Ruffle\", \"Dorito\"    }\n",
    "    , {\"Oreo\"  , \"Platanito\" }\n",
    "    };\n",
    "\n",
    "for (int i = 0; i < 3; i++){\n",
    "    for (int j = 0; j < 2; j++){\n",
    "        cout << mStatic2[i][j] << ' ';\n",
    "    }\n",
    "    cout << '\\n';\n",
    "}\n"
   ]
  },
  {
   "cell_type": "markdown",
   "metadata": {},
   "source": [
    "\n",
    "### Matrices y Apuntadores en C++:\n",
    "\n",
    "Pero que pasa si no conocemos el tamaño de antemano? por ejemplo, que pasa si el tamaño viene dado por una variable, mediante IO, u otro mecanismo que no sea constante?\n",
    "\n",
    "Para esos casos, C++ introduce el manejo de memoria dinamico mediante: apuntadores y la palabra reservada: `new`.\n",
    "\n",
    "\n",
    "### Receta Corta:\n",
    "\n",
    "Si queremos crear un arreglo de tamaño variable, basta con hacer:\n",
    "\n",
    "\n",
    "```c++\n",
    "\n",
    "int size = 3;\n",
    "//⮦Por ahora pueden pensarlo como que un arreglo tiene dimension 1.\n",
    "int* arregloVariable = new int[size]; // <- el tamaño que acepta es variable!\n",
    "```\n",
    "\n",
    "Si queremos una matriz:\n",
    "\n",
    "```c++\n",
    "int filas = 5;\n",
    "int columnas = 4;\n",
    "// ⮦Por ahora pueden pensarlo como que una matriz tiene dimension 2.\n",
    "int** matrizVariable = new int*[filas];\n",
    "//                          ⮤Una matriz esta compuesta de arreglos!\n",
    "\n",
    "for (int i = 0; i < filas; i++){\n",
    "    // Debemos inicializar cada arreglo tambien!\n",
    "    matrizVariable[i] = new int[columnas];\n",
    "}\n",
    "```\n",
    "\n",
    "Si queremos un contenedor de 3 dimensiones:\n",
    "\n",
    "```c++\n",
    "int n = 5;\n",
    "int m = 4;\n",
    "int d = 2\n",
    "// ⮦Por ahora pueden pensarlo como que el contenedor tiene dimension 3.\n",
    "int*** matrizVariable = new int**[n];\n",
    "//                          ⮤Contiene elementos de dimension 2\n",
    "\n",
    "for (int i = 0; i < n; i++){\n",
    "    // Debemos inicializar cada elemento de dimension 2!\n",
    "    matrizVariable[i] = new int*[m];\n",
    "    for (int j = 0; j < m; j++){\n",
    "        // Debemos inicializar cada elemento de dimension 1!\n",
    "        matrizVariable[i][k] = new int[d];\n",
    "    }\n",
    "}\n",
    "```\n",
    "### La historia real...\n",
    "\n",
    "Imaginemos que tenemos un arreglo de tamaño `6` que contiene los numeros del `0-5`:\n",
    "\n",
    "```c++\n",
    "int nums[6] = {0,1,2,3,4,5,6};\n",
    "```\n",
    "\n",
    "\n",
    "En memoria, esto se veria asi:\n",
    "\n",
    "<center>\n",
    "\n",
    "![Arreglo en MIPS (emulador: MARS)](./imgs/mem1.png)\n",
    "\n",
    "</center>\n",
    "\n",
    "Fijemonos que esto no tiene nada de especial, el arreglo esta representado como varios bloques de memoria, que guardan un entero cada uno, y que empiezan en la direccion: `0x10010000` (llamada direccion base). Lo interesante viene cuando intentamos acceder al contenido en memoria:\n",
    "\n",
    "Cuado hacemos:\n",
    "\n",
    "```c++\n",
    "nums[2]\n",
    "```\n",
    "\n",
    "Lo que en realidad esta pasando en bajo nivel, es que estamos agarrando la direccion base (en nuestro caso: `0x10010000`), y nos movemos dos bloques para encontrar el contenido:\n",
    "\n",
    "<center>\n",
    "\n",
    "![Arreglo en MIPS (emulador: MARS)](./imgs/mem2.png)\n",
    "\n",
    "</center>\n",
    "\n",
    "En C++ el acceso a bloques se maneja mediante algo llamado apuntadores:\n",
    "\n",
    "```c++\n",
    "\n",
    "int nums[6] = {0,1,2,3,4,5,6}; // <- esta asignacion en realidad asocia la variable `nums` a la direccion base (en nuestro caso: `0x10010000`)\n",
    "\n",
    "nums[2]; // Esto en realidad es azucar sintactica para:\n",
    "\n",
    "*(nums+2); \n",
    "⭣ ↳Agarra la direccion base sumale 2 bloques\n",
    "↳ Y una vez tengas la direccion, dame el CONTENIDO de esa direccion\n",
    "\n",
    "\n",
    "*(nums+0) = *nums = nums[0];\n",
    "*(nums+1) = nums[1];\n",
    "*(nums+2) = nums[2];\n",
    "*(nums+3) = nums[3];\n",
    "          :\n",
    "          :\n",
    "          :\n",
    "*(nums+5) = nums[5];\n",
    "\n",
    "```\n",
    "\n",
    "Okey, pero como esto nos ayuda a tener arreglos dinamicos? \n",
    "\n",
    "Pues ahora que sabemos que es un apuntador, podemos pasar a la palabra reservada que hace la magia: `new`.\n",
    "\n",
    "Imaginemos que tenemos un curso de 3 personas con edades: 15,17 y 16, y queremos guardarlas en un arreglo, esto se haria de la siguiente forma:"
   ]
  },
  {
   "cell_type": "code",
   "execution_count": 5,
   "metadata": {},
   "outputs": [],
   "source": [
    "// Este codigo va a crear/reservar el arreglo, pero NO llenarlo.\n",
    "int totalEstudiantes = 3;\n",
    "//                     \n",
    "int* edades = new int[    totalEstudiantes     ];\n",
    "//             ⭱      ⮤Un bloque de este tamaño⮥\n",
    "//  Devuelve algo llamado un apuntador a enteros.\n"
   ]
  },
  {
   "cell_type": "markdown",
   "metadata": {},
   "source": [
    "La palabra reservada `new` no solo reserva el espacio de memoria que necesitamos, sino que devuelve la posicion donde empieza el bloque:\n",
    "\n",
    "```\n",
    "▣ ▢ ▢ <- new reserva un total de 3 espacios de puros enteros.\n",
    "⮤Y devuelve esta posicion!\n",
    "```\n",
    "\n",
    "La posicion base se utiliza para poder acceder a la matriz, intentemos llenar la matriz:\n"
   ]
  },
  {
   "cell_type": "code",
   "execution_count": 6,
   "metadata": {},
   "outputs": [
    {
     "name": "stdout",
     "output_type": "stream",
     "text": [
      "15\n",
      "17\n",
      "16\n"
     ]
    },
    {
     "data": {
      "text/plain": [
       "@0x7f889192eba0"
      ]
     },
     "execution_count": 6,
     "metadata": {},
     "output_type": "execute_result"
    }
   ],
   "source": [
    "*(edades + 0) = 15;  // busca la direccion: edades + 0, y asignale 15\n",
    "*(edades + 1) = 17;  // busca la direccion: edades + 1, y asignale 17\n",
    "*(edades + 2) = 16;  // busca la direccion: edades + 2, y asignale 16\n",
    "\n",
    "cout << to_string(*(edades+0)) << '\\n';\n",
    "cout << to_string(*(edades+1)) << '\\n';\n",
    "cout << to_string(*(edades+2)) << '\\n';\n",
    "\n"
   ]
  },
  {
   "cell_type": "markdown",
   "metadata": {},
   "source": [
    "Pero como trabajar con esta notacion es un DOLOR, C++ incorpora la siguiente azucar sintactica (que ya conocen):"
   ]
  },
  {
   "cell_type": "code",
   "execution_count": 7,
   "metadata": {},
   "outputs": [
    {
     "name": "stdout",
     "output_type": "stream",
     "text": [
      "15\n",
      "17\n",
      "16\n"
     ]
    }
   ],
   "source": [
    "edades[0] = 15; // formalmente: (edades + 0)* = 15\n",
    "edades[1] = 17; // formalmente: (edades + 1)* = 17\n",
    "edades[2] = 16; // formalmente: (edades + 2)* = 16\n",
    "\n",
    "cout << to_string(edades[0]) << '\\n';\n",
    "cout << to_string(edades[1]) << '\\n';\n",
    "cout << to_string(edades[2]) << '\\n';"
   ]
  },
  {
   "cell_type": "markdown",
   "metadata": {},
   "source": [
    "La vida es un jamon para los arreglos, la truduccion es directa, pero que pasa cuando tenemos una matriz? Pues vamos a tener que hacer un poco de magia...\n",
    "\n",
    "Imaginemos que tenemos la siguiente matriz:\n",
    "\n",
    "```\n",
    "m =\n",
    "    [1 2]\n",
    "    [3 4]\n",
    "    [5 6]\n",
    "```\n",
    "\n",
    "Fijemonos que la podemos reordenar de la siguiente manera:\n",
    "\n",
    "```\n",
    "m = [ [1 2], [3 4], [5 6] ] <- Un arreglo\n",
    "        ⮤ De Arreglos! ⮥\n",
    "```\n",
    "\n",
    "Es decir, una matriz no es nada mas un arreglo de arreglos que estan uno seguido del otro, y asi mismo lo vamos a representar en C++:\n",
    "\n"
   ]
  },
  {
   "cell_type": "code",
   "execution_count": 8,
   "metadata": {},
   "outputs": [
    {
     "name": "stdout",
     "output_type": "stream",
     "text": [
      "0 1 2 \n",
      "3 4 5 \n"
     ]
    }
   ],
   "source": [
    "// Reserva las filas Y las columnas\n",
    "int filas    = 2;\n",
    "int columnas = 3; \n",
    "int** m1 = new int*[filas]; \n",
    "// ⮤ int* <- un puntero a enteros\n",
    "//   int** <- un puntero a un puntero a enteros!\n",
    "for (int i = 0; i < filas; i++){\n",
    "    m1[i] = new int[columnas]; \n",
    "}\n",
    "\n",
    "\n",
    "\n",
    "\n",
    "m1[0][0] = 0;\n",
    "m1[0][1] = 1;\n",
    "m1[0][2] = 2;\n",
    "m1[1][0] = 3;\n",
    "m1[1][1] = 4;\n",
    "m1[1][2] = 5;\n",
    "\n",
    "for (float i =0; i < filas; i++){\n",
    "    for (int j=0; j < columnas; j++){\n",
    "        cout << to_string(m1[i][j]) << ' ';\n",
    "    }\n",
    "    cout <<'\\n';\n",
    "}\n"
   ]
  },
  {
   "cell_type": "markdown",
   "metadata": {},
   "source": [
    "Es decir, el codigo de arriba lo que hace es pedir 3 bloques de memoria: `[ *, *, *]`\n",
    "\n",
    "Y ahora por cada bloque reservado, necesitamos reservar el arreglo correspondiente:\n"
   ]
  },
  {
   "cell_type": "markdown",
   "metadata": {},
   "source": [
    "Esto efectivamente reserva los arreglos:\n",
    "\n",
    "```\n",
    "[ *, *]\n",
    "  ↓  ↳[_, _, _] <- fila 1 con 3 elementos reservados\n",
    "  ↳[_, _, _] <- fila 0 con 3 elementos reservados\n",
    "```\n",
    "\n",
    "O explicitamente en memoria:\n",
    "\n",
    "<center>\n",
    "\n",
    "![Arreglo en MIPS (emulador: MARS)](./imgs/mem3.png)\n",
    "\n",
    "</center>\n",
    "\n"
   ]
  },
  {
   "cell_type": "markdown",
   "metadata": {},
   "source": [
    "### Ejercicio: \n",
    "\n",
    "Creemos una funcion que dada una matriz cuadrada de tamaño `nXn`, retorne la suma de los elementos de la diagonal:\n",
    "\n",
    "ejemplo:\n",
    "\n",
    "```\n",
    "---------------\n",
    "Ejemplo 1\n",
    "---------------\n",
    "\n",
    "in: \n",
    "\n",
    "[1 2 3]\n",
    "[4 5 6]\n",
    "[7 8 9]\n",
    "\n",
    "out: 1 + 5 + 9 = 15\n",
    "\n",
    "---------------\n",
    "Ejemplo 2\n",
    "---------------\n",
    "\n",
    "in: \n",
    "\n",
    "[3 5]\n",
    "[7 9]\n",
    "\n",
    "out: 3 + 9 = 12\n",
    "\n",
    "---------------\n",
    "Ejemplo 3\n",
    "---------------\n",
    "\n",
    "in: \n",
    "\n",
    "[10]\n",
    "\n",
    "out: 10\n",
    "\n",
    "```"
   ]
  },
  {
   "cell_type": "code",
   "execution_count": 9,
   "metadata": {},
   "outputs": [],
   "source": [
    "double addDiagonal (double** m, int n ){\n",
    "\n",
    "    double res = 0;\n",
    "\n",
    "    for (int i = 0; i < n; i++){\n",
    "        for (int j = 0; j < n; j++){\n",
    "            res += i == j ? m[i][j] : 0; \n",
    "        }\n",
    "    }\n",
    "    return res;\n",
    "}"
   ]
  },
  {
   "cell_type": "markdown",
   "metadata": {},
   "source": [
    "Adicionalmente, creemos una funcion para construir matrices (no necesariamente cuadradas):"
   ]
  },
  {
   "cell_type": "code",
   "execution_count": 34,
   "metadata": {},
   "outputs": [],
   "source": [
    "// metaprogramacion\n",
    "template <typename T>\n",
    "T** matrixConstructor(T* numbers, int rows, int cols){\n",
    "    T** m = new T*[rows];\n",
    "\n",
    "    // y ahora, por cada fila:\n",
    "    for (int i = 0; i<rows; i++ ){\n",
    "        m[i] = new T[cols]; // reserva `cols` numeros\n",
    "        \n",
    "        for (int j = 0; j < cols;  j++){\n",
    "            m[i][j] = numbers[i*cols + j]; // y llena la posicion m[i][j] con el numero que le corresponde.\n",
    "        }\n",
    "    }\n",
    "    return m;\n",
    "}"
   ]
  },
  {
   "cell_type": "code",
   "execution_count": 41,
   "metadata": {},
   "outputs": [
    {
     "name": "stdout",
     "output_type": "stream",
     "text": [
      "0 1 \n",
      "2 3 \n",
      "4 5 \n"
     ]
    }
   ],
   "source": [
    "int* arregloD = new int[6];\n",
    "for (int i = 0; i < 6; i++){\n",
    "    arregloD[i] = i;\n",
    "}\n",
    "\n",
    "int** matrizD = matrixConstructor<int>(arregloD, 3,2);\n",
    "\n",
    "for (int i = 0; i<3; i++ ){\n",
    "        for (int j = 0; j < 2;  j++){\n",
    "            cout << to_string(matrizD[i][j]) << ' ';\n",
    "        }\n",
    "        cout << '\\n';\n",
    "    }\n",
    "\n"
   ]
  },
  {
   "cell_type": "markdown",
   "metadata": {},
   "source": [
    "Por si acaso, tambien crearemos un destructor en caso de que se nos acabe la memoria x.x"
   ]
  },
  {
   "cell_type": "code",
   "execution_count": 11,
   "metadata": {},
   "outputs": [],
   "source": [
    "template <typename T>\n",
    "void matrixDestructor(T** m, int rows){\n",
    "    // por cada fila\n",
    "    for (int i = 0; i<rows; i++ ){\n",
    "        // dangling references \n",
    "        delete[](m[i]); // libera el espacio que habias pedido para crear la columna correspondiente.\n",
    "    }\n",
    "    // y ahora libera el espacio inicial que pediste.\n",
    "    delete[](m);\n",
    "}"
   ]
  },
  {
   "cell_type": "markdown",
   "metadata": {},
   "source": [
    "Probemos nuestra implementacion:"
   ]
  },
  {
   "cell_type": "code",
   "execution_count": 12,
   "metadata": {},
   "outputs": [],
   "source": [
    "int size         = 10000;\n",
    "int totalNumbers = size * size;\n",
    "double* numbers  = new double[totalNumbers];\n",
    "\n",
    "// Llenemos la matriz con los numeros del 1 a `size`.\n",
    "for (int i = 0; i < totalNumbers; i++) \n",
    "    numbers[i] = (double) (i+1);\n",
    "\n",
    "// Creacion de la matriz!\n",
    "double** m = matrixConstructor<double>(numbers,size,size);\n"
   ]
  },
  {
   "cell_type": "markdown",
   "metadata": {},
   "source": [
    "Veamos que da cuando corremos la funcion `addDiagonal` sobre la matriz:"
   ]
  },
  {
   "cell_type": "code",
   "execution_count": 13,
   "metadata": {},
   "outputs": [
    {
     "name": "stdout",
     "output_type": "stream",
     "text": [
      "500000005000.000000\n"
     ]
    }
   ],
   "source": [
    "cout << to_string(addDiagonal(m,size)) << '\\n'; "
   ]
  },
  {
   "cell_type": "markdown",
   "metadata": {},
   "source": [
    "Finisimo, ahora veamos cuanto tarda en correrlo:"
   ]
  },
  {
   "cell_type": "code",
   "execution_count": 14,
   "metadata": {},
   "outputs": [
    {
     "name": "stdout",
     "output_type": "stream",
     "text": [
      "282 ms +- 6.29 ms per loop (mean +- std. dev. of 7 runs 1 loop each)\n"
     ]
    }
   ],
   "source": [
    "%timeit addDiagonal(m,size);"
   ]
  },
  {
   "cell_type": "markdown",
   "metadata": {},
   "source": [
    "Vale, ciertamente no esta mal, es menos de `1` segundo para una matriz de `100000000` elementos!, pero, podemos hacer mejor?\n",
    "\n",
    "\n",
    "Consideremos otra version de `addDiagonal`:"
   ]
  },
  {
   "cell_type": "code",
   "execution_count": 15,
   "metadata": {},
   "outputs": [],
   "source": [
    "double addDiagonal_ (double** m, int n ){\n",
    "    double res = 0;\n",
    "    for (int i = 0; i < n; i++)\n",
    "        res += m[i][i];\n",
    "\n",
    "    return res;\n",
    "}"
   ]
  },
  {
   "cell_type": "markdown",
   "metadata": {},
   "source": [
    "Sera que esta version es mas rapida que nuestro codigo original? y si es asi, por cuanto?\n",
    "\n",
    "Pues, veamos!"
   ]
  },
  {
   "cell_type": "code",
   "execution_count": 16,
   "metadata": {},
   "outputs": [
    {
     "name": "stdout",
     "output_type": "stream",
     "text": [
      "351 us +- 46.5 us per loop (mean +- std. dev. of 7 runs 1000 loops each)\n"
     ]
    }
   ],
   "source": [
    "%timeit addDiagonal_(m,size);"
   ]
  },
  {
   "cell_type": "code",
   "execution_count": 17,
   "metadata": {},
   "outputs": [],
   "source": [
    "matrixDestructor(m, size);\n",
    "delete[](numbers);"
   ]
  },
  {
   "cell_type": "markdown",
   "metadata": {},
   "source": [
    "La nueva version es mas de `100` veces mas rapida!!!!\n",
    "\n",
    "Esto nos genera una interrogante: sera que podemos estimar el tiempo que toma un algoritmo con respecto a la entrada? "
   ]
  },
  {
   "cell_type": "markdown",
   "metadata": {},
   "source": [
    "## Notacion Asintotica/O-Grande\n",
    "\n",
    "\n",
    "La respuesta es si! pero lamentablemente la facilidad de esto va a depender del algoritmo. Empecemos con nuestra segunda version de `addDiagonal`:\n",
    "\n",
    "Primero, vamos a contar cuantas operaciones hace el algoritmo:\n",
    "\n",
    "```c++\n",
    "double addDiagonal_ (double** m, int n ){\n",
    "\n",
    "    double res = 0; <- 1 Operacion (asignacion).\n",
    "\n",
    "    for (int i = 0; i < n; i++) <- este for se ejecuta `n` veces\n",
    "        res += m[i][i];  <- esta suma se ejecuta tantas veces como se ejecuta el for, es decir: `n`\n",
    "\n",
    "    return res; <- 1 operacion (retorno)\n",
    "\n",
    "}\n",
    "```\n",
    "\n",
    "Por lo tanto, el algoritmo toma: `1 + n + n + 1 = 2n+2` operaciones en total!\n",
    "\n",
    "Analicemos ahora nuestra primera version de `addDiagonal`:\n",
    "\n",
    "\n",
    "```c++\n",
    "double addDiagonal (double** m, int n ){\n",
    "\n",
    "    double res = 0; <- 1 operacion (asignacion)\n",
    "\n",
    "    // forde las #filas\n",
    "    for (int i = 0; i < n; i++){ <- el for de las #filas se ejecuta n veces\n",
    "        // for de las #columnas\n",
    "        for (int j = 0; j < n; j++){ <- Cada vez que el for de las #filas se ejecuta 1 vez\n",
    "                                        tenemos que ejecutar el for de las #columnas en su totalidad\n",
    "                                        es decir, este for hace: n + n + n + n + .... n = n*n = n^2\n",
    "                                                                 ⮤ tantas veces como filas hayan, es decir n veces\n",
    "                                        \n",
    "            res += i == j ? m[i][j] : 0; <- por el mismo razonamiento, esta suma se va a ejecutar n^2 vecces\n",
    "        }\n",
    "    }\n",
    "\n",
    "    return res; <- una operacion\n",
    "\n",
    "}\n",
    "```\n",
    "\n",
    "Por lo tanto, este algoritmo toma: `1 + n + n^2 + n^2 + 1 = 2n^2 + n + 2` operaciones.\n",
    "\n",
    "\n",
    "Entre la segunda version: `2n+2`, y la primera: `2n^2 + n + 2` evidentemente la segunda hace menos operaciones... pero hay una forma sencilla de verificar esto!\n",
    "\n",
    "\n",
    "Demonos cuenta que, cuando divides dos numeros, por ejemplo: `3/5`, si el denominador es mayor, el numero va a tender a `0`: `3/5 = 0.6`, mientras que si el numerador es mayor: `5/3` el resultado va a ser mayor a `1` (y entre mas grande sea, va a tender a infinito:) `5/3 ~ 1.6666`, `50/3 = 16.6666`, `500/3 = 166.6666`.\n",
    "\n",
    "\n",
    "Lo mismo podemos aplicar para estas cosas!!\n",
    "\n",
    "\n"
   ]
  },
  {
   "cell_type": "markdown",
   "metadata": {},
   "source": [
    "```c++\n",
    "\n",
    "int main() {\n",
    "    int n;\n",
    "\n",
    "    do {\n",
    "        cin>>n;\n",
    "    }while(n>15 || n<1);\n",
    "\n",
    "    cout<<endl;\n",
    "\n",
    "    for(int l=1;l<=n;l++) { <- n\n",
    "        for(int i=1;i<=l;i++){ <- 1 + 2 + 3 + 4 + .... + n = (n * (n+1)) / 2 = (n^2 + n) / 2\n",
    "            cout<<\"#\";\n",
    "        }\n",
    "        cout<<endl;\n",
    "    }\n",
    "\n",
    "    return 0;\n",
    "}\n",
    "```"
   ]
  },
  {
   "cell_type": "code",
   "execution_count": 45,
   "metadata": {},
   "outputs": [],
   "source": [
    "\n",
    "double complejidad1(int n){\n",
    "    // 2n^2 + n + 2\n",
    "    //return 2*pow(n,2) + n + 2;\n",
    "    //return 2*pow(n,2) + n + 2;\n",
    "    return n/2 + 50; // 52\n",
    "    // 10^10\n",
    "    // 10 * 10^9 + 50\n",
    "    // 5*10^9 + 50\n",
    "}   \n",
    "\n",
    "\n",
    "\n"
   ]
  },
  {
   "cell_type": "code",
   "execution_count": 46,
   "metadata": {},
   "outputs": [],
   "source": [
    "double complejidad2 (int n){\n",
    "    // 2n + 2       2n + 2             4(n + 100)   -  400 +2       4 - 400 +2\n",
    "    // --------- = -------------- =  --------------   -------    =      -------\n",
    "    // n  + 50       n + 100              n + 100     n + 100            n + 100\n",
    "    // -             -------\n",
    "    // 2                2\n",
    "    return 2*n + 2; // 10\n",
    "    // 2*10*10^9 + 2\n",
    "    // 100*10^9+ 2\n",
    "}"
   ]
  },
  {
   "cell_type": "code",
   "execution_count": 47,
   "metadata": {},
   "outputs": [
    {
     "name": "stdout",
     "output_type": "stream",
     "text": [
      "n: 1\n",
      "complejidad1: 50.500000\n",
      "complejidad2: 4.000000\n",
      "complejidad1/complejidad2: 12.625000\n",
      "------------------------------\n",
      "\n",
      "n: 10\n",
      "complejidad1: 55.000000\n",
      "complejidad2: 22.000000\n",
      "complejidad1/complejidad2: 2.500000\n",
      "------------------------------\n",
      "\n",
      "n: 100\n",
      "complejidad1: 100.000000\n",
      "complejidad2: 202.000000\n",
      "complejidad1/complejidad2: 0.495050\n",
      "------------------------------\n",
      "\n",
      "n: 1000\n",
      "complejidad1: 550.000000\n",
      "complejidad2: 2002.000000\n",
      "complejidad1/complejidad2: 0.274725\n",
      "------------------------------\n",
      "\n",
      "n: 10000\n",
      "complejidad1: 5050.000000\n",
      "complejidad2: 20002.000000\n",
      "complejidad1/complejidad2: 0.252475\n",
      "------------------------------\n",
      "\n",
      "n: 100000\n",
      "complejidad1: 50050.000000\n",
      "complejidad2: 200002.000000\n",
      "complejidad1/complejidad2: 0.250247\n",
      "------------------------------\n",
      "\n",
      "n: 1000000\n",
      "complejidad1: 500050.000000\n",
      "complejidad2: 2000002.000000\n",
      "complejidad1/complejidad2: 0.250025\n",
      "------------------------------\n",
      "\n"
     ]
    }
   ],
   "source": [
    "int n;\n",
    "\n",
    "for (int i = 0; i < 7; i++){\n",
    "    n = pow(10,i);\n",
    "    cout << \"n: \" << to_string(n) << '\\n';\n",
    "    cout << \"complejidad1: \" << to_string(complejidad1(n)) << '\\n';\n",
    "    cout << \"complejidad2: \" << to_string(complejidad2(n)) << '\\n';\n",
    "    cout << \"complejidad1/complejidad2: \"  << to_string(complejidad1(n)/complejidad2(n)) << '\\n';\n",
    "    cout << \"------------------------------\\n\\n\";\n",
    "}"
   ]
  },
  {
   "cell_type": "markdown",
   "metadata": {},
   "source": [
    "### Ejercicio: Perimetro de una isla\n",
    "\n",
    "[source](https://leetcode.com/problems/island-perimeter/)\n",
    "\n",
    "Se da una matriz `grid` de dimension `row x col`, en donde `grid[i][j] = 1` representa tierra, u `grid[i][j] = 0` representa agua.\n",
    "\n",
    "Las celdas estan conectadas **horizontal o verticalmente** (no de manera diagonal!). La matriz esta rodeada por agua, y hay exactamente una isla (i.e: una o mas celdas de tierra conectadas).\n",
    "\n",
    "La isla no tiene \"lagos\", lo que significa que no hay agua adentro de la isla. Todos los lados poseen perimetro `1`. La matriz es rectangular, y el tamaño de las filas como de las columnas no exceden `100`.  Determine el perimetro de la isla.\n",
    "\n",
    "Ejemplo:\n",
    "\n",
    "<center>\n",
    "\n",
    "![ejemplo1](./imgs/island1.png)\n",
    "\n",
    "</center>\n",
    "\n",
    "```\n",
    "Input: grid = [[0,1,0,0],[1,1,1,0],[0,1,0,0],[1,1,0,0]]\n",
    "Output: 16\n",
    "Explanation: The perimeter is the 16 yellow stripes in the image above.\n",
    "```\n"
   ]
  },
  {
   "cell_type": "code",
   "execution_count": 21,
   "metadata": {},
   "outputs": [],
   "source": [
    "// Solucion 1:\n",
    "// envolver la matriz en una capa de agua, iterar sobre las aguas contando cuantas tierras tienen como vecinos:\n",
    "\n",
    "/*\n",
    "               [0,0,0,0,0,0]\n",
    "[ [0,1,0,0] -> [0,0,1,0,0,0]\n",
    ", [1,1,1,0] -> [0,1,1,1,0,0]\n",
    ", [0,1,0,0] -> [0,0,1,0,0,0] \n",
    ", [1,1,0,0] -> [0,1,1,0,0,0]\n",
    "]              [0,0,0,0,0,0]\n",
    "*/\n",
    "\n",
    "O((n+2)(m+2)) = O(nm + 2n + 2m + 4) = O(nm)\n",
    "\n",
    "int** envolverMatriz(int** matriz,int row_,int col_){\n",
    "    int row = row_ + 2;       // 1\n",
    "    int col = col_ + 2;       // 1\n",
    "    int** m;  // 1\n",
    "    int* numbers = new int[row*col]; // 1\n",
    "\n",
    "    for (int i = 0; i<(row*col); i++){\n",
    "        numbers[i] = 0;  // row*col\n",
    "    }\n",
    "\n",
    "    m = matrixConstructor<int>(numbers,row,col); // row*col\n",
    "\n",
    "    // (n+1)(m+1) = nm + n + m + 1 = nm\n",
    "    for (int i = 0; i<row; i++ ){ // row\n",
    "        for (int j = 0; j < col;  j++){ // row * col\n",
    "            if (i == 0 || j == 0 || i == row-1 || j == col-1){ // row * col\n",
    "                m[i][j] = 0; // row * col\n",
    "            } else {\n",
    "                m[i][j] = matriz[i-1][j-1]; // row * col\n",
    "            }\n",
    "        }\n",
    "    }\n",
    "\n",
    "    return m; // 1\n",
    "}\n",
    "\n",
    "// total: 1 + 1 + 1 + row + row + row*col + row*col + row*col + row*col + row*col + 1\n",
    "// total = 4*row*col + 2*row + 4\n",
    "// total = 4*(row_ + 2)*(col_ + 2) + 2 * (row_ + 2) + 4\n",
    "// total = 4*(row_*col_ + 2*row_ + 2*col_ + 4) + 2*row_ + 4 + 4\n",
    "// total = 4*row_*col_ + 8*row_ + 8*col_ + 16 + 2*row_ + 4 + 4\n",
    "// total = 4*row_*col_ + 10*row_ + 8*col_ + 24\n",
    "\n"
   ]
  },
  {
   "cell_type": "code",
   "execution_count": 22,
   "metadata": {},
   "outputs": [],
   "source": [
    "int contarVecinosTierras(int** m, int row, int col, int i, int j){\n",
    "    int arriba, abajo, izquierda, derecha;\n",
    "    // 1\n",
    "    arriba    = (i-1 >= 0)  && m[i-1][j] == 1 ? 1 : 0; // 1\n",
    "    abajo     = (i+1 < row) && m[i+1][j] == 1 ? 1 : 0; // 1\n",
    "    izquierda = (j-1 >= 0)  && m[i][j-1] == 1 ? 1 : 0; // 1\n",
    "    derecha   = (j+1 < col) && m[i][j+1] == 1 ? 1 : 0; // 1\n",
    "\n",
    "    \n",
    "    // O(1) \n",
    "    return arriba + abajo + izquierda + derecha; // 1\n",
    "\n",
    "}\n",
    "// total: 5"
   ]
  },
  {
   "cell_type": "code",
   "execution_count": 23,
   "metadata": {},
   "outputs": [],
   "source": [
    "// n*m Es lineal con respecto a la matriz\n",
    "int contarTierras(int** matriz, int row, int col){\n",
    "    int perimetro = 0; // 1\n",
    "    int** m       = envolverMatriz(matriz, row, col); // row*col\n",
    "    for (int i = 0; i < row+2; i++){ // row\n",
    "        for (int j = 0; j < col+2; j++){ // row*col\n",
    "            perimetro += m[i][j] == 0 ? contarVecinosTierras(m,row+2,col+2,i,j) : 0; // row*col\n",
    "        }\n",
    "    }\n",
    "\n",
    "    matrixDestructor<int>(m,row+2);\n",
    "    return perimetro; // 1\n",
    "}"
   ]
  },
  {
   "cell_type": "code",
   "execution_count": 24,
   "metadata": {},
   "outputs": [
    {
     "name": "stdout",
     "output_type": "stream",
     "text": [
      "16\n"
     ]
    }
   ],
   "source": [
    "int row = 4;\n",
    "int col = 4;\n",
    "int** m = new int*[row];\n",
    "\n",
    "for (int i =0; i < col; i++){\n",
    "    m[i] = new int[col];\n",
    "}\n",
    "\n",
    "m[0][0] = 0;\n",
    "m[0][1] = 1;\n",
    "m[0][2] = 0;\n",
    "m[0][3] = 0;\n",
    "\n",
    "m[1][0] = 1;\n",
    "m[1][1] = 1;\n",
    "m[1][2] = 1;\n",
    "m[1][3] = 0;\n",
    "\n",
    "m[2][0] = 0;\n",
    "m[2][1] = 1;\n",
    "m[2][2] = 0;\n",
    "m[2][3] = 0;\n",
    "\n",
    "m[3][0] = 1;\n",
    "m[3][1] = 1;\n",
    "m[3][2] = 0;\n",
    "m[3][3] = 0;\n",
    "\n",
    "\n",
    "cout << to_string(contarTierras(m,4,4)) << '\\n';\n",
    "matrixDestructor<int>(m,row);"
   ]
  },
  {
   "cell_type": "markdown",
   "metadata": {},
   "source": [
    "Few, unque ya sabemos como contar cuantas operaciones realiza un algoritmo, este proceso es bastante fastidioso x.x, por lo tanto, se crearon unas reglas que aunque quitan un poco de precision a la hora de sacar el tiempo, nos facilitan infinitamente la vida:\n",
    "\n",
    "\n",
    "- Sea `funcion1` y `funcion2` dos funciones cualquiera, el tiempo de ejecutar `funcion1` y luego `funcion2` sera: `O(max(funcion1,funcion2))`\n",
    "- Si `k` es un numero fijo (constante), y `funcion1` se ejecuta `k` veces entonces: $O(k\\cdot funcion1) = O(funcion1)$\n",
    "- Esto significa que: $O(3n^2 + 4n - 5 ) = O(n^2)$\n",
    "- Y tambien significa que: $O((a+3)*(b+5)) = O(a*b)$\n",
    "\n",
    "\n",
    "\n",
    "Estas propiedades nos dejan calcular complejidad de manera mucho mas rapida! (revisitar el ejemplo rapido).\n"
   ]
  },
  {
   "cell_type": "markdown",
   "metadata": {},
   "source": [
    "# PA LA CASA\n",
    "\n",
    "\n",
    "- https://omegaup.com/arena/problem/Volteando-una-Imagen/#problems\n",
    "- https://omegaup.com/arena/problem/Suma-z/#problems\n",
    "- https://omegaup.com/arena/problem/Perimetro-de-una-isla/#problems\n",
    "\n",
    "## Islitas: revisited\n",
    "\n",
    "Plantear una solucion alternativa al problema anterior (puntos extra si no se expande la matriz!) (hint: trabajar con las tierras).\n",
    "(ultimo link!).\n",
    "\n",
    "## \n"
   ]
  },
  {
   "cell_type": "markdown",
   "metadata": {},
   "source": [
    "## Tip para leer cosas con el formato dado:\n",
    "\n",
    "```c++\n",
    "#include <iostream>\n",
    "\n",
    "template <typename T>\n",
    "T** matrixConstructor(T* numbers, int rows, int cols){\n",
    "    T** m = new T*[rows];\n",
    "\n",
    "    // y ahora, por cada fila:\n",
    "    for (int i = 0; i<rows; i++ ){\n",
    "        m[i] = new T[cols]; // reserva `cols` numeros\n",
    "        \n",
    "        for (int j = 0; j < cols;  j++){\n",
    "            m[i][j] = numbers[i*cols + j]; // y llena la posicion m[i][j] con el numero que le corresponde.\n",
    "        }\n",
    "    }\n",
    "\n",
    "    return m;\n",
    "\n",
    "}\n",
    "\n",
    "template <typename T>\n",
    "void matrixDestructor(T** m, int rows){\n",
    "    \n",
    "    // por cada fila\n",
    "    for (int i = 0; i<rows; i++ ){\n",
    "        delete[](m[i]); // libera el espacio que habias pedido para crear la columna correspondiente.\n",
    "    }\n",
    "    // y ahora libera el espacio inicial que pediste.\n",
    "    delete[](m);\n",
    "\n",
    "}\n",
    "\n",
    "using namespace std;\n",
    "\n",
    "int main() {\n",
    "  // ya venia con el omega\n",
    "  cin.tie(nullptr);\n",
    "  ios_base::sync_with_stdio(false);\n",
    "  \n",
    "  // pa que no lance warning\n",
    "  int err;\n",
    "  int row;\n",
    "  int col;\n",
    "  // lee dos enteros (%d) por consola separados por un salto de linea (\\n)\n",
    "  err = scanf(\"%d\\n%d\\n\",&row,&col);\n",
    "\n",
    "  //cout << row << endl;\n",
    "  //cout << col << endl;\n",
    "  \n",
    "  // Wardamos los numeros como arreglo\n",
    "  int* numbers = new int[row*col];\n",
    "\n",
    "  // Leemos la ultima linea de putos numeros\n",
    "  for (int i=0; i < row*col; i++){\n",
    "    err = scanf(\"%d\",&numbers[i]);\n",
    "  }\n",
    "\n",
    "  // construimos la matriz\n",
    "  int** m = matrixConstructor(numbers,row,col);\n",
    "  \n",
    "  // imprimimos la matriz en forma de arreglo.\n",
    "  for (int i =0; i < row; i++){\n",
    "    for (int j = 0; j < col; j++){\n",
    "      cout << m[i][j];\n",
    "      // no poner ningun espacio en blanco al final!\n",
    "      if ((i != row-1) || (j != col-1))\n",
    "        cout << ' ';\n",
    "    }\n",
    "  }\n",
    "  \n",
    "  return 0;\n",
    "}\n",
    "```"
   ]
  }
 ],
 "metadata": {
  "interpreter": {
   "hash": "9e3ecf769eac0321e9aab2b86f298cd61edd9ba96a03b97b489f7cba8f77f423"
  },
  "kernelspec": {
   "display_name": "C++11",
   "language": "C++11",
   "name": "python3101jvsc74a57bd03fcba5f111187b8d69b1f5fc1f36ed7c739bab779ccf9620e4c813b6feaf6515"
  },
  "language_info": {
   "codemirror_mode": "text/x-c++src",
   "file_extension": ".cpp",
   "mimetype": "text/x-c++src",
   "name": "C++11",
   "version": "11"
  },
  "orig_nbformat": 4
 },
 "nbformat": 4,
 "nbformat_minor": 2
}
