{
 "cells": [
  {
   "cell_type": "code",
   "execution_count": 1,
   "metadata": {},
   "outputs": [],
   "source": [
    "#include <iostream> \n",
    "#include <stdlib.h> \n",
    "#include <string>   \n",
    "#include <cmath>    \n",
    "#include <stdexcept>\n",
    "#include <type_traits>\n",
    "//using namespace std;\n"
   ]
  },
  {
   "cell_type": "markdown",
   "metadata": {},
   "source": [
    "# Esquemas recursivos! toda la logica sin nada de la recursion.\n",
    "\n",
    "vease [FoldTree.cpp](./FoldTree.cpp)\n",
    "\n"
   ]
  },
  {
   "cell_type": "markdown",
   "metadata": {},
   "source": [
    "# Busqueda binaria en arboles!\n",
    "\n",
    "Recordando...\n",
    "\n",
    "Un arbol (binario) se puede pensar como una generalizacion de lista enlazada: en vez de tener un solo apuntador al siguiente se tiene un apuntador a un hijo izquierdo y uno hijo derecho:\n",
    "\n",
    "<center>\n",
    "\n",
    "![Arbol](https://res.cloudinary.com/practicaldev/image/fetch/s--od-naD9n--/c_limit%2Cf_auto%2Cfl_progressive%2Cq_auto%2Cw_880/https://miro.medium.com/max/975/1%2APWJiwTxRdQy8A_Y0hAv5Eg.png)\n",
    "\n",
    "</center>\n",
    "\n",
    "\n",
    "Si el arbol ademas cumple con las siguientes propiedades:\n",
    "\n",
    "* Todo valor de cualquier nodo izquierdo es menor al nodo raiz.\n",
    "* Todo valor de cualquier nodo derecho   es mayor al nodo raiz.\n",
    "\n",
    "Decimos que este arbol es binario de busqueda o Binary Search Tree (BST):\n",
    "\n",
    "<center>\n",
    "\n",
    "![BST](https://upload.wikimedia.org/wikipedia/commons/thumb/d/da/Binary_search_tree.svg/1200px-Binary_search_tree.svg.png)\n",
    "\n",
    "</center>\n",
    "\n",
    "\n"
   ]
  },
  {
   "cell_type": "markdown",
   "metadata": {},
   "source": [
    "# Operaciones!\n",
    "\n",
    "## Busqueda:\n",
    "\n",
    "* Si el valor a insertar es menor que el nodo, se busca en el subarbol izquierdo\n",
    "* Si el valor a insertar es mayor que el nodo, se busca en el subarbol derecho\n",
    "* Si es igual..... true!\n",
    "* Si el nodo es hoja... False!\n",
    "\n",
    "<center>\n",
    "\n",
    "![Search in a BST](https://static.javatpoint.com/ds/images/searching-in-binary-search-tree.png)\n",
    "\n",
    "</center>\n",
    "\n",
    "## Insercion:\n",
    "\n",
    "* Si el valor a insertar es menor que el nodo, se inserta en el subarbol izquierdo\n",
    "* Si el valor a insertar es mayor que el nodo, se inserta en el subarbol derecho\n",
    "* Si es igual..... El sabor lo da el programador.\n",
    "* Si el nodo es hoja, se crea un nuevo nodo con el valor que se va a insertar\n",
    "\n",
    "<center>\n",
    "\n",
    "![Insertion in a BST](https://www.techiedelight.com/wp-content/uploads/Insert-into-BST.png)\n",
    "\n",
    "</center>\n",
    "\n",
    "## Deletion\n",
    "\n",
    "Eliminar es un poco mas complicado...\n",
    "\n",
    "<center>\n",
    "\n",
    "![Eliminacion](https://static.packt-cdn.com/products/9781789801736/graphics/C09581_08_02.jpg)\n",
    "\n",
    "</center>\n",
    "\n",
    "* Si queremos eliminar un nodo raiz, simplemente lo eliminamos!\n",
    "  \n",
    "<center>\n",
    "\n",
    "![eliminando 10](./imgs/d1.PNG)\n",
    "\n",
    "</center>\n",
    "\n",
    "* Si queremos eliminar un nodo con un solo hijo... lo eliminamos enlazando el padre con el hijo del nodo actual:\n",
    "\n",
    "<center>\n",
    "\n",
    "![eliminando 9 despues de eliminar 10](./imgs/d2.PNG)\n",
    "\n",
    "</center>\n",
    "\n",
    "* Si queremos eliminar un nodo con ambos hijos... encontramos su sucesor, lo eliminamos, y actualizamos el valor del nodo actual con el valor del sucesor\n",
    "\n",
    "<center>\n",
    "\n",
    "![](./imgs/d3.PNG)\n",
    "\n",
    "</center>\n",
    "\n",
    "<center>\n",
    "\n",
    "![](./imgs/d4.PNG)\n",
    "\n",
    "</center>\n",
    "\n",
    "Por que funciona?\n"
   ]
  },
  {
   "cell_type": "markdown",
   "metadata": {},
   "source": [
    "# Ejemplo 1:\n",
    "\n",
    "Dado un arbol binario, verificar si cumpla las propiedades de BST."
   ]
  },
  {
   "cell_type": "markdown",
   "metadata": {},
   "source": [
    "# Kth Smallest Element in a BST\n",
    "\n",
    "Given the root of a binary search tree, and an integer k, return the kth smallest value (1-indexed) of all the values of the nodes in the tree.\n",
    "\n",
    "## Example\n",
    "\n",
    "\n",
    "<center>\n",
    "\n",
    "![](https://assets.leetcode.com/uploads/2021/01/28/kthtree2.jpg)\n",
    "\n",
    "</center>\n",
    "\n",
    "```\n",
    "Input: root = [5,3,6,2,4,null,null,1], k = 3\n",
    "Output: 3\n",
    "```\n"
   ]
  },
  {
   "cell_type": "markdown",
   "metadata": {},
   "source": [
    "# Construct Binary Search Tree from Preorder Traversal\n",
    "\n",
    "Given an array of integers preorder, which represents the preorder traversal of a BST (i.e., binary search tree), construct the tree and return its root.\n",
    "\n",
    "It is guaranteed that there is always possible to find a binary search tree with the given requirements for the given test cases.\n",
    "\n",
    "A binary search tree is a binary tree where for every node, any descendant of Node.left has a value strictly less than Node.val, and any descendant of Node.right has a value strictly greater than Node.val.\n",
    "\n",
    "A preorder traversal of a binary tree displays the value of the node first, then traverses Node.left, then traverses Node.right.\n",
    "\n",
    "## Example\n",
    "\n",
    "<center>\n",
    "\n",
    "![](https://assets.leetcode.com/uploads/2019/03/06/1266.png)\n",
    "\n",
    "</center>\n",
    "\n",
    "```\n",
    "Input: preorder = [8,5,1,7,10,12]\n",
    "```"
   ]
  },
  {
   "cell_type": "markdown",
   "metadata": {},
   "source": [
    "# Tarea!\n",
    "\n",
    "1. Usaando foldA... https://leetcode.com/problems/leaf-similar-trees/\n",
    "2. Generalizando el anterior, escribir una funcion que determine si dos BST son iguales.\n",
    "3. Implementar todas las funciones que se pueden implementar con `fold`.\n",
    "4. Encontrar el valor mas cercano en un BST."
   ]
  }
 ],
 "metadata": {
  "interpreter": {
   "hash": "9e3ecf769eac0321e9aab2b86f298cd61edd9ba96a03b97b489f7cba8f77f423"
  },
  "kernelspec": {
   "display_name": "C++14",
   "language": "C++14",
   "name": "xcpp14"
  },
  "language_info": {
   "codemirror_mode": "text/x-c++src",
   "file_extension": ".cpp",
   "mimetype": "text/x-c++src",
   "name": "c++",
   "version": "14"
  },
  "orig_nbformat": 4
 },
 "nbformat": 4,
 "nbformat_minor": 2
}
