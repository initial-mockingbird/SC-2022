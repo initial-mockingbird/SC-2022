{
 "cells": [
  {
   "cell_type": "code",
   "execution_count": 1,
   "metadata": {
    "vscode": {
     "languageId": "c++"
    }
   },
   "outputs": [],
   "source": [
    "#include <iostream> \n",
    "#include <stdlib.h> \n",
    "#include <string>   \n",
    "#include <cmath>    \n",
    "#include <stdexcept>\n",
    "#include <type_traits>\n",
    "//using namespace std;\n"
   ]
  },
  {
   "cell_type": "markdown",
   "metadata": {},
   "source": [
    "# Binary Tree Right Side View\n",
    "\n",
    "Given the root of a binary tree, imagine yourself standing on the right side of it, return the values of the nodes you can see ordered from top to bottom.\n",
    "\n",
    "## Example 1\n",
    "\n",
    "<center>\n",
    "\n",
    "![](https://assets.leetcode.com/uploads/2021/02/14/tree.jpg)\n",
    "\n",
    "</center>\n",
    "\n",
    "```c++\n",
    "Input: root = [1,2,3,null,5,null,4]\n",
    "Output: [1,3,4]\n",
    "```"
   ]
  },
  {
   "cell_type": "markdown",
   "metadata": {},
   "source": [
    "# Lowest Common Ancestor of a Binary Tree\n",
    "\n",
    "Given a binary tree, find the lowest common ancestor (LCA) of two given nodes in the tree.\n",
    "\n",
    "According to the definition of LCA on Wikipedia: “The lowest common ancestor is defined between two nodes p and q as the lowest node in T that has both p and q as descendants (where we allow a node to be a descendant of itself).”\n",
    "\n",
    "## Example 1:\n",
    "\n",
    "<center>\n",
    "\n",
    "![](https://assets.leetcode.com/uploads/2018/12/14/binarytree.png)\n",
    "\n",
    "</center>\n",
    "\n",
    "```c++\n",
    "Input: root = [3,5,1,6,2,0,8,null,null,7,4], p = 5, q = 1\n",
    "Output: 3\n",
    "Explanation: The LCA of nodes 5 and 1 is 3.\n",
    "```"
   ]
  },
  {
   "cell_type": "markdown",
   "metadata": {},
   "source": [
    "# Lowest Common Ancestor of a Binary SEARCH Tree\n",
    "\n",
    "lo mismo, pero ahora el arboles binario de busqueda.\n",
    "\n",
    "## Example 1\n",
    "\n",
    "<center>\n",
    "\n",
    "![](https://assets.leetcode.com/uploads/2018/12/14/binarysearchtree_improved.png)\n",
    "\n",
    "</center>\n",
    "\n",
    "\n",
    "```c++\n",
    "Input: root = [6,2,8,0,4,7,9,null,null,3,5], p = 2, q = 8\n",
    "Output: 6\n",
    "Explanation: The LCA of nodes 2 and 8 is 6.\n",
    "```"
   ]
  },
  {
   "cell_type": "markdown",
   "metadata": {},
   "source": [
    "#  Symmetric Tree\n",
    "\n",
    "Given the root of a binary tree, check whether it is a mirror of itself (i.e., symmetric around its center).\n",
    "\n",
    "## Example 1\n",
    "\n",
    "<center>\n",
    "\n",
    "![](https://assets.leetcode.com/uploads/2021/02/19/symtree1.jpg)\n",
    "\n",
    "</center>\n",
    "\n",
    "```c++\n",
    "Input: root = [1,2,2,3,4,4,3]\n",
    "Output: true\n",
    "```"
   ]
  },
  {
   "cell_type": "markdown",
   "metadata": {},
   "source": [
    "# House Robber III\n",
    "\n",
    "The thief has found himself a new place for his thievery again. There is only one entrance to this area, called root.\n",
    "\n",
    "Besides the root, each house has one and only one parent house. After a tour, the smart thief realized that all houses in this place form a binary tree. It will automatically contact the police if two directly-linked houses were broken into on the same night.\n",
    "\n",
    "Given the root of the binary tree, return the maximum amount of money the thief can rob without alerting the police.\n",
    "\n",
    "## Example1:\n",
    "\n",
    "<center>\n",
    "\n",
    "![](https://assets.leetcode.com/uploads/2021/03/10/rob1-tree.jpg)\n",
    "\n",
    "</center>\n",
    "\n",
    "```c++\n",
    "Input: root = [3,2,3,null,3,null,1]\n",
    "Output: 7\n",
    "Explanation: Maximum amount of money the thief can rob = 3 + 3 + 1 = 7.\n",
    "```"
   ]
  },
  {
   "cell_type": "markdown",
   "metadata": {},
   "source": [
    "# Sub Arreglo de suma Maxima\n",
    "\n",
    "Dado un arreglo de numeros enteros, retornar el subarreglo de suma maxima:\n",
    "\n",
    "\n",
    "```c++\n",
    "input = [-2,-3,4,-1,-2,1,5,-3]\n",
    "output: 4 - 1 - 2 + 1 + 5 = 7  \n",
    "```\n"
   ]
  },
  {
   "cell_type": "markdown",
   "metadata": {},
   "source": [
    "# Sub-camino de Suma Maxima!\n",
    "\n",
    "\n",
    "Dado un *arbol binario*, retornar el *sub-camino* de suma maxima.\n",
    "\n",
    "# Example\n",
    "\n",
    "<center>\n",
    "\n",
    "![](https://assets.leetcode.com/uploads/2020/10/13/exx2.jpg)\n",
    "\n",
    "</center>\n",
    "\n",
    "```c++\n",
    "Input: root = [-10,9,20,null,null,15,7]\n",
    "Output: 42\n",
    "Explanation: The optimal path is 15 -> 20 -> 7 with a path sum of 15 + 20 + 7 = 42.\n",
    "```"
   ]
  },
  {
   "cell_type": "markdown",
   "metadata": {},
   "source": [
    "# Plan de ataque... Estrategia 1: Kadane!\n",
    "\n",
    "\n",
    "<center>\n",
    "\n",
    "![](./imgs/kadane1.JPG)\n",
    "\n",
    "![](./imgs/kadane2.JPG)\n",
    "\n",
    "![](./imgs/kadane3.JPG)\n",
    "\n",
    "</center>\n",
    "\n",
    "Es como kadane!\n",
    "\n",
    "En esencia: calcular los caminos entre cada par de hojas (existe solamente 1!) y aplicar kadane a cada uno de ellos.\n",
    "\n",
    "Contra: trabajo repetido! (noten que el subcamino `<20,-10,9>` se repite)\n",
    "\n",
    "Mejora: Kadane Segmentado **TM**: en cada nodo padre, aplicamos un kadane **recursivo**:\n",
    "\n",
    "\n",
    "- Para cada hoja retornamos 2 valores: `<value:0,pvalue:0>`\n",
    "- Para cada nodo, aplicamos la funcion recursiva al hijo izquierdo e hijo derecho, dando como resultado los pares: `<lvalue,lpvalue>` y `<rvalue,rpvalue>`, y retornamos: \n",
    "\n",
    "```c++\n",
    "< value: MAX(lvalue,rvalue,pvalue, node + lpvalue + rpvalue)\n",
    ", pvalue: node + MAX(lpvalue,rpvalue)>\n",
    "```\n",
    "\n",
    "\n"
   ]
  },
  {
   "cell_type": "markdown",
   "metadata": {},
   "source": [
    "# Sabor 2.... Grafos! \n",
    "\n",
    "- Convertimos el arbol en un grafo con los arcos invertidos: si `v` es padre de `l` y `r`, entonces existen dos arcos: `(l,v)` y `(r,v)` en el grafo.\n",
    "- Añadimos un vertice sumidero `t`, el cual va a ser sucesor de todos los nodos hojas del arbol.\n",
    "- Pesamos los arcos de la siguiente manera: si `v` es padre de `l`  y `r` entonces los arcos `(l,v)` y `(r,v)` tienen peso `v.valor`.\n",
    "- Corremos bellban ford (algoritmo de costo minimo) a partir de `t`.\n",
    "- Profit: recuperamos el nodo `v` con mayor score.\n",
    "  \n",
    "\n"
   ]
  },
  {
   "cell_type": "markdown",
   "metadata": {},
   "source": [
    "# Binary Tree? You gotta pump those numbers up, those are rookie numbers. \n",
    "\n",
    "Ahora, si en vez de un binary tree, tuviesemos un rose tree?\n",
    "\n",
    "```c++\n",
    "template <typename T>\n",
    "class roseNode\n",
    "{\n",
    "    T value;\n",
    "    std::vector<T>* children;\n",
    "}\n",
    "```\n",
    "\n",
    "\n",
    "Como obtendriamos el subcamino de suma maxima?\n",
    "\n"
   ]
  },
  {
   "cell_type": "markdown",
   "metadata": {},
   "source": [
    "# Design Add and Search Words Data Structure\n",
    "\n",
    "\n",
    "Implement the WordDictionary class:\n",
    "\n",
    "- `WordDictionary()` Initializes the object.\n",
    "- `void addWord(word)` Adds word to the data structure, it can be matched later.\n",
    "- `bool search(word)` Returns true if there is any string in the data structure that matches word or false otherwise. word may contain dots `'.'` where dots can be matched with any letter.\n",
    "\n",
    "```c++\n",
    "Example:\n",
    "\n",
    "Input\n",
    "[\"WordDictionary\",\"addWord\",\"addWord\",\"addWord\",\"search\",\"search\",\"search\",\"search\"]\n",
    "[[],[\"bad\"],[\"dad\"],[\"mad\"],[\"pad\"],[\"bad\"],[\".ad\"],[\"b..\"]]\n",
    "Output\n",
    "[null,null,null,null,false,true,true,true]\n",
    "\n",
    "Explanation\n",
    "WordDictionary wordDictionary = new WordDictionary();\n",
    "wordDictionary.addWord(\"bad\");\n",
    "wordDictionary.addWord(\"dad\");\n",
    "wordDictionary.addWord(\"mad\");\n",
    "wordDictionary.search(\"pad\"); // return False\n",
    "wordDictionary.search(\"bad\"); // return True\n",
    "wordDictionary.search(\".ad\"); // return True\n",
    "wordDictionary.search(\"b..\"); // return True\n",
    "```"
   ]
  },
  {
   "cell_type": "markdown",
   "metadata": {},
   "source": [
    "# Tarea!\n",
    "\n",
    "- https://leetcode.com/problems/sum-root-to-leaf-numbers/"
   ]
  }
 ],
 "metadata": {
  "interpreter": {
   "hash": "9e3ecf769eac0321e9aab2b86f298cd61edd9ba96a03b97b489f7cba8f77f423"
  },
  "kernelspec": {
   "display_name": "C++14",
   "language": "C++14",
   "name": "xcpp14"
  },
  "language_info": {
   "codemirror_mode": "text/x-c++src",
   "file_extension": ".cpp",
   "mimetype": "text/x-c++src",
   "name": "C++14",
   "version": "14"
  },
  "orig_nbformat": 4
 },
 "nbformat": 4,
 "nbformat_minor": 2
}
