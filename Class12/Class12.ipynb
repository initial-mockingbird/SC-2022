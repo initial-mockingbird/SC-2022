{
 "cells": [
  {
   "cell_type": "code",
   "execution_count": 1,
   "metadata": {
    "vscode": {
     "languageId": "c++"
    }
   },
   "outputs": [],
   "source": [
    "#include <iostream> \n",
    "#include <stdlib.h> \n",
    "#include <string>   \n",
    "#include <cmath>    \n",
    "#include <stdexcept>\n",
    "#include <type_traits>\n",
    "//using namespace std;\n"
   ]
  },
  {
   "cell_type": "markdown",
   "metadata": {},
   "source": [
    "# Binary Tree Right Side View\n",
    "\n",
    "Given the root of a binary tree, imagine yourself standing on the right side of it, return the values of the nodes you can see ordered from top to bottom.\n",
    "\n",
    "## Example 1\n",
    "\n",
    "<center>\n",
    "\n",
    "![](https://assets.leetcode.com/uploads/2021/02/14/tree.jpg)\n",
    "\n",
    "</center>\n",
    "\n",
    "```c++\n",
    "Input: root = [1,2,3,null,5,null,4]\n",
    "Output: [1,3,4]\n",
    "```"
   ]
  },
  {
   "cell_type": "markdown",
   "metadata": {},
   "source": [
    "# Lowest Common Ancestor of a Binary Tree\n",
    "\n",
    "Given a binary tree, find the lowest common ancestor (LCA) of two given nodes in the tree.\n",
    "\n",
    "According to the definition of LCA on Wikipedia: “The lowest common ancestor is defined between two nodes p and q as the lowest node in T that has both p and q as descendants (where we allow a node to be a descendant of itself).”\n",
    "\n",
    "## Example 1:\n",
    "\n",
    "<center>\n",
    "\n",
    "![](https://assets.leetcode.com/uploads/2018/12/14/binarytree.png)\n",
    "\n",
    "</center>\n",
    "\n",
    "```c++\n",
    "Input: root = [3,5,1,6,2,0,8,null,null,7,4], p = 5, q = 1\n",
    "Output: 3\n",
    "Explanation: The LCA of nodes 5 and 1 is 3.\n",
    "```"
   ]
  },
  {
   "cell_type": "markdown",
   "metadata": {},
   "source": [
    "# Lowest Common Ancestor of a Binary SEARCH Tree\n",
    "\n",
    "lo mismo, pero ahora el arboles binario de busqueda.\n",
    "\n",
    "## Example 1\n",
    "\n",
    "<center>\n",
    "\n",
    "![](https://assets.leetcode.com/uploads/2018/12/14/binarysearchtree_improved.png)\n",
    "\n",
    "</center>\n",
    "\n",
    "\n",
    "```c++\n",
    "Input: root = [6,2,8,0,4,7,9,null,null,3,5], p = 2, q = 8\n",
    "Output: 6\n",
    "Explanation: The LCA of nodes 2 and 8 is 6.\n",
    "```"
   ]
  },
  {
   "cell_type": "markdown",
   "metadata": {},
   "source": [
    "#  Symmetric Tree\n",
    "\n",
    "Given the root of a binary tree, check whether it is a mirror of itself (i.e., symmetric around its center).\n",
    "\n",
    "## Example 1\n",
    "\n",
    "<center>\n",
    "\n",
    "![](https://assets.leetcode.com/uploads/2021/02/19/symtree1.jpg)\n",
    "\n",
    "</center>\n",
    "\n",
    "```c++\n",
    "Input: root = [1,2,2,3,4,4,3]\n",
    "Output: true\n",
    "```"
   ]
  },
  {
   "cell_type": "markdown",
   "metadata": {},
   "source": [
    "# House Robber III\n",
    "\n",
    "The thief has found himself a new place for his thievery again. There is only one entrance to this area, called root.\n",
    "\n",
    "Besides the root, each house has one and only one parent house. After a tour, the smart thief realized that all houses in this place form a binary tree. It will automatically contact the police if two directly-linked houses were broken into on the same night.\n",
    "\n",
    "Given the root of the binary tree, return the maximum amount of money the thief can rob without alerting the police.\n",
    "\n",
    "## Example1:\n",
    "\n",
    "<center>\n",
    "\n",
    "![](https://assets.leetcode.com/uploads/2021/03/10/rob1-tree.jpg)\n",
    "\n",
    "</center>\n",
    "\n",
    "```c++\n",
    "Input: root = [3,2,3,null,3,null,1]\n",
    "Output: 7\n",
    "Explanation: Maximum amount of money the thief can rob = 3 + 3 + 1 = 7.\n",
    "```"
   ]
  },
  {
   "cell_type": "markdown",
   "metadata": {},
   "source": [
    "# Tarea!\n",
    "\n",
    "- https://leetcode.com/problems/sum-root-to-leaf-numbers/"
   ]
  }
 ],
 "metadata": {
  "interpreter": {
   "hash": "9e3ecf769eac0321e9aab2b86f298cd61edd9ba96a03b97b489f7cba8f77f423"
  },
  "kernelspec": {
   "display_name": "C++14",
   "language": "C++14",
   "name": "xcpp14"
  },
  "language_info": {
   "codemirror_mode": "text/x-c++src",
   "file_extension": ".cpp",
   "mimetype": "text/x-c++src",
   "name": "C++14",
   "version": "14"
  },
  "orig_nbformat": 4
 },
 "nbformat": 4,
 "nbformat_minor": 2
}
