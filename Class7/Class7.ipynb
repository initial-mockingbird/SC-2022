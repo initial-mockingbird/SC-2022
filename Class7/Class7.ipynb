{
 "cells": [
  {
   "cell_type": "code",
   "execution_count": 65,
   "metadata": {},
   "outputs": [],
   "source": [
    "#include <iostream> // Para imprimir\n",
    "#include <stdlib.h> // Malloc/free\n",
    "#include <string>   // Jupyter no permite cosas tipo cout << 0.5 por cuestiones de tipo (<< esta definido\n",
    "                    // tanto para strings como para numeros, cual deberia tomar? error!), asi que necesitamos castear cada cosa a string.\n",
    "#include <cmath>    // math\n",
    "#include <utility>\n",
    "#include <string>\n",
    "#include <unordered_map>\n",
    "#include <iterator>\n",
    "#include <list>\n",
    "#include <stack>\n",
    "#include <tuple>\n",
    "#include <stdexcept>\n",
    "using namespace std;\n"
   ]
  },
  {
   "cell_type": "markdown",
   "metadata": {},
   "source": [
    "# Stacks (Pilas)!\n",
    "\n",
    "Un stack es una estructura de datos super simple la cual esta pensada para modelar pilas, es decir, para que algo sea un stack debe definir (por lo menos) dos operaciones:\n",
    "\n",
    "1. `Push` (empilar): empila un elemento en el tope de la pila.\n",
    "2. `Pop` (desempilar): sacar el elemento del topo de la pila.\n",
    "\n",
    "Graficamente, se puede ver asi:\n",
    "\n",
    "\n",
    "<center>\n",
    "\n",
    "![Stack](https://upload.wikimedia.org/wikipedia/commons/thumb/e/e4/Lifo_stack.svg/525px-Lifo_stack.svg.png)\n",
    "\n",
    "</center>\n",
    "\n",
    "La libreria que implementa esta interfaz de manera minimal en C++ es: `#include <stack>`, y contiene los siguientes metodos:\n",
    "\n",
    "\n",
    "* `(constructor)`: Construct stack (public member function )\n",
    "* `empty`: Test whether container is empty (public member function )\n",
    "* `size`: Return size (public member function )\n",
    "* `top`: Access next element (public member function )\n",
    "* `push`: Insert element (public member function )\n",
    "* `emplace`: Construct and insert element (public member function )\n",
    "* `pop`:  Remove top element (public member function )\n",
    "* `swap`:  Swap contents (public member function )\n",
    "\n",
    "Adicionalmente, tambien define operaciones de comparacion: `==,!=,<,<=,>,>=` y un metodo para hacer `swap`.\n",
    "\n"
   ]
  },
  {
   "cell_type": "code",
   "execution_count": 66,
   "metadata": {},
   "outputs": [],
   "source": [
    "void ejemplo(){\n",
    "    stack<int> s;\n",
    "    stack<int> s_2;\n",
    "    cout << \"esta vacio? \" << s.empty() << endl;\n",
    "\n",
    "    s.push(1);\n",
    "    s.push(2);\n",
    "    s.push(3);\n",
    "    s.push(4);\n",
    "    s.push(5);\n",
    "    s.push(6);\n",
    "\n",
    "    cout << \"esta vacio? \" << s.empty() << endl;\n",
    "    cout << \"el tope de la pila es: \" << s.top() << endl;\n",
    "    \n",
    "    cout << \"haciendo pop....\" << endl;\n",
    "    s.pop();\n",
    "\n",
    "    cout << \"el nuevo tope de la pila es: \" << s.top() << endl;\n",
    "\n",
    "    s_2.push(6);\n",
    "\n",
    "    cout << \"s_2 > s? : \" << (s_2 > s) << endl;\n",
    "\n",
    "    s_2.pop();\n",
    "\n",
    "    for (int i = 2; i < 6; i++)\n",
    "        s_2.push(i);\n",
    "    \n",
    "    cout << \"s_2 > s? : \" << (s_2 > s) << endl;\n",
    "\n",
    "}"
   ]
  },
  {
   "cell_type": "code",
   "execution_count": 67,
   "metadata": {},
   "outputs": [
    {
     "name": "stdout",
     "output_type": "stream",
     "text": [
      "esta vacio? 1\n",
      "esta vacio? 0\n",
      "el tope de la pila es: 6\n",
      "haciendo pop....\n",
      "el nuevo tope de la pila es: 5\n",
      "s_2 > s? : 1\n",
      "s_2 > s? : 1\n"
     ]
    }
   ],
   "source": [
    "ejemplo();"
   ]
  },
  {
   "cell_type": "markdown",
   "metadata": {},
   "source": [
    "# 20. Valid Parentheses\n",
    "\n",
    "Given a string `s` containing just the characters `'(', ')', '{', '}', '['` and `']'`, determine if the input string is valid.\n",
    "\n",
    "An input string is valid if:\n",
    "\n",
    "* Open brackets must be closed by the same type of brackets.\n",
    "* Open brackets must be closed in the correct order.\n",
    " \n",
    "\n",
    "**Example 1:**\n",
    "\n",
    "```c++\n",
    "Input: s = \"()\"\n",
    "Output: true\n",
    "```\n",
    "\n",
    "**Example 2:**\n",
    "\n",
    "```c++\n",
    "Input: s = \"()[]{}\"\n",
    "Output: true\n",
    "```\n",
    "\n",
    "**Example 3:**\n",
    "\n",
    "```c++\n",
    "Input: s = \"(]\"\n",
    "Output: false\n",
    "```"
   ]
  },
  {
   "cell_type": "code",
   "execution_count": 68,
   "metadata": {},
   "outputs": [],
   "source": [
    "#define OP (1)\n",
    "#define CP (-1)\n",
    "#define OB (2)\n",
    "#define CB (-2)\n",
    "#define OC (3)\n",
    "#define CC (-3)\n",
    "\n",
    "#define Matches(t1,t2) (t1 + t2 == 0)\n",
    "#define IsClosing(t1) (t1 < 0)\n",
    "#define IsOpening(t1) (!IsClosing(t1))"
   ]
  },
  {
   "cell_type": "code",
   "execution_count": 69,
   "metadata": {},
   "outputs": [],
   "source": [
    "int getType(char c){\n",
    "    switch (c)\n",
    "    {\n",
    "    \n",
    "    case '(':\n",
    "        return OP;\n",
    "    case ')':\n",
    "        return CP;\n",
    "    case '[':\n",
    "        return OB;\n",
    "    case ']':\n",
    "        return CB;\n",
    "    case '{':\n",
    "        return OC;\n",
    "    case '}':\n",
    "        return CC;\n",
    "\n",
    "    default:\n",
    "        string errMsg;\n",
    "        errMsg = \"Caracter invalido: '\";\n",
    "        errMsg += c;\n",
    "        errMsg += \"' se espera: '(' | ')' | '[' | ']' | '{' | '}'\";\n",
    "        throw invalid_argument(errMsg);\n",
    "        return -10;\n",
    "    }\n",
    "}"
   ]
  },
  {
   "cell_type": "code",
   "execution_count": 70,
   "metadata": {},
   "outputs": [],
   "source": [
    "bool operate(char c, stack<int>* s){\n",
    "    int type = getType(c);\n",
    "    int tope;\n",
    "\n",
    "    if (IsClosing(type))\n",
    "    {\n",
    "        if (s->empty())\n",
    "            return false;\n",
    "        tope = s->top();\n",
    "        if (Matches(type,tope))\n",
    "        {\n",
    "            s->pop();\n",
    "            return true;\n",
    "        }\n",
    "        return false;\n",
    "    }\n",
    "\n",
    "    s->push(type);\n",
    "        return true;\n",
    "}"
   ]
  },
  {
   "cell_type": "code",
   "execution_count": 71,
   "metadata": {},
   "outputs": [],
   "source": [
    "bool checker(string str){\n",
    "    stack<int> s;\n",
    "    \n",
    "    for (auto c : str){\n",
    "        if (!operate(c,&s))\n",
    "            return false;\n",
    "    }\n",
    "\n",
    "    return s.empty();\n",
    "}"
   ]
  },
  {
   "cell_type": "code",
   "execution_count": 72,
   "metadata": {},
   "outputs": [
    {
     "name": "stdout",
     "output_type": "stream",
     "text": [
      "1\n",
      "1\n",
      "0\n",
      "11"
     ]
    }
   ],
   "source": [
    "cout << checker(\"()\") << endl;\n",
    "cout << checker(\"()[]{}\") << endl;\n",
    "cout << checker(\"(]\") << endl;\n",
    "cout << checker(\"{([[()]])}\");\n",
    "//cout << checker(\"{([[(2)]])}\");\n",
    "cout << checker(\"{([[({[((()))]})]])}\");"
   ]
  },
  {
   "cell_type": "markdown",
   "metadata": {},
   "source": [
    "# Sunset view\n",
    "\n",
    "Given a set of buildings in an array, process the buildings from east to west and return the list of buildings that have a sunset view. If a building is shorter than another building to its west then it looses its sunset view."
   ]
  },
  {
   "cell_type": "code",
   "execution_count": 73,
   "metadata": {},
   "outputs": [],
   "source": [
    "typedef stack< tuple<int,string> > tuple_list;\n",
    "typedef tuple<int,string> building;\n"
   ]
  },
  {
   "cell_type": "code",
   "execution_count": 74,
   "metadata": {},
   "outputs": [],
   "source": [
    "void desempiladoMasivo(tuple_list* edificios, building edificio){\n",
    "    \n",
    "    while (!edificios->empty() && get<0>(edificios->top()) <= get<0>(edificio))\n",
    "        edificios->pop();\n",
    "    \n",
    "\n",
    "    edificios->push(edificio);\n",
    "\n",
    "}"
   ]
  },
  {
   "cell_type": "code",
   "execution_count": 75,
   "metadata": {},
   "outputs": [],
   "source": [
    "void sunsetView(building* edificios, int n){\n",
    "    tuple_list respuesta;\n",
    "\n",
    "    for (int i = n-1; i >= 0; i--)\n",
    "        desempiladoMasivo(&respuesta,edificios[i]); \n",
    "    \n",
    "    while(!respuesta.empty())\n",
    "    {\n",
    "        cout << get<1>(respuesta.top()) << endl;\n",
    "        respuesta.pop();\n",
    "    }\n",
    "    \n",
    "}"
   ]
  },
  {
   "cell_type": "code",
   "execution_count": 76,
   "metadata": {},
   "outputs": [
    {
     "name": "stdout",
     "output_type": "stream",
     "text": [
      "C\n",
      "A\n"
     ]
    }
   ],
   "source": [
    "/*          \n",
    "            |---|\n",
    "|---|       |   |\n",
    "| C | |---| | A |\n",
    "|   | | B | |   |\n",
    "*/\n",
    "\n",
    "\n",
    "building edificios[] = {{3,\"C\"},{2,\"B\"},{4,\"A\"}};\n",
    "\n",
    "sunsetView(edificios,3);\n",
    "\n"
   ]
  },
  {
   "cell_type": "markdown",
   "metadata": {},
   "source": [
    "# Calculadora!\n",
    "\n",
    "Se desea que modele e implemente, un programa que maneje expresiones aritmáticas sobre enteros. Este programa debe cumplir con las siguientes características:\n",
    "\n",
    "* El input vendra dado por un arreglo de strings que representa un entero en notacion postfija\n",
    "* Debe soportar las operaciones: `(+),(-),(*),(/)`.\n",
    "* Debe poder imprimir la operacion en orden infijo\n",
    "* Debe poder evaluar la operacion aritmetica:\n",
    "\n",
    "Por ejemplo, la expresion:\n",
    "\n",
    "```c++\n",
    "A B * C D / +\n",
    "```\n",
    "\n",
    "Es equivalente a multiplicar `A*B`, luego dividir `C/D`, y finalmente sumar los resultados: `A*B + C/D`\n",
    "\n",
    "La expresion: \n",
    "\n",
    "```c++\n",
    "A B C + * D /\n",
    "```\n",
    "\n",
    "Es equivalente a sumar `B+C`, luego multiplicarlo por `A`: `A*(B+C)` y finalmente dividr entre `D`:`A*(B+C)/D`\n",
    "\n",
    "La expresion: \n",
    "\n",
    "```c++\n",
    "A B C D / + *\n",
    "```\n",
    "\n",
    "Es equivalente a: `A * (B + C / D)`\n",
    "\n",
    "\n",
    "```c++\n",
    "8 3 - 8 4 4 + * + \n",
    "\n",
    "Debera imprimir:\n",
    "\n",
    "8 - 3 + 8 * (4 + 4).\n",
    "\n",
    "Y debera evaluar a:\n",
    "\n",
    "69\n",
    "\n",
    "```"
   ]
  },
  {
   "cell_type": "code",
   "execution_count": 77,
   "metadata": {},
   "outputs": [],
   "source": [
    "bool isOP(string tk){\n",
    "    return tk == \"+\" || tk == \"-\" || tk == \"*\" || tk == \"/\";\n",
    "}"
   ]
  },
  {
   "cell_type": "code",
   "execution_count": 88,
   "metadata": {},
   "outputs": [],
   "source": [
    "void calculator(list<string> tks){\n",
    "    stack<int> numeros;\n",
    "    int a,b;\n",
    "    for (string tk : tks)\n",
    "    {\n",
    "        if (isOP(tk))\n",
    "        {\n",
    "            a = numeros.top();\n",
    "            numeros.pop();\n",
    "            b = numeros.top();\n",
    "            numeros.pop();\n",
    "\n",
    "            if (tk == \"+\")\n",
    "                numeros.push(a+b);\n",
    "            if (tk == \"-\")\n",
    "                numeros.push(b-a);\n",
    "            if (tk == \"*\")\n",
    "                numeros.push(a*b);\n",
    "            if (tk == \"/\")\n",
    "                numeros.push(b/a);\n",
    "        } else\n",
    "        {\n",
    "            // como funcionaria stoi?\n",
    "            numeros.push(stoi(tk));\n",
    "        }\n",
    "    }\n",
    "\n",
    "    cout << numeros.top() << endl;\n",
    "\n",
    "}"
   ]
  },
  {
   "cell_type": "code",
   "execution_count": 89,
   "metadata": {},
   "outputs": [
    {
     "name": "stdout",
     "output_type": "stream",
     "text": [
      "8 3 - 8 4 4 + * + \n",
      "69\n"
     ]
    }
   ],
   "source": [
    "list<string> ex1;\n",
    "ex1.push_back(\"8\");\n",
    "ex1.push_back(\"3\");\n",
    "ex1.push_back(\"-\");\n",
    "ex1.push_back(\"8\");\n",
    "ex1.push_back(\"4\");\n",
    "ex1.push_back(\"4\");\n",
    "ex1.push_back(\"+\");\n",
    "ex1.push_back(\"*\");\n",
    "ex1.push_back(\"+\");\n",
    "\n",
    "\n",
    "for (auto s : ex1)\n",
    "    cout << s << ' ';\n",
    "cout << endl;\n",
    "\n",
    "calculator(ex1);"
   ]
  },
  {
   "cell_type": "markdown",
   "metadata": {},
   "source": [
    "# Problema de las N-Reinas"
   ]
  },
  {
   "cell_type": "markdown",
   "metadata": {},
   "source": [
    "# PA LA CASA....\n",
    "\n",
    "1. [Una variacion del de parentesis](https://leetcode.com/problems/simplify-path/)\n",
    "2. Transformar notacion postfija a infija (con parentesis redundantes).\n",
    "3. Transformar notacion postfija a infija (sin parentesis redundantes, y sin preocuparse por asociatividades).\n",
    "4. Transformar notacion postfija a infija (sin parentesis redundantes y preocupandose por asociatividades).\n"
   ]
  }
 ],
 "metadata": {
  "interpreter": {
   "hash": "9e3ecf769eac0321e9aab2b86f298cd61edd9ba96a03b97b489f7cba8f77f423"
  },
  "kernelspec": {
   "display_name": "C++14",
   "language": "C++14",
   "name": "xcpp14"
  },
  "language_info": {
   "codemirror_mode": "text/x-c++src",
   "file_extension": ".cpp",
   "mimetype": "text/x-c++src",
   "name": "c++",
   "version": "14"
  },
  "orig_nbformat": 4
 },
 "nbformat": 4,
 "nbformat_minor": 2
}
